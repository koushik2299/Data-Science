{
  "nbformat": 4,
  "nbformat_minor": 0,
  "metadata": {
    "colab": {
      "provenance": [],
      "authorship_tag": "ABX9TyMjq869X/stxpkjOzin0xCH",
      "include_colab_link": true
    },
    "kernelspec": {
      "name": "python3",
      "display_name": "Python 3"
    },
    "language_info": {
      "name": "python"
    }
  },
  "cells": [
    {
      "cell_type": "markdown",
      "metadata": {
        "id": "view-in-github",
        "colab_type": "text"
      },
      "source": [
        "<a href=\"https://colab.research.google.com/github/koushik2299/Data-Science/blob/main/Functions.ipynb\" target=\"_parent\"><img src=\"https://colab.research.google.com/assets/colab-badge.svg\" alt=\"Open In Colab\"/></a>"
      ]
    },
    {
      "cell_type": "markdown",
      "source": [
        "# **MAP**\n",
        "\n",
        "It iterates over each element in the list and applies the function it take two inputs <br> map(function,list) -- Returns an  map object <br><br><p>The map function is a built-in function in Python that allows you to process and transform all the items in an iterable without using an explicit loop, a technique commonly known as mapping. map applies a given function to each item of an iterable (like a list or a tuple) and returns a map object (which is an iterator). To get the result as a list or another form, you can convert this object.</p>"
      ],
      "metadata": {
        "id": "2t2xjrw0QCyj"
      }
    },
    {
      "cell_type": "code",
      "execution_count": 1,
      "metadata": {
        "id": "uS4VNqhqP_-J"
      },
      "outputs": [],
      "source": [
        "def square(a):\n",
        "  return(a**2)"
      ]
    },
    {
      "cell_type": "code",
      "source": [
        "li = [1,2,3,4]\n",
        "li = list(map(square,li))\n",
        "print(li)"
      ],
      "metadata": {
        "colab": {
          "base_uri": "https://localhost:8080/"
        },
        "id": "tLMKv87MQJmC",
        "outputId": "65a9b75a-f045-4ebf-9cdb-354d78dd728e"
      },
      "execution_count": 2,
      "outputs": [
        {
          "output_type": "stream",
          "name": "stdout",
          "text": [
            "[1, 4, 9, 16]\n"
          ]
        }
      ]
    },
    {
      "cell_type": "markdown",
      "source": [
        "# Lambda Function"
      ],
      "metadata": {
        "id": "Ox8Pwu5dQqJV"
      }
    },
    {
      "cell_type": "code",
      "source": [
        "a=lambda x,y : x+y\n",
        "a(2,3)"
      ],
      "metadata": {
        "colab": {
          "base_uri": "https://localhost:8080/"
        },
        "id": "tIvMSq-NQRcJ",
        "outputId": "6ebef77a-6de7-494a-9cd3-a8abb8f85605"
      },
      "execution_count": 3,
      "outputs": [
        {
          "output_type": "execute_result",
          "data": {
            "text/plain": [
              "5"
            ]
          },
          "metadata": {},
          "execution_count": 3
        }
      ]
    },
    {
      "cell_type": "code",
      "source": [
        "li = [1,2,3,4]\n",
        "list(map((lambda a:a*2),li))"
      ],
      "metadata": {
        "colab": {
          "base_uri": "https://localhost:8080/"
        },
        "id": "EBeBKfhITGxE",
        "outputId": "29ad62f9-64f8-414c-ba79-76c17813e7ca"
      },
      "execution_count": 5,
      "outputs": [
        {
          "output_type": "execute_result",
          "data": {
            "text/plain": [
              "[2, 4, 6, 8]"
            ]
          },
          "metadata": {},
          "execution_count": 5
        }
      ]
    },
    {
      "cell_type": "code",
      "source": [
        "example = [\"\\\"apple\\\"\",'\"ball']\n",
        "example"
      ],
      "metadata": {
        "colab": {
          "base_uri": "https://localhost:8080/"
        },
        "id": "6M0hxmU3Tpfp",
        "outputId": "5e14aa56-8b30-4894-edce-468901a71ef8"
      },
      "execution_count": 7,
      "outputs": [
        {
          "output_type": "execute_result",
          "data": {
            "text/plain": [
              "['\"apple\"', '\"ball']"
            ]
          },
          "metadata": {},
          "execution_count": 7
        }
      ]
    },
    {
      "cell_type": "code",
      "source": [
        "list( map( (lambda x:x.replace) ) )"
      ],
      "metadata": {
        "id": "KJbKSxPoTY0X"
      },
      "execution_count": null,
      "outputs": []
    }
  ]
}