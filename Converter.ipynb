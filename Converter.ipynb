{
  "nbformat": 4,
  "nbformat_minor": 0,
  "metadata": {
    "colab": {
      "provenance": [],
      "authorship_tag": "ABX9TyPTguxordm5zzCQWfkBQsr+",
      "include_colab_link": true
    },
    "kernelspec": {
      "name": "python3",
      "display_name": "Python 3"
    },
    "language_info": {
      "name": "python"
    }
  },
  "cells": [
    {
      "cell_type": "markdown",
      "metadata": {
        "id": "view-in-github",
        "colab_type": "text"
      },
      "source": [
        "<a href=\"https://colab.research.google.com/github/koushik2299/Data-Science/blob/main/Converter.ipynb\" target=\"_parent\"><img src=\"https://colab.research.google.com/assets/colab-badge.svg\" alt=\"Open In Colab\"/></a>"
      ]
    },
    {
      "cell_type": "markdown",
      "source": [
        "IPYNB To TXT file"
      ],
      "metadata": {
        "id": "g3-fkFCCss9j"
      }
    },
    {
      "cell_type": "code",
      "execution_count": null,
      "metadata": {
        "id": "aKoE5vZVsrrG"
      },
      "outputs": [],
      "source": [
        "import nbformat\n",
        "import io\n",
        "\n",
        "with io.open('/content/Sai_Koushik_HW4.ipynb', 'r') as f:\n",
        "    nb = nbformat.read(f, as_version=4)\n",
        "\n",
        "with io.open('Sai_Koushik_HW4.txt', 'w') as f:\n",
        "    for cell in nb['cells']:\n",
        "        if cell['cell_type'] == 'code':\n",
        "            f.write(cell['source'].strip())\n",
        "            f.write('\\n\\n')\n",
        "        elif cell['cell_type'] == 'markdown':\n",
        "            f.write(cell['source'].strip())\n",
        "            f.write('\\n\\n')\n"
      ]
    }
  ]
}