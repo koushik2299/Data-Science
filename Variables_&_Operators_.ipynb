{
  "nbformat": 4,
  "nbformat_minor": 0,
  "metadata": {
    "colab": {
      "provenance": [],
      "authorship_tag": "ABX9TyN166NyWbJCi0zHwNvrLA2A",
      "include_colab_link": true
    },
    "kernelspec": {
      "name": "python3",
      "display_name": "Python 3"
    },
    "language_info": {
      "name": "python"
    }
  },
  "cells": [
    {
      "cell_type": "markdown",
      "metadata": {
        "id": "view-in-github",
        "colab_type": "text"
      },
      "source": [
        "<a href=\"https://colab.research.google.com/github/koushik2299/Data-Science/blob/main/Variables_%26_Operators_.ipynb\" target=\"_parent\"><img src=\"https://colab.research.google.com/assets/colab-badge.svg\" alt=\"Open In Colab\"/></a>"
      ]
    },
    {
      "cell_type": "markdown",
      "source": [
        "## F-Strings"
      ],
      "metadata": {
        "id": "GKk1S5tkYnFa"
      }
    },
    {
      "cell_type": "code",
      "execution_count": 4,
      "metadata": {
        "colab": {
          "base_uri": "https://localhost:8080/"
        },
        "id": "EkukQc8cWWrg",
        "outputId": "f1444b5d-ee55-49a6-f79e-6bb191712b03"
      },
      "outputs": [
        {
          "output_type": "stream",
          "name": "stdout",
          "text": [
            "a value is: 3\n"
          ]
        }
      ],
      "source": [
        "a=3\n",
        "print(f\"a value is: {a}\")"
      ]
    },
    {
      "cell_type": "markdown",
      "source": [
        "## Equality Operators\n",
        "\n",
        "Following operations are present in python for equlity check operation-\n",
        "\n",
        "|Operators|Meaning|\n",
        "|-|-|\n",
        "|**is**|***a is b*** returns true if variable/identifiers a and b *points* to the *same object*|\n",
        "|**is not**|***a is not b*** returns true if variable/identifiers a and b *points* to the *different object*|\n",
        "|**==**|***a == b*** returns true if variable/identifiers a and b has same value|\n",
        "|**!=**|***a != b*** returns true if variable/identifiers a and b has different value|"
      ],
      "metadata": {
        "id": "G2UGw6GqYrrL"
      }
    },
    {
      "cell_type": "code",
      "source": [
        "a=[1,2]\n",
        "b=[1,2]"
      ],
      "metadata": {
        "id": "9Q3MXZ7hYyMD"
      },
      "execution_count": 5,
      "outputs": []
    },
    {
      "cell_type": "code",
      "source": [
        "a == b"
      ],
      "metadata": {
        "colab": {
          "base_uri": "https://localhost:8080/"
        },
        "id": "bKRtmQTUY3av",
        "outputId": "25a0158f-aad3-4aab-d27f-46215c24f11b"
      },
      "execution_count": 6,
      "outputs": [
        {
          "output_type": "execute_result",
          "data": {
            "text/plain": [
              "True"
            ]
          },
          "metadata": {},
          "execution_count": 6
        }
      ]
    },
    {
      "cell_type": "code",
      "source": [
        "a is b"
      ],
      "metadata": {
        "colab": {
          "base_uri": "https://localhost:8080/"
        },
        "id": "9_A-JyYtY6Ql",
        "outputId": "8f92dd91-e9a1-41a6-ab5c-9c5baccc9682"
      },
      "execution_count": 7,
      "outputs": [
        {
          "output_type": "execute_result",
          "data": {
            "text/plain": [
              "False"
            ]
          },
          "metadata": {},
          "execution_count": 7
        }
      ]
    },
    {
      "cell_type": "code",
      "source": [
        "print(\"Reference A:\",id(a))\n",
        "print(\"Reference B:\",id(b))"
      ],
      "metadata": {
        "colab": {
          "base_uri": "https://localhost:8080/"
        },
        "id": "J3nkq2m2Y8jH",
        "outputId": "fe440731-2a6b-42db-f0e8-dbf975a52334"
      },
      "execution_count": 14,
      "outputs": [
        {
          "output_type": "stream",
          "name": "stdout",
          "text": [
            "Reference A: 139941116728064\n",
            "Reference B: 139941116728128\n"
          ]
        }
      ]
    },
    {
      "cell_type": "markdown",
      "source": [
        "When you create two separate variables and assign them the same value, Python will usually **Optimize memory usage** by creating only one object in memory, and having both variables reference that same object. In this case, the id() function will return the same value for both variables, since they refer to the same object."
      ],
      "metadata": {
        "id": "LxAdyT_PcXFM"
      }
    },
    {
      "cell_type": "code",
      "source": [],
      "metadata": {
        "id": "_N1xYecRcWsi"
      },
      "execution_count": null,
      "outputs": []
    },
    {
      "cell_type": "code",
      "source": [],
      "metadata": {
        "id": "glNOOEBtaC6Y"
      },
      "execution_count": null,
      "outputs": []
    }
  ]
}