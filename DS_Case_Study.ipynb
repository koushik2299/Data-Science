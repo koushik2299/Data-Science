{
  "nbformat": 4,
  "nbformat_minor": 0,
  "metadata": {
    "colab": {
      "provenance": [],
      "toc_visible": true,
      "authorship_tag": "ABX9TyOCwDoEmArfRJ9bWFNxMREL",
      "include_colab_link": true
    },
    "kernelspec": {
      "name": "python3",
      "display_name": "Python 3"
    },
    "language_info": {
      "name": "python"
    }
  },
  "cells": [
    {
      "cell_type": "markdown",
      "metadata": {
        "id": "view-in-github",
        "colab_type": "text"
      },
      "source": [
        "<a href=\"https://colab.research.google.com/github/koushik2299/Data-Science/blob/main/DS_Case_Study.ipynb\" target=\"_parent\"><img src=\"https://colab.research.google.com/assets/colab-badge.svg\" alt=\"Open In Colab\"/></a>"
      ]
    },
    {
      "cell_type": "markdown",
      "source": [
        "**Data Understanding**\n",
        "\n",
        "There are **2 Data files** which consists of **Sales of Used Cars** and **Sales of New Cars**"
      ],
      "metadata": {
        "id": "yFB_3ujpJfqP"
      }
    },
    {
      "cell_type": "markdown",
      "source": [
        "**Assumptions**\n",
        "\n",
        "1. Assuming the both the data files belong to same dealer so that the customer id and vehicle id are same for both the data files"
      ],
      "metadata": {
        "id": "H9bJVFlhAswt"
      }
    },
    {
      "cell_type": "markdown",
      "source": [
        "# Libraries and Functions"
      ],
      "metadata": {
        "id": "tHs6KJ0DsUJ-"
      }
    },
    {
      "cell_type": "code",
      "source": [
        "import pandas as pd\n",
        "import numpy as np\n",
        "import matplotlib.pyplot as plt\n",
        "import seaborn as sns"
      ],
      "metadata": {
        "id": "TEjz8CLDsX4j"
      },
      "execution_count": 142,
      "outputs": []
    },
    {
      "cell_type": "code",
      "source": [
        "def unique(df):\n",
        " for col in df.columns:\n",
        "  unique_values = df[col].explode().unique()\n",
        "  typee = df[col].dtype\n",
        "  if len(unique_values) > 50:\n",
        "   print(f\"{col} has {len(unique_values)} unique values\")\n",
        "  else:\n",
        "    print(f\"{col} contains: {', '.join(map(str, unique_values))}\")\n",
        "\n",
        "def missing(df):\n",
        "  missing_count = df.isnull().sum()\n",
        "  total_values = df.shape[0]\n",
        "  missing_percentage = (missing_count / total_values) * 100\n",
        "  missing_data_summary = pd.DataFrame({\n",
        "      '\\033[1mMissing Count\\033[0m': missing_count,\n",
        "      '\\033[1mMissing Percentage\\033[0m': missing_percentage\n",
        "  })\n",
        "  print(missing_data_summary)\n",
        "\n",
        "def desc_cols(df):\n",
        "  numeric_cols = df.columns[df.dtypes!='object']\n",
        "  categorical_cols = df.columns[df.dtypes=='object']\n",
        "  print(\"\\033[1mNumber of Numerical Cols\",len(numeric_cols),\"\\033[0m\")\n",
        "  print(list(numeric_cols))\n",
        "  print('-'*85)\n",
        "  print(\"\\033[1mNumber of Catageroical Cols\",len(categorical_cols),\"\\033[0m\")\n",
        "  print(list(categorical_cols))"
      ],
      "metadata": {
        "id": "54YrUZIFsjz8"
      },
      "execution_count": 143,
      "outputs": []
    },
    {
      "cell_type": "code",
      "source": [],
      "metadata": {
        "id": "1Fx62HEvtXb8"
      },
      "execution_count": 143,
      "outputs": []
    },
    {
      "cell_type": "code",
      "source": [
        "#Loading the data\n",
        "used_df = pd.read_excel(\"/content/data.xlsx\",sheet_name=0)\n",
        "new_df = pd.read_excel(\"/content/data.xlsx\",sheet_name=1)"
      ],
      "metadata": {
        "id": "q1sQp7t02Vl7"
      },
      "execution_count": 144,
      "outputs": []
    },
    {
      "cell_type": "code",
      "source": [
        "used_df.head()"
      ],
      "metadata": {
        "colab": {
          "base_uri": "https://localhost:8080/",
          "height": 310
        },
        "id": "2OzbDWeuOsiV",
        "outputId": "bf9a6338-5dc2-4f11-a3b4-1f25c61d4793"
      },
      "execution_count": 145,
      "outputs": [
        {
          "output_type": "execute_result",
          "data": {
            "text/plain": [
              "   CUSTOMERID  VEHICLEID TRANSACTION_DATE BRAND     MODEL  \\\n",
              "0     2741953     243834       2018-01-28     C    IMPALA   \n",
              "1     2357269     243635       2017-12-27     D    MALIBU   \n",
              "2     1366119     262206       2019-08-28     G  TRAVERSE   \n",
              "3           0     267485       2019-08-29     G  CREW-CAB   \n",
              "4      482589     231904       2017-01-31     G     TAHOE   \n",
              "\n",
              "                COLOUR     ACTUAL_PRICE  DISCOUNTED RATIO  MODELYR  STORECODE  \\\n",
              "0  Silver Ice Metallic  221599.28582525          0.064453   2018.0         73   \n",
              "1  Coppertino Metallic     14654.951754          0.064372   2018.0         88   \n",
              "2         Summit White     22436.110791          0.067584   2019.0         71   \n",
              "3         Summit White     30461.502246          0.000000   2020.0         39   \n",
              "4                Black     30488.934677          0.060465   2017.0         84   \n",
              "\n",
              "  GENCO GENDER     CUS_BIRTH_DATE  \n",
              "0   SIL      F  75/01/28 00:00:00  \n",
              "1   BRO      F  95/02/12 00:00:00  \n",
              "2   WHI      F  89/09/01 00:00:00  \n",
              "3   WHI      F  84/03/20 00:00:00  \n",
              "4   BLA      M  98/10/02 00:00:00  "
            ],
            "text/html": [
              "\n",
              "  <div id=\"df-d1ff2c19-da2c-4ae3-9176-c83da6ae4bdd\" class=\"colab-df-container\">\n",
              "    <div>\n",
              "<style scoped>\n",
              "    .dataframe tbody tr th:only-of-type {\n",
              "        vertical-align: middle;\n",
              "    }\n",
              "\n",
              "    .dataframe tbody tr th {\n",
              "        vertical-align: top;\n",
              "    }\n",
              "\n",
              "    .dataframe thead th {\n",
              "        text-align: right;\n",
              "    }\n",
              "</style>\n",
              "<table border=\"1\" class=\"dataframe\">\n",
              "  <thead>\n",
              "    <tr style=\"text-align: right;\">\n",
              "      <th></th>\n",
              "      <th>CUSTOMERID</th>\n",
              "      <th>VEHICLEID</th>\n",
              "      <th>TRANSACTION_DATE</th>\n",
              "      <th>BRAND</th>\n",
              "      <th>MODEL</th>\n",
              "      <th>COLOUR</th>\n",
              "      <th>ACTUAL_PRICE</th>\n",
              "      <th>DISCOUNTED RATIO</th>\n",
              "      <th>MODELYR</th>\n",
              "      <th>STORECODE</th>\n",
              "      <th>GENCO</th>\n",
              "      <th>GENDER</th>\n",
              "      <th>CUS_BIRTH_DATE</th>\n",
              "    </tr>\n",
              "  </thead>\n",
              "  <tbody>\n",
              "    <tr>\n",
              "      <th>0</th>\n",
              "      <td>2741953</td>\n",
              "      <td>243834</td>\n",
              "      <td>2018-01-28</td>\n",
              "      <td>C</td>\n",
              "      <td>IMPALA</td>\n",
              "      <td>Silver Ice Metallic</td>\n",
              "      <td>221599.28582525</td>\n",
              "      <td>0.064453</td>\n",
              "      <td>2018.0</td>\n",
              "      <td>73</td>\n",
              "      <td>SIL</td>\n",
              "      <td>F</td>\n",
              "      <td>75/01/28 00:00:00</td>\n",
              "    </tr>\n",
              "    <tr>\n",
              "      <th>1</th>\n",
              "      <td>2357269</td>\n",
              "      <td>243635</td>\n",
              "      <td>2017-12-27</td>\n",
              "      <td>D</td>\n",
              "      <td>MALIBU</td>\n",
              "      <td>Coppertino Metallic</td>\n",
              "      <td>14654.951754</td>\n",
              "      <td>0.064372</td>\n",
              "      <td>2018.0</td>\n",
              "      <td>88</td>\n",
              "      <td>BRO</td>\n",
              "      <td>F</td>\n",
              "      <td>95/02/12 00:00:00</td>\n",
              "    </tr>\n",
              "    <tr>\n",
              "      <th>2</th>\n",
              "      <td>1366119</td>\n",
              "      <td>262206</td>\n",
              "      <td>2019-08-28</td>\n",
              "      <td>G</td>\n",
              "      <td>TRAVERSE</td>\n",
              "      <td>Summit White</td>\n",
              "      <td>22436.110791</td>\n",
              "      <td>0.067584</td>\n",
              "      <td>2019.0</td>\n",
              "      <td>71</td>\n",
              "      <td>WHI</td>\n",
              "      <td>F</td>\n",
              "      <td>89/09/01 00:00:00</td>\n",
              "    </tr>\n",
              "    <tr>\n",
              "      <th>3</th>\n",
              "      <td>0</td>\n",
              "      <td>267485</td>\n",
              "      <td>2019-08-29</td>\n",
              "      <td>G</td>\n",
              "      <td>CREW-CAB</td>\n",
              "      <td>Summit White</td>\n",
              "      <td>30461.502246</td>\n",
              "      <td>0.000000</td>\n",
              "      <td>2020.0</td>\n",
              "      <td>39</td>\n",
              "      <td>WHI</td>\n",
              "      <td>F</td>\n",
              "      <td>84/03/20 00:00:00</td>\n",
              "    </tr>\n",
              "    <tr>\n",
              "      <th>4</th>\n",
              "      <td>482589</td>\n",
              "      <td>231904</td>\n",
              "      <td>2017-01-31</td>\n",
              "      <td>G</td>\n",
              "      <td>TAHOE</td>\n",
              "      <td>Black</td>\n",
              "      <td>30488.934677</td>\n",
              "      <td>0.060465</td>\n",
              "      <td>2017.0</td>\n",
              "      <td>84</td>\n",
              "      <td>BLA</td>\n",
              "      <td>M</td>\n",
              "      <td>98/10/02 00:00:00</td>\n",
              "    </tr>\n",
              "  </tbody>\n",
              "</table>\n",
              "</div>\n",
              "    <div class=\"colab-df-buttons\">\n",
              "\n",
              "  <div class=\"colab-df-container\">\n",
              "    <button class=\"colab-df-convert\" onclick=\"convertToInteractive('df-d1ff2c19-da2c-4ae3-9176-c83da6ae4bdd')\"\n",
              "            title=\"Convert this dataframe to an interactive table.\"\n",
              "            style=\"display:none;\">\n",
              "\n",
              "  <svg xmlns=\"http://www.w3.org/2000/svg\" height=\"24px\" viewBox=\"0 -960 960 960\">\n",
              "    <path d=\"M120-120v-720h720v720H120Zm60-500h600v-160H180v160Zm220 220h160v-160H400v160Zm0 220h160v-160H400v160ZM180-400h160v-160H180v160Zm440 0h160v-160H620v160ZM180-180h160v-160H180v160Zm440 0h160v-160H620v160Z\"/>\n",
              "  </svg>\n",
              "    </button>\n",
              "\n",
              "  <style>\n",
              "    .colab-df-container {\n",
              "      display:flex;\n",
              "      gap: 12px;\n",
              "    }\n",
              "\n",
              "    .colab-df-convert {\n",
              "      background-color: #E8F0FE;\n",
              "      border: none;\n",
              "      border-radius: 50%;\n",
              "      cursor: pointer;\n",
              "      display: none;\n",
              "      fill: #1967D2;\n",
              "      height: 32px;\n",
              "      padding: 0 0 0 0;\n",
              "      width: 32px;\n",
              "    }\n",
              "\n",
              "    .colab-df-convert:hover {\n",
              "      background-color: #E2EBFA;\n",
              "      box-shadow: 0px 1px 2px rgba(60, 64, 67, 0.3), 0px 1px 3px 1px rgba(60, 64, 67, 0.15);\n",
              "      fill: #174EA6;\n",
              "    }\n",
              "\n",
              "    .colab-df-buttons div {\n",
              "      margin-bottom: 4px;\n",
              "    }\n",
              "\n",
              "    [theme=dark] .colab-df-convert {\n",
              "      background-color: #3B4455;\n",
              "      fill: #D2E3FC;\n",
              "    }\n",
              "\n",
              "    [theme=dark] .colab-df-convert:hover {\n",
              "      background-color: #434B5C;\n",
              "      box-shadow: 0px 1px 3px 1px rgba(0, 0, 0, 0.15);\n",
              "      filter: drop-shadow(0px 1px 2px rgba(0, 0, 0, 0.3));\n",
              "      fill: #FFFFFF;\n",
              "    }\n",
              "  </style>\n",
              "\n",
              "    <script>\n",
              "      const buttonEl =\n",
              "        document.querySelector('#df-d1ff2c19-da2c-4ae3-9176-c83da6ae4bdd button.colab-df-convert');\n",
              "      buttonEl.style.display =\n",
              "        google.colab.kernel.accessAllowed ? 'block' : 'none';\n",
              "\n",
              "      async function convertToInteractive(key) {\n",
              "        const element = document.querySelector('#df-d1ff2c19-da2c-4ae3-9176-c83da6ae4bdd');\n",
              "        const dataTable =\n",
              "          await google.colab.kernel.invokeFunction('convertToInteractive',\n",
              "                                                    [key], {});\n",
              "        if (!dataTable) return;\n",
              "\n",
              "        const docLinkHtml = 'Like what you see? Visit the ' +\n",
              "          '<a target=\"_blank\" href=https://colab.research.google.com/notebooks/data_table.ipynb>data table notebook</a>'\n",
              "          + ' to learn more about interactive tables.';\n",
              "        element.innerHTML = '';\n",
              "        dataTable['output_type'] = 'display_data';\n",
              "        await google.colab.output.renderOutput(dataTable, element);\n",
              "        const docLink = document.createElement('div');\n",
              "        docLink.innerHTML = docLinkHtml;\n",
              "        element.appendChild(docLink);\n",
              "      }\n",
              "    </script>\n",
              "  </div>\n",
              "\n",
              "\n",
              "<div id=\"df-0593e2d8-e649-4db2-b64c-40f32acd450f\">\n",
              "  <button class=\"colab-df-quickchart\" onclick=\"quickchart('df-0593e2d8-e649-4db2-b64c-40f32acd450f')\"\n",
              "            title=\"Suggest charts.\"\n",
              "            style=\"display:none;\">\n",
              "\n",
              "<svg xmlns=\"http://www.w3.org/2000/svg\" height=\"24px\"viewBox=\"0 0 24 24\"\n",
              "     width=\"24px\">\n",
              "    <g>\n",
              "        <path d=\"M19 3H5c-1.1 0-2 .9-2 2v14c0 1.1.9 2 2 2h14c1.1 0 2-.9 2-2V5c0-1.1-.9-2-2-2zM9 17H7v-7h2v7zm4 0h-2V7h2v10zm4 0h-2v-4h2v4z\"/>\n",
              "    </g>\n",
              "</svg>\n",
              "  </button>\n",
              "\n",
              "<style>\n",
              "  .colab-df-quickchart {\n",
              "    background-color: #E8F0FE;\n",
              "    border: none;\n",
              "    border-radius: 50%;\n",
              "    cursor: pointer;\n",
              "    display: none;\n",
              "    fill: #1967D2;\n",
              "    height: 32px;\n",
              "    padding: 0 0 0 0;\n",
              "    width: 32px;\n",
              "  }\n",
              "\n",
              "  .colab-df-quickchart:hover {\n",
              "    background-color: #E2EBFA;\n",
              "    box-shadow: 0px 1px 2px rgba(60, 64, 67, 0.3), 0px 1px 3px 1px rgba(60, 64, 67, 0.15);\n",
              "    fill: #174EA6;\n",
              "  }\n",
              "\n",
              "  [theme=dark] .colab-df-quickchart {\n",
              "    background-color: #3B4455;\n",
              "    fill: #D2E3FC;\n",
              "  }\n",
              "\n",
              "  [theme=dark] .colab-df-quickchart:hover {\n",
              "    background-color: #434B5C;\n",
              "    box-shadow: 0px 1px 3px 1px rgba(0, 0, 0, 0.15);\n",
              "    filter: drop-shadow(0px 1px 2px rgba(0, 0, 0, 0.3));\n",
              "    fill: #FFFFFF;\n",
              "  }\n",
              "</style>\n",
              "\n",
              "  <script>\n",
              "    async function quickchart(key) {\n",
              "      const charts = await google.colab.kernel.invokeFunction(\n",
              "          'suggestCharts', [key], {});\n",
              "    }\n",
              "    (() => {\n",
              "      let quickchartButtonEl =\n",
              "        document.querySelector('#df-0593e2d8-e649-4db2-b64c-40f32acd450f button');\n",
              "      quickchartButtonEl.style.display =\n",
              "        google.colab.kernel.accessAllowed ? 'block' : 'none';\n",
              "    })();\n",
              "  </script>\n",
              "</div>\n",
              "    </div>\n",
              "  </div>\n"
            ]
          },
          "metadata": {},
          "execution_count": 145
        }
      ]
    },
    {
      "cell_type": "code",
      "source": [
        "new_df.head()"
      ],
      "metadata": {
        "colab": {
          "base_uri": "https://localhost:8080/",
          "height": 206
        },
        "id": "98J0BE2X8crj",
        "outputId": "e912702d-3857-40ff-9f89-b0de5173a217"
      },
      "execution_count": 146,
      "outputs": [
        {
          "output_type": "execute_result",
          "data": {
            "text/plain": [
              "   CUSTOMERID  VEHICLEID TRANSACTION_DATE BRAND      MODEL  \\\n",
              "0      504695     165288       1897-03-11     C  CAPRICE-X   \n",
              "1      517174     165248       1997-05-06     C  CAPRICE-X   \n",
              "2        4591     165252       1997-01-29     C  CAPRICE-X   \n",
              "3      513630     165409       1997-04-27     C  CAPRICE-X   \n",
              "4        3116     165488       1997-01-11     C  CAPRICE-X   \n",
              "\n",
              "                 COLOUR  ACTUAL_PRICE  DISCOUNTED RATIO  MODELYR  STORECODE  \\\n",
              "0  Medium Adriatic Blue  1.299681e+04          0.033855     1996         38   \n",
              "1          Bright White  1.782787e+06          0.034412     1996         37   \n",
              "2       Dark Green Grey  1.094648e+04          0.000000     1996          9   \n",
              "3       Marblehead Grey  1.192797e+04          0.036173     1996         59   \n",
              "4           Dark Cherry  1.259339e+04          0.044325     1996         97   \n",
              "\n",
              "      CUS_BIRTH_DATE GENDER  \n",
              "0  75/01/28 00:00:00      F  \n",
              "1  95/02/12 00:00:00      F  \n",
              "2  89/09/01 00:00:00      F  \n",
              "3  84/03/20 00:00:00      F  \n",
              "4  98/10/02 00:00:00      M  "
            ],
            "text/html": [
              "\n",
              "  <div id=\"df-9cd9fbf8-96bf-4c5b-ba84-4a771db3fea4\" class=\"colab-df-container\">\n",
              "    <div>\n",
              "<style scoped>\n",
              "    .dataframe tbody tr th:only-of-type {\n",
              "        vertical-align: middle;\n",
              "    }\n",
              "\n",
              "    .dataframe tbody tr th {\n",
              "        vertical-align: top;\n",
              "    }\n",
              "\n",
              "    .dataframe thead th {\n",
              "        text-align: right;\n",
              "    }\n",
              "</style>\n",
              "<table border=\"1\" class=\"dataframe\">\n",
              "  <thead>\n",
              "    <tr style=\"text-align: right;\">\n",
              "      <th></th>\n",
              "      <th>CUSTOMERID</th>\n",
              "      <th>VEHICLEID</th>\n",
              "      <th>TRANSACTION_DATE</th>\n",
              "      <th>BRAND</th>\n",
              "      <th>MODEL</th>\n",
              "      <th>COLOUR</th>\n",
              "      <th>ACTUAL_PRICE</th>\n",
              "      <th>DISCOUNTED RATIO</th>\n",
              "      <th>MODELYR</th>\n",
              "      <th>STORECODE</th>\n",
              "      <th>CUS_BIRTH_DATE</th>\n",
              "      <th>GENDER</th>\n",
              "    </tr>\n",
              "  </thead>\n",
              "  <tbody>\n",
              "    <tr>\n",
              "      <th>0</th>\n",
              "      <td>504695</td>\n",
              "      <td>165288</td>\n",
              "      <td>1897-03-11</td>\n",
              "      <td>C</td>\n",
              "      <td>CAPRICE-X</td>\n",
              "      <td>Medium Adriatic Blue</td>\n",
              "      <td>1.299681e+04</td>\n",
              "      <td>0.033855</td>\n",
              "      <td>1996</td>\n",
              "      <td>38</td>\n",
              "      <td>75/01/28 00:00:00</td>\n",
              "      <td>F</td>\n",
              "    </tr>\n",
              "    <tr>\n",
              "      <th>1</th>\n",
              "      <td>517174</td>\n",
              "      <td>165248</td>\n",
              "      <td>1997-05-06</td>\n",
              "      <td>C</td>\n",
              "      <td>CAPRICE-X</td>\n",
              "      <td>Bright White</td>\n",
              "      <td>1.782787e+06</td>\n",
              "      <td>0.034412</td>\n",
              "      <td>1996</td>\n",
              "      <td>37</td>\n",
              "      <td>95/02/12 00:00:00</td>\n",
              "      <td>F</td>\n",
              "    </tr>\n",
              "    <tr>\n",
              "      <th>2</th>\n",
              "      <td>4591</td>\n",
              "      <td>165252</td>\n",
              "      <td>1997-01-29</td>\n",
              "      <td>C</td>\n",
              "      <td>CAPRICE-X</td>\n",
              "      <td>Dark Green Grey</td>\n",
              "      <td>1.094648e+04</td>\n",
              "      <td>0.000000</td>\n",
              "      <td>1996</td>\n",
              "      <td>9</td>\n",
              "      <td>89/09/01 00:00:00</td>\n",
              "      <td>F</td>\n",
              "    </tr>\n",
              "    <tr>\n",
              "      <th>3</th>\n",
              "      <td>513630</td>\n",
              "      <td>165409</td>\n",
              "      <td>1997-04-27</td>\n",
              "      <td>C</td>\n",
              "      <td>CAPRICE-X</td>\n",
              "      <td>Marblehead Grey</td>\n",
              "      <td>1.192797e+04</td>\n",
              "      <td>0.036173</td>\n",
              "      <td>1996</td>\n",
              "      <td>59</td>\n",
              "      <td>84/03/20 00:00:00</td>\n",
              "      <td>F</td>\n",
              "    </tr>\n",
              "    <tr>\n",
              "      <th>4</th>\n",
              "      <td>3116</td>\n",
              "      <td>165488</td>\n",
              "      <td>1997-01-11</td>\n",
              "      <td>C</td>\n",
              "      <td>CAPRICE-X</td>\n",
              "      <td>Dark Cherry</td>\n",
              "      <td>1.259339e+04</td>\n",
              "      <td>0.044325</td>\n",
              "      <td>1996</td>\n",
              "      <td>97</td>\n",
              "      <td>98/10/02 00:00:00</td>\n",
              "      <td>M</td>\n",
              "    </tr>\n",
              "  </tbody>\n",
              "</table>\n",
              "</div>\n",
              "    <div class=\"colab-df-buttons\">\n",
              "\n",
              "  <div class=\"colab-df-container\">\n",
              "    <button class=\"colab-df-convert\" onclick=\"convertToInteractive('df-9cd9fbf8-96bf-4c5b-ba84-4a771db3fea4')\"\n",
              "            title=\"Convert this dataframe to an interactive table.\"\n",
              "            style=\"display:none;\">\n",
              "\n",
              "  <svg xmlns=\"http://www.w3.org/2000/svg\" height=\"24px\" viewBox=\"0 -960 960 960\">\n",
              "    <path d=\"M120-120v-720h720v720H120Zm60-500h600v-160H180v160Zm220 220h160v-160H400v160Zm0 220h160v-160H400v160ZM180-400h160v-160H180v160Zm440 0h160v-160H620v160ZM180-180h160v-160H180v160Zm440 0h160v-160H620v160Z\"/>\n",
              "  </svg>\n",
              "    </button>\n",
              "\n",
              "  <style>\n",
              "    .colab-df-container {\n",
              "      display:flex;\n",
              "      gap: 12px;\n",
              "    }\n",
              "\n",
              "    .colab-df-convert {\n",
              "      background-color: #E8F0FE;\n",
              "      border: none;\n",
              "      border-radius: 50%;\n",
              "      cursor: pointer;\n",
              "      display: none;\n",
              "      fill: #1967D2;\n",
              "      height: 32px;\n",
              "      padding: 0 0 0 0;\n",
              "      width: 32px;\n",
              "    }\n",
              "\n",
              "    .colab-df-convert:hover {\n",
              "      background-color: #E2EBFA;\n",
              "      box-shadow: 0px 1px 2px rgba(60, 64, 67, 0.3), 0px 1px 3px 1px rgba(60, 64, 67, 0.15);\n",
              "      fill: #174EA6;\n",
              "    }\n",
              "\n",
              "    .colab-df-buttons div {\n",
              "      margin-bottom: 4px;\n",
              "    }\n",
              "\n",
              "    [theme=dark] .colab-df-convert {\n",
              "      background-color: #3B4455;\n",
              "      fill: #D2E3FC;\n",
              "    }\n",
              "\n",
              "    [theme=dark] .colab-df-convert:hover {\n",
              "      background-color: #434B5C;\n",
              "      box-shadow: 0px 1px 3px 1px rgba(0, 0, 0, 0.15);\n",
              "      filter: drop-shadow(0px 1px 2px rgba(0, 0, 0, 0.3));\n",
              "      fill: #FFFFFF;\n",
              "    }\n",
              "  </style>\n",
              "\n",
              "    <script>\n",
              "      const buttonEl =\n",
              "        document.querySelector('#df-9cd9fbf8-96bf-4c5b-ba84-4a771db3fea4 button.colab-df-convert');\n",
              "      buttonEl.style.display =\n",
              "        google.colab.kernel.accessAllowed ? 'block' : 'none';\n",
              "\n",
              "      async function convertToInteractive(key) {\n",
              "        const element = document.querySelector('#df-9cd9fbf8-96bf-4c5b-ba84-4a771db3fea4');\n",
              "        const dataTable =\n",
              "          await google.colab.kernel.invokeFunction('convertToInteractive',\n",
              "                                                    [key], {});\n",
              "        if (!dataTable) return;\n",
              "\n",
              "        const docLinkHtml = 'Like what you see? Visit the ' +\n",
              "          '<a target=\"_blank\" href=https://colab.research.google.com/notebooks/data_table.ipynb>data table notebook</a>'\n",
              "          + ' to learn more about interactive tables.';\n",
              "        element.innerHTML = '';\n",
              "        dataTable['output_type'] = 'display_data';\n",
              "        await google.colab.output.renderOutput(dataTable, element);\n",
              "        const docLink = document.createElement('div');\n",
              "        docLink.innerHTML = docLinkHtml;\n",
              "        element.appendChild(docLink);\n",
              "      }\n",
              "    </script>\n",
              "  </div>\n",
              "\n",
              "\n",
              "<div id=\"df-a325dea0-87b5-449b-9151-05c249b1e7d1\">\n",
              "  <button class=\"colab-df-quickchart\" onclick=\"quickchart('df-a325dea0-87b5-449b-9151-05c249b1e7d1')\"\n",
              "            title=\"Suggest charts.\"\n",
              "            style=\"display:none;\">\n",
              "\n",
              "<svg xmlns=\"http://www.w3.org/2000/svg\" height=\"24px\"viewBox=\"0 0 24 24\"\n",
              "     width=\"24px\">\n",
              "    <g>\n",
              "        <path d=\"M19 3H5c-1.1 0-2 .9-2 2v14c0 1.1.9 2 2 2h14c1.1 0 2-.9 2-2V5c0-1.1-.9-2-2-2zM9 17H7v-7h2v7zm4 0h-2V7h2v10zm4 0h-2v-4h2v4z\"/>\n",
              "    </g>\n",
              "</svg>\n",
              "  </button>\n",
              "\n",
              "<style>\n",
              "  .colab-df-quickchart {\n",
              "    background-color: #E8F0FE;\n",
              "    border: none;\n",
              "    border-radius: 50%;\n",
              "    cursor: pointer;\n",
              "    display: none;\n",
              "    fill: #1967D2;\n",
              "    height: 32px;\n",
              "    padding: 0 0 0 0;\n",
              "    width: 32px;\n",
              "  }\n",
              "\n",
              "  .colab-df-quickchart:hover {\n",
              "    background-color: #E2EBFA;\n",
              "    box-shadow: 0px 1px 2px rgba(60, 64, 67, 0.3), 0px 1px 3px 1px rgba(60, 64, 67, 0.15);\n",
              "    fill: #174EA6;\n",
              "  }\n",
              "\n",
              "  [theme=dark] .colab-df-quickchart {\n",
              "    background-color: #3B4455;\n",
              "    fill: #D2E3FC;\n",
              "  }\n",
              "\n",
              "  [theme=dark] .colab-df-quickchart:hover {\n",
              "    background-color: #434B5C;\n",
              "    box-shadow: 0px 1px 3px 1px rgba(0, 0, 0, 0.15);\n",
              "    filter: drop-shadow(0px 1px 2px rgba(0, 0, 0, 0.3));\n",
              "    fill: #FFFFFF;\n",
              "  }\n",
              "</style>\n",
              "\n",
              "  <script>\n",
              "    async function quickchart(key) {\n",
              "      const charts = await google.colab.kernel.invokeFunction(\n",
              "          'suggestCharts', [key], {});\n",
              "    }\n",
              "    (() => {\n",
              "      let quickchartButtonEl =\n",
              "        document.querySelector('#df-a325dea0-87b5-449b-9151-05c249b1e7d1 button');\n",
              "      quickchartButtonEl.style.display =\n",
              "        google.colab.kernel.accessAllowed ? 'block' : 'none';\n",
              "    })();\n",
              "  </script>\n",
              "</div>\n",
              "    </div>\n",
              "  </div>\n"
            ]
          },
          "metadata": {},
          "execution_count": 146
        }
      ]
    },
    {
      "cell_type": "markdown",
      "source": [
        "Creating a combined df"
      ],
      "metadata": {
        "id": "tWhQCQuC9N58"
      }
    },
    {
      "cell_type": "code",
      "source": [
        "tdf = pd.concat([used_df,new_df],axis=0)\n",
        "tdf.reset_index(inplace=True,drop=True)"
      ],
      "metadata": {
        "id": "5FLXEo_U9NJe"
      },
      "execution_count": 147,
      "outputs": []
    },
    {
      "cell_type": "code",
      "source": [
        "tdf.head()"
      ],
      "metadata": {
        "colab": {
          "base_uri": "https://localhost:8080/",
          "height": 310
        },
        "id": "dDYCTcFq9mDf",
        "outputId": "22897bf4-4b0d-4a80-f5d0-e3c49b083d6d"
      },
      "execution_count": 148,
      "outputs": [
        {
          "output_type": "execute_result",
          "data": {
            "text/plain": [
              "   CUSTOMERID  VEHICLEID TRANSACTION_DATE BRAND     MODEL  \\\n",
              "0     2741953     243834       2018-01-28     C    IMPALA   \n",
              "1     2357269     243635       2017-12-27     D    MALIBU   \n",
              "2     1366119     262206       2019-08-28     G  TRAVERSE   \n",
              "3           0     267485       2019-08-29     G  CREW-CAB   \n",
              "4      482589     231904       2017-01-31     G     TAHOE   \n",
              "\n",
              "                COLOUR     ACTUAL_PRICE  DISCOUNTED RATIO  MODELYR  STORECODE  \\\n",
              "0  Silver Ice Metallic  221599.28582525          0.064453   2018.0         73   \n",
              "1  Coppertino Metallic     14654.951754          0.064372   2018.0         88   \n",
              "2         Summit White     22436.110791          0.067584   2019.0         71   \n",
              "3         Summit White     30461.502246          0.000000   2020.0         39   \n",
              "4                Black     30488.934677          0.060465   2017.0         84   \n",
              "\n",
              "  GENCO GENDER     CUS_BIRTH_DATE  \n",
              "0   SIL      F  75/01/28 00:00:00  \n",
              "1   BRO      F  95/02/12 00:00:00  \n",
              "2   WHI      F  89/09/01 00:00:00  \n",
              "3   WHI      F  84/03/20 00:00:00  \n",
              "4   BLA      M  98/10/02 00:00:00  "
            ],
            "text/html": [
              "\n",
              "  <div id=\"df-c78b7390-03a7-4e99-986e-48a795df06aa\" class=\"colab-df-container\">\n",
              "    <div>\n",
              "<style scoped>\n",
              "    .dataframe tbody tr th:only-of-type {\n",
              "        vertical-align: middle;\n",
              "    }\n",
              "\n",
              "    .dataframe tbody tr th {\n",
              "        vertical-align: top;\n",
              "    }\n",
              "\n",
              "    .dataframe thead th {\n",
              "        text-align: right;\n",
              "    }\n",
              "</style>\n",
              "<table border=\"1\" class=\"dataframe\">\n",
              "  <thead>\n",
              "    <tr style=\"text-align: right;\">\n",
              "      <th></th>\n",
              "      <th>CUSTOMERID</th>\n",
              "      <th>VEHICLEID</th>\n",
              "      <th>TRANSACTION_DATE</th>\n",
              "      <th>BRAND</th>\n",
              "      <th>MODEL</th>\n",
              "      <th>COLOUR</th>\n",
              "      <th>ACTUAL_PRICE</th>\n",
              "      <th>DISCOUNTED RATIO</th>\n",
              "      <th>MODELYR</th>\n",
              "      <th>STORECODE</th>\n",
              "      <th>GENCO</th>\n",
              "      <th>GENDER</th>\n",
              "      <th>CUS_BIRTH_DATE</th>\n",
              "    </tr>\n",
              "  </thead>\n",
              "  <tbody>\n",
              "    <tr>\n",
              "      <th>0</th>\n",
              "      <td>2741953</td>\n",
              "      <td>243834</td>\n",
              "      <td>2018-01-28</td>\n",
              "      <td>C</td>\n",
              "      <td>IMPALA</td>\n",
              "      <td>Silver Ice Metallic</td>\n",
              "      <td>221599.28582525</td>\n",
              "      <td>0.064453</td>\n",
              "      <td>2018.0</td>\n",
              "      <td>73</td>\n",
              "      <td>SIL</td>\n",
              "      <td>F</td>\n",
              "      <td>75/01/28 00:00:00</td>\n",
              "    </tr>\n",
              "    <tr>\n",
              "      <th>1</th>\n",
              "      <td>2357269</td>\n",
              "      <td>243635</td>\n",
              "      <td>2017-12-27</td>\n",
              "      <td>D</td>\n",
              "      <td>MALIBU</td>\n",
              "      <td>Coppertino Metallic</td>\n",
              "      <td>14654.951754</td>\n",
              "      <td>0.064372</td>\n",
              "      <td>2018.0</td>\n",
              "      <td>88</td>\n",
              "      <td>BRO</td>\n",
              "      <td>F</td>\n",
              "      <td>95/02/12 00:00:00</td>\n",
              "    </tr>\n",
              "    <tr>\n",
              "      <th>2</th>\n",
              "      <td>1366119</td>\n",
              "      <td>262206</td>\n",
              "      <td>2019-08-28</td>\n",
              "      <td>G</td>\n",
              "      <td>TRAVERSE</td>\n",
              "      <td>Summit White</td>\n",
              "      <td>22436.110791</td>\n",
              "      <td>0.067584</td>\n",
              "      <td>2019.0</td>\n",
              "      <td>71</td>\n",
              "      <td>WHI</td>\n",
              "      <td>F</td>\n",
              "      <td>89/09/01 00:00:00</td>\n",
              "    </tr>\n",
              "    <tr>\n",
              "      <th>3</th>\n",
              "      <td>0</td>\n",
              "      <td>267485</td>\n",
              "      <td>2019-08-29</td>\n",
              "      <td>G</td>\n",
              "      <td>CREW-CAB</td>\n",
              "      <td>Summit White</td>\n",
              "      <td>30461.502246</td>\n",
              "      <td>0.000000</td>\n",
              "      <td>2020.0</td>\n",
              "      <td>39</td>\n",
              "      <td>WHI</td>\n",
              "      <td>F</td>\n",
              "      <td>84/03/20 00:00:00</td>\n",
              "    </tr>\n",
              "    <tr>\n",
              "      <th>4</th>\n",
              "      <td>482589</td>\n",
              "      <td>231904</td>\n",
              "      <td>2017-01-31</td>\n",
              "      <td>G</td>\n",
              "      <td>TAHOE</td>\n",
              "      <td>Black</td>\n",
              "      <td>30488.934677</td>\n",
              "      <td>0.060465</td>\n",
              "      <td>2017.0</td>\n",
              "      <td>84</td>\n",
              "      <td>BLA</td>\n",
              "      <td>M</td>\n",
              "      <td>98/10/02 00:00:00</td>\n",
              "    </tr>\n",
              "  </tbody>\n",
              "</table>\n",
              "</div>\n",
              "    <div class=\"colab-df-buttons\">\n",
              "\n",
              "  <div class=\"colab-df-container\">\n",
              "    <button class=\"colab-df-convert\" onclick=\"convertToInteractive('df-c78b7390-03a7-4e99-986e-48a795df06aa')\"\n",
              "            title=\"Convert this dataframe to an interactive table.\"\n",
              "            style=\"display:none;\">\n",
              "\n",
              "  <svg xmlns=\"http://www.w3.org/2000/svg\" height=\"24px\" viewBox=\"0 -960 960 960\">\n",
              "    <path d=\"M120-120v-720h720v720H120Zm60-500h600v-160H180v160Zm220 220h160v-160H400v160Zm0 220h160v-160H400v160ZM180-400h160v-160H180v160Zm440 0h160v-160H620v160ZM180-180h160v-160H180v160Zm440 0h160v-160H620v160Z\"/>\n",
              "  </svg>\n",
              "    </button>\n",
              "\n",
              "  <style>\n",
              "    .colab-df-container {\n",
              "      display:flex;\n",
              "      gap: 12px;\n",
              "    }\n",
              "\n",
              "    .colab-df-convert {\n",
              "      background-color: #E8F0FE;\n",
              "      border: none;\n",
              "      border-radius: 50%;\n",
              "      cursor: pointer;\n",
              "      display: none;\n",
              "      fill: #1967D2;\n",
              "      height: 32px;\n",
              "      padding: 0 0 0 0;\n",
              "      width: 32px;\n",
              "    }\n",
              "\n",
              "    .colab-df-convert:hover {\n",
              "      background-color: #E2EBFA;\n",
              "      box-shadow: 0px 1px 2px rgba(60, 64, 67, 0.3), 0px 1px 3px 1px rgba(60, 64, 67, 0.15);\n",
              "      fill: #174EA6;\n",
              "    }\n",
              "\n",
              "    .colab-df-buttons div {\n",
              "      margin-bottom: 4px;\n",
              "    }\n",
              "\n",
              "    [theme=dark] .colab-df-convert {\n",
              "      background-color: #3B4455;\n",
              "      fill: #D2E3FC;\n",
              "    }\n",
              "\n",
              "    [theme=dark] .colab-df-convert:hover {\n",
              "      background-color: #434B5C;\n",
              "      box-shadow: 0px 1px 3px 1px rgba(0, 0, 0, 0.15);\n",
              "      filter: drop-shadow(0px 1px 2px rgba(0, 0, 0, 0.3));\n",
              "      fill: #FFFFFF;\n",
              "    }\n",
              "  </style>\n",
              "\n",
              "    <script>\n",
              "      const buttonEl =\n",
              "        document.querySelector('#df-c78b7390-03a7-4e99-986e-48a795df06aa button.colab-df-convert');\n",
              "      buttonEl.style.display =\n",
              "        google.colab.kernel.accessAllowed ? 'block' : 'none';\n",
              "\n",
              "      async function convertToInteractive(key) {\n",
              "        const element = document.querySelector('#df-c78b7390-03a7-4e99-986e-48a795df06aa');\n",
              "        const dataTable =\n",
              "          await google.colab.kernel.invokeFunction('convertToInteractive',\n",
              "                                                    [key], {});\n",
              "        if (!dataTable) return;\n",
              "\n",
              "        const docLinkHtml = 'Like what you see? Visit the ' +\n",
              "          '<a target=\"_blank\" href=https://colab.research.google.com/notebooks/data_table.ipynb>data table notebook</a>'\n",
              "          + ' to learn more about interactive tables.';\n",
              "        element.innerHTML = '';\n",
              "        dataTable['output_type'] = 'display_data';\n",
              "        await google.colab.output.renderOutput(dataTable, element);\n",
              "        const docLink = document.createElement('div');\n",
              "        docLink.innerHTML = docLinkHtml;\n",
              "        element.appendChild(docLink);\n",
              "      }\n",
              "    </script>\n",
              "  </div>\n",
              "\n",
              "\n",
              "<div id=\"df-03b54808-43d9-4bc1-808c-3863478ec651\">\n",
              "  <button class=\"colab-df-quickchart\" onclick=\"quickchart('df-03b54808-43d9-4bc1-808c-3863478ec651')\"\n",
              "            title=\"Suggest charts.\"\n",
              "            style=\"display:none;\">\n",
              "\n",
              "<svg xmlns=\"http://www.w3.org/2000/svg\" height=\"24px\"viewBox=\"0 0 24 24\"\n",
              "     width=\"24px\">\n",
              "    <g>\n",
              "        <path d=\"M19 3H5c-1.1 0-2 .9-2 2v14c0 1.1.9 2 2 2h14c1.1 0 2-.9 2-2V5c0-1.1-.9-2-2-2zM9 17H7v-7h2v7zm4 0h-2V7h2v10zm4 0h-2v-4h2v4z\"/>\n",
              "    </g>\n",
              "</svg>\n",
              "  </button>\n",
              "\n",
              "<style>\n",
              "  .colab-df-quickchart {\n",
              "    background-color: #E8F0FE;\n",
              "    border: none;\n",
              "    border-radius: 50%;\n",
              "    cursor: pointer;\n",
              "    display: none;\n",
              "    fill: #1967D2;\n",
              "    height: 32px;\n",
              "    padding: 0 0 0 0;\n",
              "    width: 32px;\n",
              "  }\n",
              "\n",
              "  .colab-df-quickchart:hover {\n",
              "    background-color: #E2EBFA;\n",
              "    box-shadow: 0px 1px 2px rgba(60, 64, 67, 0.3), 0px 1px 3px 1px rgba(60, 64, 67, 0.15);\n",
              "    fill: #174EA6;\n",
              "  }\n",
              "\n",
              "  [theme=dark] .colab-df-quickchart {\n",
              "    background-color: #3B4455;\n",
              "    fill: #D2E3FC;\n",
              "  }\n",
              "\n",
              "  [theme=dark] .colab-df-quickchart:hover {\n",
              "    background-color: #434B5C;\n",
              "    box-shadow: 0px 1px 3px 1px rgba(0, 0, 0, 0.15);\n",
              "    filter: drop-shadow(0px 1px 2px rgba(0, 0, 0, 0.3));\n",
              "    fill: #FFFFFF;\n",
              "  }\n",
              "</style>\n",
              "\n",
              "  <script>\n",
              "    async function quickchart(key) {\n",
              "      const charts = await google.colab.kernel.invokeFunction(\n",
              "          'suggestCharts', [key], {});\n",
              "    }\n",
              "    (() => {\n",
              "      let quickchartButtonEl =\n",
              "        document.querySelector('#df-03b54808-43d9-4bc1-808c-3863478ec651 button');\n",
              "      quickchartButtonEl.style.display =\n",
              "        google.colab.kernel.accessAllowed ? 'block' : 'none';\n",
              "    })();\n",
              "  </script>\n",
              "</div>\n",
              "    </div>\n",
              "  </div>\n"
            ]
          },
          "metadata": {},
          "execution_count": 148
        }
      ]
    },
    {
      "cell_type": "code",
      "source": [
        "tdf.shape"
      ],
      "metadata": {
        "colab": {
          "base_uri": "https://localhost:8080/"
        },
        "id": "6yEKYWUP_wWi",
        "outputId": "29a02516-6551-4344-cd69-45cdeff69112"
      },
      "execution_count": 149,
      "outputs": [
        {
          "output_type": "execute_result",
          "data": {
            "text/plain": [
              "(10084, 13)"
            ]
          },
          "metadata": {},
          "execution_count": 149
        }
      ]
    },
    {
      "cell_type": "code",
      "source": [
        "df = tdf.copy()"
      ],
      "metadata": {
        "id": "CPa6Uxiu_Ewc"
      },
      "execution_count": 150,
      "outputs": []
    },
    {
      "cell_type": "code",
      "source": [
        "df.shape"
      ],
      "metadata": {
        "colab": {
          "base_uri": "https://localhost:8080/"
        },
        "id": "zPb2tPNq_ySc",
        "outputId": "533edda3-e3dc-49d9-93cb-efa4c0bcfe33"
      },
      "execution_count": 151,
      "outputs": [
        {
          "output_type": "execute_result",
          "data": {
            "text/plain": [
              "(10084, 13)"
            ]
          },
          "metadata": {},
          "execution_count": 151
        }
      ]
    },
    {
      "cell_type": "markdown",
      "source": [
        "Seems Like there are few Unwanted Symbols in the dataset so lets remove them using Regx Expressions"
      ],
      "metadata": {
        "id": "xhSwDIFYg4EI"
      }
    },
    {
      "cell_type": "code",
      "source": [
        "unwanted_symbols = r'[^\\d.]'  # Regular expression to match unwanted symbols\n",
        "df['ACTUAL_PRICE'] = df['ACTUAL_PRICE'].replace(unwanted_symbols, '', regex=True)\n",
        "# Regex is True means considereing the variable as representative of Regular expression not a regular variable so that we get access to all the funcanalities of\n",
        "# the regular expressions.\n"
      ],
      "metadata": {
        "id": "bq0KQjbcNvU-"
      },
      "execution_count": 152,
      "outputs": []
    },
    {
      "cell_type": "code",
      "source": [
        "df.head()"
      ],
      "metadata": {
        "colab": {
          "base_uri": "https://localhost:8080/",
          "height": 310
        },
        "id": "TKTcaW9-OmGW",
        "outputId": "81990ce3-9965-42e8-9ffd-6d7bda580dd1"
      },
      "execution_count": 153,
      "outputs": [
        {
          "output_type": "execute_result",
          "data": {
            "text/plain": [
              "   CUSTOMERID  VEHICLEID TRANSACTION_DATE BRAND     MODEL  \\\n",
              "0     2741953     243834       2018-01-28     C    IMPALA   \n",
              "1     2357269     243635       2017-12-27     D    MALIBU   \n",
              "2     1366119     262206       2019-08-28     G  TRAVERSE   \n",
              "3           0     267485       2019-08-29     G  CREW-CAB   \n",
              "4      482589     231904       2017-01-31     G     TAHOE   \n",
              "\n",
              "                COLOUR     ACTUAL_PRICE  DISCOUNTED RATIO  MODELYR  STORECODE  \\\n",
              "0  Silver Ice Metallic  221599.28582525          0.064453   2018.0         73   \n",
              "1  Coppertino Metallic     14654.951754          0.064372   2018.0         88   \n",
              "2         Summit White     22436.110791          0.067584   2019.0         71   \n",
              "3         Summit White     30461.502246          0.000000   2020.0         39   \n",
              "4                Black     30488.934677          0.060465   2017.0         84   \n",
              "\n",
              "  GENCO GENDER     CUS_BIRTH_DATE  \n",
              "0   SIL      F  75/01/28 00:00:00  \n",
              "1   BRO      F  95/02/12 00:00:00  \n",
              "2   WHI      F  89/09/01 00:00:00  \n",
              "3   WHI      F  84/03/20 00:00:00  \n",
              "4   BLA      M  98/10/02 00:00:00  "
            ],
            "text/html": [
              "\n",
              "  <div id=\"df-2ece7e2f-32ae-4563-af67-bb988b6613d0\" class=\"colab-df-container\">\n",
              "    <div>\n",
              "<style scoped>\n",
              "    .dataframe tbody tr th:only-of-type {\n",
              "        vertical-align: middle;\n",
              "    }\n",
              "\n",
              "    .dataframe tbody tr th {\n",
              "        vertical-align: top;\n",
              "    }\n",
              "\n",
              "    .dataframe thead th {\n",
              "        text-align: right;\n",
              "    }\n",
              "</style>\n",
              "<table border=\"1\" class=\"dataframe\">\n",
              "  <thead>\n",
              "    <tr style=\"text-align: right;\">\n",
              "      <th></th>\n",
              "      <th>CUSTOMERID</th>\n",
              "      <th>VEHICLEID</th>\n",
              "      <th>TRANSACTION_DATE</th>\n",
              "      <th>BRAND</th>\n",
              "      <th>MODEL</th>\n",
              "      <th>COLOUR</th>\n",
              "      <th>ACTUAL_PRICE</th>\n",
              "      <th>DISCOUNTED RATIO</th>\n",
              "      <th>MODELYR</th>\n",
              "      <th>STORECODE</th>\n",
              "      <th>GENCO</th>\n",
              "      <th>GENDER</th>\n",
              "      <th>CUS_BIRTH_DATE</th>\n",
              "    </tr>\n",
              "  </thead>\n",
              "  <tbody>\n",
              "    <tr>\n",
              "      <th>0</th>\n",
              "      <td>2741953</td>\n",
              "      <td>243834</td>\n",
              "      <td>2018-01-28</td>\n",
              "      <td>C</td>\n",
              "      <td>IMPALA</td>\n",
              "      <td>Silver Ice Metallic</td>\n",
              "      <td>221599.28582525</td>\n",
              "      <td>0.064453</td>\n",
              "      <td>2018.0</td>\n",
              "      <td>73</td>\n",
              "      <td>SIL</td>\n",
              "      <td>F</td>\n",
              "      <td>75/01/28 00:00:00</td>\n",
              "    </tr>\n",
              "    <tr>\n",
              "      <th>1</th>\n",
              "      <td>2357269</td>\n",
              "      <td>243635</td>\n",
              "      <td>2017-12-27</td>\n",
              "      <td>D</td>\n",
              "      <td>MALIBU</td>\n",
              "      <td>Coppertino Metallic</td>\n",
              "      <td>14654.951754</td>\n",
              "      <td>0.064372</td>\n",
              "      <td>2018.0</td>\n",
              "      <td>88</td>\n",
              "      <td>BRO</td>\n",
              "      <td>F</td>\n",
              "      <td>95/02/12 00:00:00</td>\n",
              "    </tr>\n",
              "    <tr>\n",
              "      <th>2</th>\n",
              "      <td>1366119</td>\n",
              "      <td>262206</td>\n",
              "      <td>2019-08-28</td>\n",
              "      <td>G</td>\n",
              "      <td>TRAVERSE</td>\n",
              "      <td>Summit White</td>\n",
              "      <td>22436.110791</td>\n",
              "      <td>0.067584</td>\n",
              "      <td>2019.0</td>\n",
              "      <td>71</td>\n",
              "      <td>WHI</td>\n",
              "      <td>F</td>\n",
              "      <td>89/09/01 00:00:00</td>\n",
              "    </tr>\n",
              "    <tr>\n",
              "      <th>3</th>\n",
              "      <td>0</td>\n",
              "      <td>267485</td>\n",
              "      <td>2019-08-29</td>\n",
              "      <td>G</td>\n",
              "      <td>CREW-CAB</td>\n",
              "      <td>Summit White</td>\n",
              "      <td>30461.502246</td>\n",
              "      <td>0.000000</td>\n",
              "      <td>2020.0</td>\n",
              "      <td>39</td>\n",
              "      <td>WHI</td>\n",
              "      <td>F</td>\n",
              "      <td>84/03/20 00:00:00</td>\n",
              "    </tr>\n",
              "    <tr>\n",
              "      <th>4</th>\n",
              "      <td>482589</td>\n",
              "      <td>231904</td>\n",
              "      <td>2017-01-31</td>\n",
              "      <td>G</td>\n",
              "      <td>TAHOE</td>\n",
              "      <td>Black</td>\n",
              "      <td>30488.934677</td>\n",
              "      <td>0.060465</td>\n",
              "      <td>2017.0</td>\n",
              "      <td>84</td>\n",
              "      <td>BLA</td>\n",
              "      <td>M</td>\n",
              "      <td>98/10/02 00:00:00</td>\n",
              "    </tr>\n",
              "  </tbody>\n",
              "</table>\n",
              "</div>\n",
              "    <div class=\"colab-df-buttons\">\n",
              "\n",
              "  <div class=\"colab-df-container\">\n",
              "    <button class=\"colab-df-convert\" onclick=\"convertToInteractive('df-2ece7e2f-32ae-4563-af67-bb988b6613d0')\"\n",
              "            title=\"Convert this dataframe to an interactive table.\"\n",
              "            style=\"display:none;\">\n",
              "\n",
              "  <svg xmlns=\"http://www.w3.org/2000/svg\" height=\"24px\" viewBox=\"0 -960 960 960\">\n",
              "    <path d=\"M120-120v-720h720v720H120Zm60-500h600v-160H180v160Zm220 220h160v-160H400v160Zm0 220h160v-160H400v160ZM180-400h160v-160H180v160Zm440 0h160v-160H620v160ZM180-180h160v-160H180v160Zm440 0h160v-160H620v160Z\"/>\n",
              "  </svg>\n",
              "    </button>\n",
              "\n",
              "  <style>\n",
              "    .colab-df-container {\n",
              "      display:flex;\n",
              "      gap: 12px;\n",
              "    }\n",
              "\n",
              "    .colab-df-convert {\n",
              "      background-color: #E8F0FE;\n",
              "      border: none;\n",
              "      border-radius: 50%;\n",
              "      cursor: pointer;\n",
              "      display: none;\n",
              "      fill: #1967D2;\n",
              "      height: 32px;\n",
              "      padding: 0 0 0 0;\n",
              "      width: 32px;\n",
              "    }\n",
              "\n",
              "    .colab-df-convert:hover {\n",
              "      background-color: #E2EBFA;\n",
              "      box-shadow: 0px 1px 2px rgba(60, 64, 67, 0.3), 0px 1px 3px 1px rgba(60, 64, 67, 0.15);\n",
              "      fill: #174EA6;\n",
              "    }\n",
              "\n",
              "    .colab-df-buttons div {\n",
              "      margin-bottom: 4px;\n",
              "    }\n",
              "\n",
              "    [theme=dark] .colab-df-convert {\n",
              "      background-color: #3B4455;\n",
              "      fill: #D2E3FC;\n",
              "    }\n",
              "\n",
              "    [theme=dark] .colab-df-convert:hover {\n",
              "      background-color: #434B5C;\n",
              "      box-shadow: 0px 1px 3px 1px rgba(0, 0, 0, 0.15);\n",
              "      filter: drop-shadow(0px 1px 2px rgba(0, 0, 0, 0.3));\n",
              "      fill: #FFFFFF;\n",
              "    }\n",
              "  </style>\n",
              "\n",
              "    <script>\n",
              "      const buttonEl =\n",
              "        document.querySelector('#df-2ece7e2f-32ae-4563-af67-bb988b6613d0 button.colab-df-convert');\n",
              "      buttonEl.style.display =\n",
              "        google.colab.kernel.accessAllowed ? 'block' : 'none';\n",
              "\n",
              "      async function convertToInteractive(key) {\n",
              "        const element = document.querySelector('#df-2ece7e2f-32ae-4563-af67-bb988b6613d0');\n",
              "        const dataTable =\n",
              "          await google.colab.kernel.invokeFunction('convertToInteractive',\n",
              "                                                    [key], {});\n",
              "        if (!dataTable) return;\n",
              "\n",
              "        const docLinkHtml = 'Like what you see? Visit the ' +\n",
              "          '<a target=\"_blank\" href=https://colab.research.google.com/notebooks/data_table.ipynb>data table notebook</a>'\n",
              "          + ' to learn more about interactive tables.';\n",
              "        element.innerHTML = '';\n",
              "        dataTable['output_type'] = 'display_data';\n",
              "        await google.colab.output.renderOutput(dataTable, element);\n",
              "        const docLink = document.createElement('div');\n",
              "        docLink.innerHTML = docLinkHtml;\n",
              "        element.appendChild(docLink);\n",
              "      }\n",
              "    </script>\n",
              "  </div>\n",
              "\n",
              "\n",
              "<div id=\"df-4e747dee-f185-4774-a623-817e28e1bf2b\">\n",
              "  <button class=\"colab-df-quickchart\" onclick=\"quickchart('df-4e747dee-f185-4774-a623-817e28e1bf2b')\"\n",
              "            title=\"Suggest charts.\"\n",
              "            style=\"display:none;\">\n",
              "\n",
              "<svg xmlns=\"http://www.w3.org/2000/svg\" height=\"24px\"viewBox=\"0 0 24 24\"\n",
              "     width=\"24px\">\n",
              "    <g>\n",
              "        <path d=\"M19 3H5c-1.1 0-2 .9-2 2v14c0 1.1.9 2 2 2h14c1.1 0 2-.9 2-2V5c0-1.1-.9-2-2-2zM9 17H7v-7h2v7zm4 0h-2V7h2v10zm4 0h-2v-4h2v4z\"/>\n",
              "    </g>\n",
              "</svg>\n",
              "  </button>\n",
              "\n",
              "<style>\n",
              "  .colab-df-quickchart {\n",
              "    background-color: #E8F0FE;\n",
              "    border: none;\n",
              "    border-radius: 50%;\n",
              "    cursor: pointer;\n",
              "    display: none;\n",
              "    fill: #1967D2;\n",
              "    height: 32px;\n",
              "    padding: 0 0 0 0;\n",
              "    width: 32px;\n",
              "  }\n",
              "\n",
              "  .colab-df-quickchart:hover {\n",
              "    background-color: #E2EBFA;\n",
              "    box-shadow: 0px 1px 2px rgba(60, 64, 67, 0.3), 0px 1px 3px 1px rgba(60, 64, 67, 0.15);\n",
              "    fill: #174EA6;\n",
              "  }\n",
              "\n",
              "  [theme=dark] .colab-df-quickchart {\n",
              "    background-color: #3B4455;\n",
              "    fill: #D2E3FC;\n",
              "  }\n",
              "\n",
              "  [theme=dark] .colab-df-quickchart:hover {\n",
              "    background-color: #434B5C;\n",
              "    box-shadow: 0px 1px 3px 1px rgba(0, 0, 0, 0.15);\n",
              "    filter: drop-shadow(0px 1px 2px rgba(0, 0, 0, 0.3));\n",
              "    fill: #FFFFFF;\n",
              "  }\n",
              "</style>\n",
              "\n",
              "  <script>\n",
              "    async function quickchart(key) {\n",
              "      const charts = await google.colab.kernel.invokeFunction(\n",
              "          'suggestCharts', [key], {});\n",
              "    }\n",
              "    (() => {\n",
              "      let quickchartButtonEl =\n",
              "        document.querySelector('#df-4e747dee-f185-4774-a623-817e28e1bf2b button');\n",
              "      quickchartButtonEl.style.display =\n",
              "        google.colab.kernel.accessAllowed ? 'block' : 'none';\n",
              "    })();\n",
              "  </script>\n",
              "</div>\n",
              "    </div>\n",
              "  </div>\n"
            ]
          },
          "metadata": {},
          "execution_count": 153
        }
      ]
    },
    {
      "cell_type": "markdown",
      "source": [
        "# Sales of Total Data **EDA**"
      ],
      "metadata": {
        "id": "XyK7Zjm94IFD"
      }
    },
    {
      "cell_type": "code",
      "source": [
        "tdf.head()"
      ],
      "metadata": {
        "colab": {
          "base_uri": "https://localhost:8080/",
          "height": 310
        },
        "id": "61fNPKlE2xG1",
        "outputId": "8b05a72d-b79a-48e0-c02f-8d8e8c95cd1c"
      },
      "execution_count": 154,
      "outputs": [
        {
          "output_type": "execute_result",
          "data": {
            "text/plain": [
              "   CUSTOMERID  VEHICLEID TRANSACTION_DATE BRAND     MODEL  \\\n",
              "0     2741953     243834       2018-01-28     C    IMPALA   \n",
              "1     2357269     243635       2017-12-27     D    MALIBU   \n",
              "2     1366119     262206       2019-08-28     G  TRAVERSE   \n",
              "3           0     267485       2019-08-29     G  CREW-CAB   \n",
              "4      482589     231904       2017-01-31     G     TAHOE   \n",
              "\n",
              "                COLOUR     ACTUAL_PRICE  DISCOUNTED RATIO  MODELYR  STORECODE  \\\n",
              "0  Silver Ice Metallic  221599.28582525          0.064453   2018.0         73   \n",
              "1  Coppertino Metallic     14654.951754          0.064372   2018.0         88   \n",
              "2         Summit White     22436.110791          0.067584   2019.0         71   \n",
              "3         Summit White     30461.502246          0.000000   2020.0         39   \n",
              "4                Black     30488.934677          0.060465   2017.0         84   \n",
              "\n",
              "  GENCO GENDER     CUS_BIRTH_DATE  \n",
              "0   SIL      F  75/01/28 00:00:00  \n",
              "1   BRO      F  95/02/12 00:00:00  \n",
              "2   WHI      F  89/09/01 00:00:00  \n",
              "3   WHI      F  84/03/20 00:00:00  \n",
              "4   BLA      M  98/10/02 00:00:00  "
            ],
            "text/html": [
              "\n",
              "  <div id=\"df-e4f052c2-d1f8-4649-9a0f-6db312ec17fa\" class=\"colab-df-container\">\n",
              "    <div>\n",
              "<style scoped>\n",
              "    .dataframe tbody tr th:only-of-type {\n",
              "        vertical-align: middle;\n",
              "    }\n",
              "\n",
              "    .dataframe tbody tr th {\n",
              "        vertical-align: top;\n",
              "    }\n",
              "\n",
              "    .dataframe thead th {\n",
              "        text-align: right;\n",
              "    }\n",
              "</style>\n",
              "<table border=\"1\" class=\"dataframe\">\n",
              "  <thead>\n",
              "    <tr style=\"text-align: right;\">\n",
              "      <th></th>\n",
              "      <th>CUSTOMERID</th>\n",
              "      <th>VEHICLEID</th>\n",
              "      <th>TRANSACTION_DATE</th>\n",
              "      <th>BRAND</th>\n",
              "      <th>MODEL</th>\n",
              "      <th>COLOUR</th>\n",
              "      <th>ACTUAL_PRICE</th>\n",
              "      <th>DISCOUNTED RATIO</th>\n",
              "      <th>MODELYR</th>\n",
              "      <th>STORECODE</th>\n",
              "      <th>GENCO</th>\n",
              "      <th>GENDER</th>\n",
              "      <th>CUS_BIRTH_DATE</th>\n",
              "    </tr>\n",
              "  </thead>\n",
              "  <tbody>\n",
              "    <tr>\n",
              "      <th>0</th>\n",
              "      <td>2741953</td>\n",
              "      <td>243834</td>\n",
              "      <td>2018-01-28</td>\n",
              "      <td>C</td>\n",
              "      <td>IMPALA</td>\n",
              "      <td>Silver Ice Metallic</td>\n",
              "      <td>221599.28582525</td>\n",
              "      <td>0.064453</td>\n",
              "      <td>2018.0</td>\n",
              "      <td>73</td>\n",
              "      <td>SIL</td>\n",
              "      <td>F</td>\n",
              "      <td>75/01/28 00:00:00</td>\n",
              "    </tr>\n",
              "    <tr>\n",
              "      <th>1</th>\n",
              "      <td>2357269</td>\n",
              "      <td>243635</td>\n",
              "      <td>2017-12-27</td>\n",
              "      <td>D</td>\n",
              "      <td>MALIBU</td>\n",
              "      <td>Coppertino Metallic</td>\n",
              "      <td>14654.951754</td>\n",
              "      <td>0.064372</td>\n",
              "      <td>2018.0</td>\n",
              "      <td>88</td>\n",
              "      <td>BRO</td>\n",
              "      <td>F</td>\n",
              "      <td>95/02/12 00:00:00</td>\n",
              "    </tr>\n",
              "    <tr>\n",
              "      <th>2</th>\n",
              "      <td>1366119</td>\n",
              "      <td>262206</td>\n",
              "      <td>2019-08-28</td>\n",
              "      <td>G</td>\n",
              "      <td>TRAVERSE</td>\n",
              "      <td>Summit White</td>\n",
              "      <td>22436.110791</td>\n",
              "      <td>0.067584</td>\n",
              "      <td>2019.0</td>\n",
              "      <td>71</td>\n",
              "      <td>WHI</td>\n",
              "      <td>F</td>\n",
              "      <td>89/09/01 00:00:00</td>\n",
              "    </tr>\n",
              "    <tr>\n",
              "      <th>3</th>\n",
              "      <td>0</td>\n",
              "      <td>267485</td>\n",
              "      <td>2019-08-29</td>\n",
              "      <td>G</td>\n",
              "      <td>CREW-CAB</td>\n",
              "      <td>Summit White</td>\n",
              "      <td>30461.502246</td>\n",
              "      <td>0.000000</td>\n",
              "      <td>2020.0</td>\n",
              "      <td>39</td>\n",
              "      <td>WHI</td>\n",
              "      <td>F</td>\n",
              "      <td>84/03/20 00:00:00</td>\n",
              "    </tr>\n",
              "    <tr>\n",
              "      <th>4</th>\n",
              "      <td>482589</td>\n",
              "      <td>231904</td>\n",
              "      <td>2017-01-31</td>\n",
              "      <td>G</td>\n",
              "      <td>TAHOE</td>\n",
              "      <td>Black</td>\n",
              "      <td>30488.934677</td>\n",
              "      <td>0.060465</td>\n",
              "      <td>2017.0</td>\n",
              "      <td>84</td>\n",
              "      <td>BLA</td>\n",
              "      <td>M</td>\n",
              "      <td>98/10/02 00:00:00</td>\n",
              "    </tr>\n",
              "  </tbody>\n",
              "</table>\n",
              "</div>\n",
              "    <div class=\"colab-df-buttons\">\n",
              "\n",
              "  <div class=\"colab-df-container\">\n",
              "    <button class=\"colab-df-convert\" onclick=\"convertToInteractive('df-e4f052c2-d1f8-4649-9a0f-6db312ec17fa')\"\n",
              "            title=\"Convert this dataframe to an interactive table.\"\n",
              "            style=\"display:none;\">\n",
              "\n",
              "  <svg xmlns=\"http://www.w3.org/2000/svg\" height=\"24px\" viewBox=\"0 -960 960 960\">\n",
              "    <path d=\"M120-120v-720h720v720H120Zm60-500h600v-160H180v160Zm220 220h160v-160H400v160Zm0 220h160v-160H400v160ZM180-400h160v-160H180v160Zm440 0h160v-160H620v160ZM180-180h160v-160H180v160Zm440 0h160v-160H620v160Z\"/>\n",
              "  </svg>\n",
              "    </button>\n",
              "\n",
              "  <style>\n",
              "    .colab-df-container {\n",
              "      display:flex;\n",
              "      gap: 12px;\n",
              "    }\n",
              "\n",
              "    .colab-df-convert {\n",
              "      background-color: #E8F0FE;\n",
              "      border: none;\n",
              "      border-radius: 50%;\n",
              "      cursor: pointer;\n",
              "      display: none;\n",
              "      fill: #1967D2;\n",
              "      height: 32px;\n",
              "      padding: 0 0 0 0;\n",
              "      width: 32px;\n",
              "    }\n",
              "\n",
              "    .colab-df-convert:hover {\n",
              "      background-color: #E2EBFA;\n",
              "      box-shadow: 0px 1px 2px rgba(60, 64, 67, 0.3), 0px 1px 3px 1px rgba(60, 64, 67, 0.15);\n",
              "      fill: #174EA6;\n",
              "    }\n",
              "\n",
              "    .colab-df-buttons div {\n",
              "      margin-bottom: 4px;\n",
              "    }\n",
              "\n",
              "    [theme=dark] .colab-df-convert {\n",
              "      background-color: #3B4455;\n",
              "      fill: #D2E3FC;\n",
              "    }\n",
              "\n",
              "    [theme=dark] .colab-df-convert:hover {\n",
              "      background-color: #434B5C;\n",
              "      box-shadow: 0px 1px 3px 1px rgba(0, 0, 0, 0.15);\n",
              "      filter: drop-shadow(0px 1px 2px rgba(0, 0, 0, 0.3));\n",
              "      fill: #FFFFFF;\n",
              "    }\n",
              "  </style>\n",
              "\n",
              "    <script>\n",
              "      const buttonEl =\n",
              "        document.querySelector('#df-e4f052c2-d1f8-4649-9a0f-6db312ec17fa button.colab-df-convert');\n",
              "      buttonEl.style.display =\n",
              "        google.colab.kernel.accessAllowed ? 'block' : 'none';\n",
              "\n",
              "      async function convertToInteractive(key) {\n",
              "        const element = document.querySelector('#df-e4f052c2-d1f8-4649-9a0f-6db312ec17fa');\n",
              "        const dataTable =\n",
              "          await google.colab.kernel.invokeFunction('convertToInteractive',\n",
              "                                                    [key], {});\n",
              "        if (!dataTable) return;\n",
              "\n",
              "        const docLinkHtml = 'Like what you see? Visit the ' +\n",
              "          '<a target=\"_blank\" href=https://colab.research.google.com/notebooks/data_table.ipynb>data table notebook</a>'\n",
              "          + ' to learn more about interactive tables.';\n",
              "        element.innerHTML = '';\n",
              "        dataTable['output_type'] = 'display_data';\n",
              "        await google.colab.output.renderOutput(dataTable, element);\n",
              "        const docLink = document.createElement('div');\n",
              "        docLink.innerHTML = docLinkHtml;\n",
              "        element.appendChild(docLink);\n",
              "      }\n",
              "    </script>\n",
              "  </div>\n",
              "\n",
              "\n",
              "<div id=\"df-9a407aa4-8fd9-45cf-8e01-224e19ec6d04\">\n",
              "  <button class=\"colab-df-quickchart\" onclick=\"quickchart('df-9a407aa4-8fd9-45cf-8e01-224e19ec6d04')\"\n",
              "            title=\"Suggest charts.\"\n",
              "            style=\"display:none;\">\n",
              "\n",
              "<svg xmlns=\"http://www.w3.org/2000/svg\" height=\"24px\"viewBox=\"0 0 24 24\"\n",
              "     width=\"24px\">\n",
              "    <g>\n",
              "        <path d=\"M19 3H5c-1.1 0-2 .9-2 2v14c0 1.1.9 2 2 2h14c1.1 0 2-.9 2-2V5c0-1.1-.9-2-2-2zM9 17H7v-7h2v7zm4 0h-2V7h2v10zm4 0h-2v-4h2v4z\"/>\n",
              "    </g>\n",
              "</svg>\n",
              "  </button>\n",
              "\n",
              "<style>\n",
              "  .colab-df-quickchart {\n",
              "    background-color: #E8F0FE;\n",
              "    border: none;\n",
              "    border-radius: 50%;\n",
              "    cursor: pointer;\n",
              "    display: none;\n",
              "    fill: #1967D2;\n",
              "    height: 32px;\n",
              "    padding: 0 0 0 0;\n",
              "    width: 32px;\n",
              "  }\n",
              "\n",
              "  .colab-df-quickchart:hover {\n",
              "    background-color: #E2EBFA;\n",
              "    box-shadow: 0px 1px 2px rgba(60, 64, 67, 0.3), 0px 1px 3px 1px rgba(60, 64, 67, 0.15);\n",
              "    fill: #174EA6;\n",
              "  }\n",
              "\n",
              "  [theme=dark] .colab-df-quickchart {\n",
              "    background-color: #3B4455;\n",
              "    fill: #D2E3FC;\n",
              "  }\n",
              "\n",
              "  [theme=dark] .colab-df-quickchart:hover {\n",
              "    background-color: #434B5C;\n",
              "    box-shadow: 0px 1px 3px 1px rgba(0, 0, 0, 0.15);\n",
              "    filter: drop-shadow(0px 1px 2px rgba(0, 0, 0, 0.3));\n",
              "    fill: #FFFFFF;\n",
              "  }\n",
              "</style>\n",
              "\n",
              "  <script>\n",
              "    async function quickchart(key) {\n",
              "      const charts = await google.colab.kernel.invokeFunction(\n",
              "          'suggestCharts', [key], {});\n",
              "    }\n",
              "    (() => {\n",
              "      let quickchartButtonEl =\n",
              "        document.querySelector('#df-9a407aa4-8fd9-45cf-8e01-224e19ec6d04 button');\n",
              "      quickchartButtonEl.style.display =\n",
              "        google.colab.kernel.accessAllowed ? 'block' : 'none';\n",
              "    })();\n",
              "  </script>\n",
              "</div>\n",
              "    </div>\n",
              "  </div>\n"
            ]
          },
          "metadata": {},
          "execution_count": 154
        }
      ]
    },
    {
      "cell_type": "markdown",
      "source": [
        "## Unique Values in the data"
      ],
      "metadata": {
        "id": "PDi-7WxIDqys"
      }
    },
    {
      "cell_type": "code",
      "source": [
        "tdf['CUSTOMERID'].value_counts()"
      ],
      "metadata": {
        "colab": {
          "base_uri": "https://localhost:8080/"
        },
        "id": "SbS5pHWYT8Wf",
        "outputId": "e6dda898-1928-43db-e79c-9536051b4a42"
      },
      "execution_count": 155,
      "outputs": [
        {
          "output_type": "execute_result",
          "data": {
            "text/plain": [
              "4591       712\n",
              "0          613\n",
              "578497     279\n",
              "613        140\n",
              "17         113\n",
              "          ... \n",
              "574469       1\n",
              "618457       1\n",
              "438724       1\n",
              "562819       1\n",
              "1950544      1\n",
              "Name: CUSTOMERID, Length: 5926, dtype: int64"
            ]
          },
          "metadata": {},
          "execution_count": 155
        }
      ]
    },
    {
      "cell_type": "code",
      "source": [
        "tdf['VEHICLEID'].value_counts()"
      ],
      "metadata": {
        "colab": {
          "base_uri": "https://localhost:8080/"
        },
        "id": "z25KpYHSUN8z",
        "outputId": "66c3b59c-b063-4bcf-e028-f6eda17ae64d"
      },
      "execution_count": 156,
      "outputs": [
        {
          "output_type": "execute_result",
          "data": {
            "text/plain": [
              "0          146\n",
              "251791       2\n",
              "241622       2\n",
              "260741       2\n",
              "258954       2\n",
              "          ... \n",
              "191300       1\n",
              "190866       1\n",
              "186870       1\n",
              "187631       1\n",
              "1754101      1\n",
              "Name: VEHICLEID, Length: 9913, dtype: int64"
            ]
          },
          "metadata": {},
          "execution_count": 156
        }
      ]
    },
    {
      "cell_type": "code",
      "source": [
        "tdf['MODEL'].value_counts()"
      ],
      "metadata": {
        "colab": {
          "base_uri": "https://localhost:8080/"
        },
        "id": "dmcyFrwsUanW",
        "outputId": "db006844-78fa-42b7-d7da-47ed08ae8d87"
      },
      "execution_count": 157,
      "outputs": [
        {
          "output_type": "execute_result",
          "data": {
            "text/plain": [
              "TAHOE       1606\n",
              "CAPRICE     1391\n",
              "LUMINA      1161\n",
              "PICK-UP      728\n",
              "BLAZER       525\n",
              "            ... \n",
              "CATERA         2\n",
              "VIEW           1\n",
              "SIGNUM         1\n",
              "COLORADO       1\n",
              "PRINCE         1\n",
              "Name: MODEL, Length: 76, dtype: int64"
            ]
          },
          "metadata": {},
          "execution_count": 157
        }
      ]
    },
    {
      "cell_type": "code",
      "source": [
        "tdf.info()"
      ],
      "metadata": {
        "colab": {
          "base_uri": "https://localhost:8080/"
        },
        "id": "rMCFFlVf5W9u",
        "outputId": "d6184ac9-df4a-4e17-aef5-acb411932c00"
      },
      "execution_count": 158,
      "outputs": [
        {
          "output_type": "stream",
          "name": "stdout",
          "text": [
            "<class 'pandas.core.frame.DataFrame'>\n",
            "RangeIndex: 10084 entries, 0 to 10083\n",
            "Data columns (total 13 columns):\n",
            " #   Column            Non-Null Count  Dtype  \n",
            "---  ------            --------------  -----  \n",
            " 0   CUSTOMERID        10084 non-null  int64  \n",
            " 1   VEHICLEID         10084 non-null  int64  \n",
            " 2   TRANSACTION_DATE  9414 non-null   object \n",
            " 3   BRAND             9932 non-null   object \n",
            " 4   MODEL             9932 non-null   object \n",
            " 5   COLOUR            9902 non-null   object \n",
            " 6   ACTUAL_PRICE      10077 non-null  object \n",
            " 7   DISCOUNTED RATIO  9908 non-null   float64\n",
            " 8   MODELYR           9932 non-null   float64\n",
            " 9   STORECODE         10084 non-null  int64  \n",
            " 10  GENCO             2774 non-null   object \n",
            " 11  GENDER            9882 non-null   object \n",
            " 12  CUS_BIRTH_DATE    8808 non-null   object \n",
            "dtypes: float64(2), int64(3), object(8)\n",
            "memory usage: 1.0+ MB\n"
          ]
        }
      ]
    },
    {
      "cell_type": "markdown",
      "source": [
        "The used cars data contains **13 features** and **10083 Observations**"
      ],
      "metadata": {
        "id": "NHS-szpEJPHd"
      }
    },
    {
      "cell_type": "markdown",
      "source": [
        "Doing some Type Conversions to make the data workable"
      ],
      "metadata": {
        "id": "nz1cv8B17G0Z"
      }
    },
    {
      "cell_type": "markdown",
      "source": [
        "Actual Price Needs to be converted to Float\n",
        "\n",
        "Date Columns need to be converted to Date Format"
      ],
      "metadata": {
        "id": "mJ8Q9bTb7P2w"
      }
    },
    {
      "cell_type": "code",
      "source": [
        "df[df['ACTUAL_PRICE']=='15.114.9461169']"
      ],
      "metadata": {
        "colab": {
          "base_uri": "https://localhost:8080/",
          "height": 115
        },
        "id": "jQ7MZCXpeOY2",
        "outputId": "4d398fa6-3ad6-46e7-a9a3-6bb93f6ecb88"
      },
      "execution_count": 159,
      "outputs": [
        {
          "output_type": "execute_result",
          "data": {
            "text/plain": [
              "      CUSTOMERID  VEHICLEID TRANSACTION_DATE BRAND    MODEL           COLOUR  \\\n",
              "2550     1011338     171611       2012-09-12     D  CAPTIVA  Smokey Eye Grey   \n",
              "\n",
              "        ACTUAL_PRICE  DISCOUNTED RATIO  MODELYR  STORECODE GENCO GENDER  \\\n",
              "2550  15.114.9461169          0.063782   2012.0         51   GRY      M   \n",
              "\n",
              "     CUS_BIRTH_DATE  \n",
              "2550            NaN  "
            ],
            "text/html": [
              "\n",
              "  <div id=\"df-3c92769d-b7b8-43b9-918f-70cfc7347f66\" class=\"colab-df-container\">\n",
              "    <div>\n",
              "<style scoped>\n",
              "    .dataframe tbody tr th:only-of-type {\n",
              "        vertical-align: middle;\n",
              "    }\n",
              "\n",
              "    .dataframe tbody tr th {\n",
              "        vertical-align: top;\n",
              "    }\n",
              "\n",
              "    .dataframe thead th {\n",
              "        text-align: right;\n",
              "    }\n",
              "</style>\n",
              "<table border=\"1\" class=\"dataframe\">\n",
              "  <thead>\n",
              "    <tr style=\"text-align: right;\">\n",
              "      <th></th>\n",
              "      <th>CUSTOMERID</th>\n",
              "      <th>VEHICLEID</th>\n",
              "      <th>TRANSACTION_DATE</th>\n",
              "      <th>BRAND</th>\n",
              "      <th>MODEL</th>\n",
              "      <th>COLOUR</th>\n",
              "      <th>ACTUAL_PRICE</th>\n",
              "      <th>DISCOUNTED RATIO</th>\n",
              "      <th>MODELYR</th>\n",
              "      <th>STORECODE</th>\n",
              "      <th>GENCO</th>\n",
              "      <th>GENDER</th>\n",
              "      <th>CUS_BIRTH_DATE</th>\n",
              "    </tr>\n",
              "  </thead>\n",
              "  <tbody>\n",
              "    <tr>\n",
              "      <th>2550</th>\n",
              "      <td>1011338</td>\n",
              "      <td>171611</td>\n",
              "      <td>2012-09-12</td>\n",
              "      <td>D</td>\n",
              "      <td>CAPTIVA</td>\n",
              "      <td>Smokey Eye Grey</td>\n",
              "      <td>15.114.9461169</td>\n",
              "      <td>0.063782</td>\n",
              "      <td>2012.0</td>\n",
              "      <td>51</td>\n",
              "      <td>GRY</td>\n",
              "      <td>M</td>\n",
              "      <td>NaN</td>\n",
              "    </tr>\n",
              "  </tbody>\n",
              "</table>\n",
              "</div>\n",
              "    <div class=\"colab-df-buttons\">\n",
              "\n",
              "  <div class=\"colab-df-container\">\n",
              "    <button class=\"colab-df-convert\" onclick=\"convertToInteractive('df-3c92769d-b7b8-43b9-918f-70cfc7347f66')\"\n",
              "            title=\"Convert this dataframe to an interactive table.\"\n",
              "            style=\"display:none;\">\n",
              "\n",
              "  <svg xmlns=\"http://www.w3.org/2000/svg\" height=\"24px\" viewBox=\"0 -960 960 960\">\n",
              "    <path d=\"M120-120v-720h720v720H120Zm60-500h600v-160H180v160Zm220 220h160v-160H400v160Zm0 220h160v-160H400v160ZM180-400h160v-160H180v160Zm440 0h160v-160H620v160ZM180-180h160v-160H180v160Zm440 0h160v-160H620v160Z\"/>\n",
              "  </svg>\n",
              "    </button>\n",
              "\n",
              "  <style>\n",
              "    .colab-df-container {\n",
              "      display:flex;\n",
              "      gap: 12px;\n",
              "    }\n",
              "\n",
              "    .colab-df-convert {\n",
              "      background-color: #E8F0FE;\n",
              "      border: none;\n",
              "      border-radius: 50%;\n",
              "      cursor: pointer;\n",
              "      display: none;\n",
              "      fill: #1967D2;\n",
              "      height: 32px;\n",
              "      padding: 0 0 0 0;\n",
              "      width: 32px;\n",
              "    }\n",
              "\n",
              "    .colab-df-convert:hover {\n",
              "      background-color: #E2EBFA;\n",
              "      box-shadow: 0px 1px 2px rgba(60, 64, 67, 0.3), 0px 1px 3px 1px rgba(60, 64, 67, 0.15);\n",
              "      fill: #174EA6;\n",
              "    }\n",
              "\n",
              "    .colab-df-buttons div {\n",
              "      margin-bottom: 4px;\n",
              "    }\n",
              "\n",
              "    [theme=dark] .colab-df-convert {\n",
              "      background-color: #3B4455;\n",
              "      fill: #D2E3FC;\n",
              "    }\n",
              "\n",
              "    [theme=dark] .colab-df-convert:hover {\n",
              "      background-color: #434B5C;\n",
              "      box-shadow: 0px 1px 3px 1px rgba(0, 0, 0, 0.15);\n",
              "      filter: drop-shadow(0px 1px 2px rgba(0, 0, 0, 0.3));\n",
              "      fill: #FFFFFF;\n",
              "    }\n",
              "  </style>\n",
              "\n",
              "    <script>\n",
              "      const buttonEl =\n",
              "        document.querySelector('#df-3c92769d-b7b8-43b9-918f-70cfc7347f66 button.colab-df-convert');\n",
              "      buttonEl.style.display =\n",
              "        google.colab.kernel.accessAllowed ? 'block' : 'none';\n",
              "\n",
              "      async function convertToInteractive(key) {\n",
              "        const element = document.querySelector('#df-3c92769d-b7b8-43b9-918f-70cfc7347f66');\n",
              "        const dataTable =\n",
              "          await google.colab.kernel.invokeFunction('convertToInteractive',\n",
              "                                                    [key], {});\n",
              "        if (!dataTable) return;\n",
              "\n",
              "        const docLinkHtml = 'Like what you see? Visit the ' +\n",
              "          '<a target=\"_blank\" href=https://colab.research.google.com/notebooks/data_table.ipynb>data table notebook</a>'\n",
              "          + ' to learn more about interactive tables.';\n",
              "        element.innerHTML = '';\n",
              "        dataTable['output_type'] = 'display_data';\n",
              "        await google.colab.output.renderOutput(dataTable, element);\n",
              "        const docLink = document.createElement('div');\n",
              "        docLink.innerHTML = docLinkHtml;\n",
              "        element.appendChild(docLink);\n",
              "      }\n",
              "    </script>\n",
              "  </div>\n",
              "\n",
              "    </div>\n",
              "  </div>\n"
            ]
          },
          "metadata": {},
          "execution_count": 159
        }
      ]
    },
    {
      "cell_type": "code",
      "source": [
        "df['ACTUAL_PRICE']=df['ACTUAL_PRICE'].apply(lambda x: str(x).replace('.', '', 1) if str(x).count('.') > 1 else str(x))"
      ],
      "metadata": {
        "id": "IKNt3oGhch6C"
      },
      "execution_count": 160,
      "outputs": []
    },
    {
      "cell_type": "markdown",
      "source": [
        "**\"at\"** is faster than loc or iloc and it is only used when we are accessing single element not set or slice of data."
      ],
      "metadata": {
        "id": "I93imf2AgLwU"
      }
    },
    {
      "cell_type": "code",
      "source": [
        "df['ACTUAL_PRICE']"
      ],
      "metadata": {
        "colab": {
          "base_uri": "https://localhost:8080/"
        },
        "id": "l7CoJuAXjokr",
        "outputId": "746d35db-6a7d-49c2-8ddb-c6e22622ec49"
      },
      "execution_count": 161,
      "outputs": [
        {
          "output_type": "execute_result",
          "data": {
            "text/plain": [
              "0           221599.28582525\n",
              "1            14654.95175436\n",
              "2            22436.11079067\n",
              "3        30461.502246390002\n",
              "4            30488.93467698\n",
              "                ...        \n",
              "10079    13947.884100000001\n",
              "10080    23203.754100000002\n",
              "10081              16375.77\n",
              "10082             36026.694\n",
              "10083           21853.10907\n",
              "Name: ACTUAL_PRICE, Length: 10084, dtype: object"
            ]
          },
          "metadata": {},
          "execution_count": 161
        }
      ]
    },
    {
      "cell_type": "code",
      "source": [
        "df['ACTUAL_PRICE']=df['ACTUAL_PRICE'].astype('float')"
      ],
      "metadata": {
        "id": "XZv7GREdhEli"
      },
      "execution_count": 162,
      "outputs": []
    },
    {
      "cell_type": "code",
      "source": [
        "df.info()"
      ],
      "metadata": {
        "id": "V9lzPbJgqoa3",
        "colab": {
          "base_uri": "https://localhost:8080/"
        },
        "outputId": "52489fd1-219a-46b4-c8e5-76e9b668fb36"
      },
      "execution_count": 163,
      "outputs": [
        {
          "output_type": "stream",
          "name": "stdout",
          "text": [
            "<class 'pandas.core.frame.DataFrame'>\n",
            "RangeIndex: 10084 entries, 0 to 10083\n",
            "Data columns (total 13 columns):\n",
            " #   Column            Non-Null Count  Dtype  \n",
            "---  ------            --------------  -----  \n",
            " 0   CUSTOMERID        10084 non-null  int64  \n",
            " 1   VEHICLEID         10084 non-null  int64  \n",
            " 2   TRANSACTION_DATE  9414 non-null   object \n",
            " 3   BRAND             9932 non-null   object \n",
            " 4   MODEL             9932 non-null   object \n",
            " 5   COLOUR            9902 non-null   object \n",
            " 6   ACTUAL_PRICE      10077 non-null  float64\n",
            " 7   DISCOUNTED RATIO  9908 non-null   float64\n",
            " 8   MODELYR           9932 non-null   float64\n",
            " 9   STORECODE         10084 non-null  int64  \n",
            " 10  GENCO             2774 non-null   object \n",
            " 11  GENDER            9882 non-null   object \n",
            " 12  CUS_BIRTH_DATE    8808 non-null   object \n",
            "dtypes: float64(3), int64(3), object(7)\n",
            "memory usage: 1.0+ MB\n"
          ]
        }
      ]
    },
    {
      "cell_type": "code",
      "source": [
        "unique(df)"
      ],
      "metadata": {
        "colab": {
          "base_uri": "https://localhost:8080/"
        },
        "id": "X9GmTdMfthj9",
        "outputId": "10f55d92-f952-48d4-cd09-4d7b3e5cb235"
      },
      "execution_count": 164,
      "outputs": [
        {
          "output_type": "stream",
          "name": "stdout",
          "text": [
            "CUSTOMERID has 5926 unique values\n",
            "VEHICLEID has 9913 unique values\n",
            "TRANSACTION_DATE has 3044 unique values\n",
            "BRAND contains: C, D, G, nan, T, K, H, E, M, O, A, B, S\n",
            "MODEL has 77 unique values\n",
            "COLOUR has 491 unique values\n",
            "ACTUAL_PRICE has 6073 unique values\n",
            "DISCOUNTED RATIO has 3130 unique values\n",
            "MODELYR contains: 2018.0, 2019.0, 2020.0, 2017.0, nan, 2014.0, 2012.0, 2015.0, 2009.0, 2007.0, 2016.0, 2008.0, 2011.0, 1994.0, 20.0, 2010.0, 2013.0, 2006.0, 2005.0, 2001.0, 1996.0, 2002.0, 1997.0, 1993.0, 1998.0, 1999.0, 2000.0, 2003.0, 2004.0\n",
            "STORECODE has 100 unique values\n",
            "GENCO contains: SIL, BRO, WHI, BLA, GRY, BLU, GOL, nan, RED, PUR, MAR, YEL, GRN, BEI, ORA\n",
            "GENDER contains: F, M, n?a, nan\n",
            "CUS_BIRTH_DATE has 4543 unique values\n"
          ]
        }
      ]
    },
    {
      "cell_type": "code",
      "source": [
        "df['GENDER']=df['GENDER'].apply(lambda x:\"nan\" if x == \"n?a\" else x)"
      ],
      "metadata": {
        "id": "yW8Oyhj95T_a"
      },
      "execution_count": 165,
      "outputs": []
    },
    {
      "cell_type": "markdown",
      "source": [
        "## Duplicates in the Data"
      ],
      "metadata": {
        "id": "VeQVKkmuD6PZ"
      }
    },
    {
      "cell_type": "code",
      "source": [
        "df.duplicated().sum()"
      ],
      "metadata": {
        "colab": {
          "base_uri": "https://localhost:8080/"
        },
        "id": "GHdOd5pR-BbO",
        "outputId": "7ac411ae-5795-48a6-c879-1444601c2ac3"
      },
      "execution_count": 166,
      "outputs": [
        {
          "output_type": "execute_result",
          "data": {
            "text/plain": [
              "0"
            ]
          },
          "metadata": {},
          "execution_count": 166
        }
      ]
    },
    {
      "cell_type": "markdown",
      "source": [
        "Removing the Primary Keys and Checking for the Duplicates"
      ],
      "metadata": {
        "id": "4QC0xw_ZXV9S"
      }
    },
    {
      "cell_type": "code",
      "source": [
        "df.drop(['CUSTOMERID','VEHICLEID'],axis=1,inplace=False).duplicated().sum()"
      ],
      "metadata": {
        "colab": {
          "base_uri": "https://localhost:8080/"
        },
        "id": "ArcDtQ4MXAj7",
        "outputId": "a9f9d02a-221f-4679-ebc4-6ac5e36cc71e"
      },
      "execution_count": 167,
      "outputs": [
        {
          "output_type": "execute_result",
          "data": {
            "text/plain": [
              "0"
            ]
          },
          "metadata": {},
          "execution_count": 167
        }
      ]
    },
    {
      "cell_type": "markdown",
      "source": [
        "By this we can clearly infer that There are **No Duplicates** in the Dataset"
      ],
      "metadata": {
        "id": "NyUcsb76XbYg"
      }
    },
    {
      "cell_type": "markdown",
      "source": [
        "**Unique Values** accross the Dataset"
      ],
      "metadata": {
        "id": "W_tV_II96JHH"
      }
    },
    {
      "cell_type": "markdown",
      "source": [
        "## Missing Values in the Data"
      ],
      "metadata": {
        "id": "w80gOvOsEIlg"
      }
    },
    {
      "cell_type": "code",
      "source": [
        "missing(df)"
      ],
      "metadata": {
        "colab": {
          "base_uri": "https://localhost:8080/"
        },
        "id": "pIeeAn2Lt0e_",
        "outputId": "b4da9ed6-6471-4e01-9b5d-a7302f7e9188"
      },
      "execution_count": 168,
      "outputs": [
        {
          "output_type": "stream",
          "name": "stdout",
          "text": [
            "                  \u001b[1mMissing Count\u001b[0m  \u001b[1mMissing Percentage\u001b[0m\n",
            "CUSTOMERID                            0                    0.000000\n",
            "VEHICLEID                             0                    0.000000\n",
            "TRANSACTION_DATE                    670                    6.644189\n",
            "BRAND                               152                    1.507338\n",
            "MODEL                               152                    1.507338\n",
            "COLOUR                              182                    1.804839\n",
            "ACTUAL_PRICE                          7                    0.069417\n",
            "DISCOUNTED RATIO                    176                    1.745339\n",
            "MODELYR                             152                    1.507338\n",
            "STORECODE                             0                    0.000000\n",
            "GENCO                              7310                   72.491075\n",
            "GENDER                              202                    2.003173\n",
            "CUS_BIRTH_DATE                     1276                   12.653709\n"
          ]
        }
      ]
    },
    {
      "cell_type": "markdown",
      "source": [
        "As GENCO Column describes the color code lets impute that from the Color column which we have"
      ],
      "metadata": {
        "id": "SZH2lt6ZUCJG"
      }
    },
    {
      "cell_type": "code",
      "source": [
        "df[df['BRAND'].isnull()]"
      ],
      "metadata": {
        "colab": {
          "base_uri": "https://localhost:8080/",
          "height": 423
        },
        "id": "FYgCbncADv5b",
        "outputId": "b2bc604d-e7e1-4a11-cf3e-ed2af0c20b88"
      },
      "execution_count": 169,
      "outputs": [
        {
          "output_type": "execute_result",
          "data": {
            "text/plain": [
              "      CUSTOMERID  VEHICLEID TRANSACTION_DATE BRAND MODEL COLOUR  ACTUAL_PRICE  \\\n",
              "15             0     252187       2019-05-19   NaN   NaN    NaN           0.0   \n",
              "42             0     212719       2019-05-19   NaN   NaN    NaN           0.0   \n",
              "53             0     211223       2019-05-19   NaN   NaN    NaN           0.0   \n",
              "57             0     211221       2019-05-19   NaN   NaN    NaN           0.0   \n",
              "69             0     247911       2019-05-19   NaN   NaN    NaN           0.0   \n",
              "...          ...        ...              ...   ...   ...    ...           ...   \n",
              "2825           0     258034              NaN   NaN   NaN    NaN           0.0   \n",
              "2861           0     182439              NaN   NaN   NaN    NaN           0.0   \n",
              "2862           0     182440              NaN   NaN   NaN    NaN           0.0   \n",
              "2865           0     216709              NaN   NaN   NaN    NaN           0.0   \n",
              "2944           0     243693              NaN   NaN   NaN    NaN           0.0   \n",
              "\n",
              "      DISCOUNTED RATIO  MODELYR  STORECODE GENCO GENDER       CUS_BIRTH_DATE  \n",
              "15                 NaN      NaN         37   NaN      F                  NaN  \n",
              "42                 NaN      NaN         53   NaN      M    90/08/05 00:00:00  \n",
              "53                 NaN      NaN         68   NaN      M  2002-01-10 00:00:00  \n",
              "57                 NaN      NaN         68   NaN      M    20/05/25 00:00:00  \n",
              "69                 NaN      NaN         47   NaN      M    83/10/01 00:00:00  \n",
              "...                ...      ...        ...   ...    ...                  ...  \n",
              "2825               NaN      NaN          0   NaN      F    94/08/20 00:00:00  \n",
              "2861               NaN      NaN         20   NaN      F    87/04/09 00:00:00  \n",
              "2862               NaN      NaN         50   NaN      F    79/10/05 00:00:00  \n",
              "2865               NaN      NaN         27   NaN      M    85/09/17 00:00:00  \n",
              "2944               NaN      NaN         26   NaN    nan    92/07/01 00:00:00  \n",
              "\n",
              "[152 rows x 13 columns]"
            ],
            "text/html": [
              "\n",
              "  <div id=\"df-19f63b8a-a594-4754-b5b6-25007340785a\" class=\"colab-df-container\">\n",
              "    <div>\n",
              "<style scoped>\n",
              "    .dataframe tbody tr th:only-of-type {\n",
              "        vertical-align: middle;\n",
              "    }\n",
              "\n",
              "    .dataframe tbody tr th {\n",
              "        vertical-align: top;\n",
              "    }\n",
              "\n",
              "    .dataframe thead th {\n",
              "        text-align: right;\n",
              "    }\n",
              "</style>\n",
              "<table border=\"1\" class=\"dataframe\">\n",
              "  <thead>\n",
              "    <tr style=\"text-align: right;\">\n",
              "      <th></th>\n",
              "      <th>CUSTOMERID</th>\n",
              "      <th>VEHICLEID</th>\n",
              "      <th>TRANSACTION_DATE</th>\n",
              "      <th>BRAND</th>\n",
              "      <th>MODEL</th>\n",
              "      <th>COLOUR</th>\n",
              "      <th>ACTUAL_PRICE</th>\n",
              "      <th>DISCOUNTED RATIO</th>\n",
              "      <th>MODELYR</th>\n",
              "      <th>STORECODE</th>\n",
              "      <th>GENCO</th>\n",
              "      <th>GENDER</th>\n",
              "      <th>CUS_BIRTH_DATE</th>\n",
              "    </tr>\n",
              "  </thead>\n",
              "  <tbody>\n",
              "    <tr>\n",
              "      <th>15</th>\n",
              "      <td>0</td>\n",
              "      <td>252187</td>\n",
              "      <td>2019-05-19</td>\n",
              "      <td>NaN</td>\n",
              "      <td>NaN</td>\n",
              "      <td>NaN</td>\n",
              "      <td>0.0</td>\n",
              "      <td>NaN</td>\n",
              "      <td>NaN</td>\n",
              "      <td>37</td>\n",
              "      <td>NaN</td>\n",
              "      <td>F</td>\n",
              "      <td>NaN</td>\n",
              "    </tr>\n",
              "    <tr>\n",
              "      <th>42</th>\n",
              "      <td>0</td>\n",
              "      <td>212719</td>\n",
              "      <td>2019-05-19</td>\n",
              "      <td>NaN</td>\n",
              "      <td>NaN</td>\n",
              "      <td>NaN</td>\n",
              "      <td>0.0</td>\n",
              "      <td>NaN</td>\n",
              "      <td>NaN</td>\n",
              "      <td>53</td>\n",
              "      <td>NaN</td>\n",
              "      <td>M</td>\n",
              "      <td>90/08/05 00:00:00</td>\n",
              "    </tr>\n",
              "    <tr>\n",
              "      <th>53</th>\n",
              "      <td>0</td>\n",
              "      <td>211223</td>\n",
              "      <td>2019-05-19</td>\n",
              "      <td>NaN</td>\n",
              "      <td>NaN</td>\n",
              "      <td>NaN</td>\n",
              "      <td>0.0</td>\n",
              "      <td>NaN</td>\n",
              "      <td>NaN</td>\n",
              "      <td>68</td>\n",
              "      <td>NaN</td>\n",
              "      <td>M</td>\n",
              "      <td>2002-01-10 00:00:00</td>\n",
              "    </tr>\n",
              "    <tr>\n",
              "      <th>57</th>\n",
              "      <td>0</td>\n",
              "      <td>211221</td>\n",
              "      <td>2019-05-19</td>\n",
              "      <td>NaN</td>\n",
              "      <td>NaN</td>\n",
              "      <td>NaN</td>\n",
              "      <td>0.0</td>\n",
              "      <td>NaN</td>\n",
              "      <td>NaN</td>\n",
              "      <td>68</td>\n",
              "      <td>NaN</td>\n",
              "      <td>M</td>\n",
              "      <td>20/05/25 00:00:00</td>\n",
              "    </tr>\n",
              "    <tr>\n",
              "      <th>69</th>\n",
              "      <td>0</td>\n",
              "      <td>247911</td>\n",
              "      <td>2019-05-19</td>\n",
              "      <td>NaN</td>\n",
              "      <td>NaN</td>\n",
              "      <td>NaN</td>\n",
              "      <td>0.0</td>\n",
              "      <td>NaN</td>\n",
              "      <td>NaN</td>\n",
              "      <td>47</td>\n",
              "      <td>NaN</td>\n",
              "      <td>M</td>\n",
              "      <td>83/10/01 00:00:00</td>\n",
              "    </tr>\n",
              "    <tr>\n",
              "      <th>...</th>\n",
              "      <td>...</td>\n",
              "      <td>...</td>\n",
              "      <td>...</td>\n",
              "      <td>...</td>\n",
              "      <td>...</td>\n",
              "      <td>...</td>\n",
              "      <td>...</td>\n",
              "      <td>...</td>\n",
              "      <td>...</td>\n",
              "      <td>...</td>\n",
              "      <td>...</td>\n",
              "      <td>...</td>\n",
              "      <td>...</td>\n",
              "    </tr>\n",
              "    <tr>\n",
              "      <th>2825</th>\n",
              "      <td>0</td>\n",
              "      <td>258034</td>\n",
              "      <td>NaN</td>\n",
              "      <td>NaN</td>\n",
              "      <td>NaN</td>\n",
              "      <td>NaN</td>\n",
              "      <td>0.0</td>\n",
              "      <td>NaN</td>\n",
              "      <td>NaN</td>\n",
              "      <td>0</td>\n",
              "      <td>NaN</td>\n",
              "      <td>F</td>\n",
              "      <td>94/08/20 00:00:00</td>\n",
              "    </tr>\n",
              "    <tr>\n",
              "      <th>2861</th>\n",
              "      <td>0</td>\n",
              "      <td>182439</td>\n",
              "      <td>NaN</td>\n",
              "      <td>NaN</td>\n",
              "      <td>NaN</td>\n",
              "      <td>NaN</td>\n",
              "      <td>0.0</td>\n",
              "      <td>NaN</td>\n",
              "      <td>NaN</td>\n",
              "      <td>20</td>\n",
              "      <td>NaN</td>\n",
              "      <td>F</td>\n",
              "      <td>87/04/09 00:00:00</td>\n",
              "    </tr>\n",
              "    <tr>\n",
              "      <th>2862</th>\n",
              "      <td>0</td>\n",
              "      <td>182440</td>\n",
              "      <td>NaN</td>\n",
              "      <td>NaN</td>\n",
              "      <td>NaN</td>\n",
              "      <td>NaN</td>\n",
              "      <td>0.0</td>\n",
              "      <td>NaN</td>\n",
              "      <td>NaN</td>\n",
              "      <td>50</td>\n",
              "      <td>NaN</td>\n",
              "      <td>F</td>\n",
              "      <td>79/10/05 00:00:00</td>\n",
              "    </tr>\n",
              "    <tr>\n",
              "      <th>2865</th>\n",
              "      <td>0</td>\n",
              "      <td>216709</td>\n",
              "      <td>NaN</td>\n",
              "      <td>NaN</td>\n",
              "      <td>NaN</td>\n",
              "      <td>NaN</td>\n",
              "      <td>0.0</td>\n",
              "      <td>NaN</td>\n",
              "      <td>NaN</td>\n",
              "      <td>27</td>\n",
              "      <td>NaN</td>\n",
              "      <td>M</td>\n",
              "      <td>85/09/17 00:00:00</td>\n",
              "    </tr>\n",
              "    <tr>\n",
              "      <th>2944</th>\n",
              "      <td>0</td>\n",
              "      <td>243693</td>\n",
              "      <td>NaN</td>\n",
              "      <td>NaN</td>\n",
              "      <td>NaN</td>\n",
              "      <td>NaN</td>\n",
              "      <td>0.0</td>\n",
              "      <td>NaN</td>\n",
              "      <td>NaN</td>\n",
              "      <td>26</td>\n",
              "      <td>NaN</td>\n",
              "      <td>nan</td>\n",
              "      <td>92/07/01 00:00:00</td>\n",
              "    </tr>\n",
              "  </tbody>\n",
              "</table>\n",
              "<p>152 rows × 13 columns</p>\n",
              "</div>\n",
              "    <div class=\"colab-df-buttons\">\n",
              "\n",
              "  <div class=\"colab-df-container\">\n",
              "    <button class=\"colab-df-convert\" onclick=\"convertToInteractive('df-19f63b8a-a594-4754-b5b6-25007340785a')\"\n",
              "            title=\"Convert this dataframe to an interactive table.\"\n",
              "            style=\"display:none;\">\n",
              "\n",
              "  <svg xmlns=\"http://www.w3.org/2000/svg\" height=\"24px\" viewBox=\"0 -960 960 960\">\n",
              "    <path d=\"M120-120v-720h720v720H120Zm60-500h600v-160H180v160Zm220 220h160v-160H400v160Zm0 220h160v-160H400v160ZM180-400h160v-160H180v160Zm440 0h160v-160H620v160ZM180-180h160v-160H180v160Zm440 0h160v-160H620v160Z\"/>\n",
              "  </svg>\n",
              "    </button>\n",
              "\n",
              "  <style>\n",
              "    .colab-df-container {\n",
              "      display:flex;\n",
              "      gap: 12px;\n",
              "    }\n",
              "\n",
              "    .colab-df-convert {\n",
              "      background-color: #E8F0FE;\n",
              "      border: none;\n",
              "      border-radius: 50%;\n",
              "      cursor: pointer;\n",
              "      display: none;\n",
              "      fill: #1967D2;\n",
              "      height: 32px;\n",
              "      padding: 0 0 0 0;\n",
              "      width: 32px;\n",
              "    }\n",
              "\n",
              "    .colab-df-convert:hover {\n",
              "      background-color: #E2EBFA;\n",
              "      box-shadow: 0px 1px 2px rgba(60, 64, 67, 0.3), 0px 1px 3px 1px rgba(60, 64, 67, 0.15);\n",
              "      fill: #174EA6;\n",
              "    }\n",
              "\n",
              "    .colab-df-buttons div {\n",
              "      margin-bottom: 4px;\n",
              "    }\n",
              "\n",
              "    [theme=dark] .colab-df-convert {\n",
              "      background-color: #3B4455;\n",
              "      fill: #D2E3FC;\n",
              "    }\n",
              "\n",
              "    [theme=dark] .colab-df-convert:hover {\n",
              "      background-color: #434B5C;\n",
              "      box-shadow: 0px 1px 3px 1px rgba(0, 0, 0, 0.15);\n",
              "      filter: drop-shadow(0px 1px 2px rgba(0, 0, 0, 0.3));\n",
              "      fill: #FFFFFF;\n",
              "    }\n",
              "  </style>\n",
              "\n",
              "    <script>\n",
              "      const buttonEl =\n",
              "        document.querySelector('#df-19f63b8a-a594-4754-b5b6-25007340785a button.colab-df-convert');\n",
              "      buttonEl.style.display =\n",
              "        google.colab.kernel.accessAllowed ? 'block' : 'none';\n",
              "\n",
              "      async function convertToInteractive(key) {\n",
              "        const element = document.querySelector('#df-19f63b8a-a594-4754-b5b6-25007340785a');\n",
              "        const dataTable =\n",
              "          await google.colab.kernel.invokeFunction('convertToInteractive',\n",
              "                                                    [key], {});\n",
              "        if (!dataTable) return;\n",
              "\n",
              "        const docLinkHtml = 'Like what you see? Visit the ' +\n",
              "          '<a target=\"_blank\" href=https://colab.research.google.com/notebooks/data_table.ipynb>data table notebook</a>'\n",
              "          + ' to learn more about interactive tables.';\n",
              "        element.innerHTML = '';\n",
              "        dataTable['output_type'] = 'display_data';\n",
              "        await google.colab.output.renderOutput(dataTable, element);\n",
              "        const docLink = document.createElement('div');\n",
              "        docLink.innerHTML = docLinkHtml;\n",
              "        element.appendChild(docLink);\n",
              "      }\n",
              "    </script>\n",
              "  </div>\n",
              "\n",
              "\n",
              "<div id=\"df-300ab372-45b9-42c5-b87f-19e9089ce734\">\n",
              "  <button class=\"colab-df-quickchart\" onclick=\"quickchart('df-300ab372-45b9-42c5-b87f-19e9089ce734')\"\n",
              "            title=\"Suggest charts.\"\n",
              "            style=\"display:none;\">\n",
              "\n",
              "<svg xmlns=\"http://www.w3.org/2000/svg\" height=\"24px\"viewBox=\"0 0 24 24\"\n",
              "     width=\"24px\">\n",
              "    <g>\n",
              "        <path d=\"M19 3H5c-1.1 0-2 .9-2 2v14c0 1.1.9 2 2 2h14c1.1 0 2-.9 2-2V5c0-1.1-.9-2-2-2zM9 17H7v-7h2v7zm4 0h-2V7h2v10zm4 0h-2v-4h2v4z\"/>\n",
              "    </g>\n",
              "</svg>\n",
              "  </button>\n",
              "\n",
              "<style>\n",
              "  .colab-df-quickchart {\n",
              "    background-color: #E8F0FE;\n",
              "    border: none;\n",
              "    border-radius: 50%;\n",
              "    cursor: pointer;\n",
              "    display: none;\n",
              "    fill: #1967D2;\n",
              "    height: 32px;\n",
              "    padding: 0 0 0 0;\n",
              "    width: 32px;\n",
              "  }\n",
              "\n",
              "  .colab-df-quickchart:hover {\n",
              "    background-color: #E2EBFA;\n",
              "    box-shadow: 0px 1px 2px rgba(60, 64, 67, 0.3), 0px 1px 3px 1px rgba(60, 64, 67, 0.15);\n",
              "    fill: #174EA6;\n",
              "  }\n",
              "\n",
              "  [theme=dark] .colab-df-quickchart {\n",
              "    background-color: #3B4455;\n",
              "    fill: #D2E3FC;\n",
              "  }\n",
              "\n",
              "  [theme=dark] .colab-df-quickchart:hover {\n",
              "    background-color: #434B5C;\n",
              "    box-shadow: 0px 1px 3px 1px rgba(0, 0, 0, 0.15);\n",
              "    filter: drop-shadow(0px 1px 2px rgba(0, 0, 0, 0.3));\n",
              "    fill: #FFFFFF;\n",
              "  }\n",
              "</style>\n",
              "\n",
              "  <script>\n",
              "    async function quickchart(key) {\n",
              "      const charts = await google.colab.kernel.invokeFunction(\n",
              "          'suggestCharts', [key], {});\n",
              "    }\n",
              "    (() => {\n",
              "      let quickchartButtonEl =\n",
              "        document.querySelector('#df-300ab372-45b9-42c5-b87f-19e9089ce734 button');\n",
              "      quickchartButtonEl.style.display =\n",
              "        google.colab.kernel.accessAllowed ? 'block' : 'none';\n",
              "    })();\n",
              "  </script>\n",
              "</div>\n",
              "    </div>\n",
              "  </div>\n"
            ]
          },
          "metadata": {},
          "execution_count": 169
        }
      ]
    },
    {
      "cell_type": "code",
      "source": [
        "df[df['BRAND'].isnull()].isnull().sum()"
      ],
      "metadata": {
        "colab": {
          "base_uri": "https://localhost:8080/"
        },
        "id": "8UXXiF1yBCYH",
        "outputId": "78aca4ed-50d5-4c8f-a020-f32276153846"
      },
      "execution_count": 139,
      "outputs": [
        {
          "output_type": "execute_result",
          "data": {
            "text/plain": [
              "CUSTOMERID            0\n",
              "VEHICLEID             0\n",
              "TRANSACTION_DATE    143\n",
              "BRAND               152\n",
              "MODEL               152\n",
              "COLOUR              152\n",
              "ACTUAL_PRICE          0\n",
              "DISCOUNTED RATIO    152\n",
              "MODELYR             152\n",
              "STORECODE             0\n",
              "GENCO               152\n",
              "GENDER                4\n",
              "CUS_BIRTH_DATE       12\n",
              "dtype: int64"
            ]
          },
          "metadata": {},
          "execution_count": 139
        }
      ]
    },
    {
      "cell_type": "markdown",
      "source": [
        "These 152 Observations seems add no value to the data so lets delete them because the main the features seems empty."
      ],
      "metadata": {
        "id": "zw3P-nVRCZwn"
      }
    },
    {
      "cell_type": "code",
      "source": [
        "df_v2 = df.copy()"
      ],
      "metadata": {
        "id": "-9NKUloND3LK"
      },
      "execution_count": 170,
      "outputs": []
    },
    {
      "cell_type": "code",
      "source": [
        "df = df.dropna(subset='BRAND')"
      ],
      "metadata": {
        "id": "zSTpsy3WClA-"
      },
      "execution_count": 171,
      "outputs": []
    },
    {
      "cell_type": "code",
      "source": [
        "missing(df)"
      ],
      "metadata": {
        "colab": {
          "base_uri": "https://localhost:8080/"
        },
        "id": "ZvBVBsDdC9Ub",
        "outputId": "d36f4e5e-d636-4e83-f855-2b35465fb0e6"
      },
      "execution_count": 172,
      "outputs": [
        {
          "output_type": "stream",
          "name": "stdout",
          "text": [
            "                  \u001b[1mMissing Count\u001b[0m  \u001b[1mMissing Percentage\u001b[0m\n",
            "CUSTOMERID                            0                    0.000000\n",
            "VEHICLEID                             0                    0.000000\n",
            "TRANSACTION_DATE                    527                    5.306081\n",
            "BRAND                                 0                    0.000000\n",
            "MODEL                                 0                    0.000000\n",
            "COLOUR                               30                    0.302054\n",
            "ACTUAL_PRICE                          7                    0.070479\n",
            "DISCOUNTED RATIO                     24                    0.241643\n",
            "MODELYR                               0                    0.000000\n",
            "STORECODE                             0                    0.000000\n",
            "GENCO                              7158                   72.070077\n",
            "GENDER                              198                    1.993556\n",
            "CUS_BIRTH_DATE                     1264                   12.726540\n"
          ]
        }
      ]
    },
    {
      "cell_type": "code",
      "source": [
        "df.shape"
      ],
      "metadata": {
        "colab": {
          "base_uri": "https://localhost:8080/"
        },
        "id": "ASIRPICkFI61",
        "outputId": "6a72e205-f397-4a9a-9da9-1f0d2701cafd"
      },
      "execution_count": 174,
      "outputs": [
        {
          "output_type": "execute_result",
          "data": {
            "text/plain": [
              "(9932, 13)"
            ]
          },
          "metadata": {},
          "execution_count": 174
        }
      ]
    },
    {
      "cell_type": "code",
      "source": [
        "df[df['ACTUAL_PRICE'].isna()]"
      ],
      "metadata": {
        "colab": {
          "base_uri": "https://localhost:8080/",
          "height": 390
        },
        "id": "pw0gOzTMD_ks",
        "outputId": "eef83cf7-90f2-4dc5-89d0-50d36702db9b"
      },
      "execution_count": 173,
      "outputs": [
        {
          "output_type": "execute_result",
          "data": {
            "text/plain": [
              "      CUSTOMERID  VEHICLEID TRANSACTION_DATE BRAND    MODEL  \\\n",
              "5370      578497     479306       2003-06-08     H  CAPRICE   \n",
              "5722      578497     519921       2003-10-20     H   LUMINA   \n",
              "6298     1167105     461195       2003-03-11     G   BLAZER   \n",
              "6567     1058372     417133       2002-06-17     H   LUMINA   \n",
              "6919     1364604     576370       2004-09-08     G   BLAZER   \n",
              "7143     1264275     522081       2004-01-05     G    TAHOE   \n",
              "7367          17     532792       2004-01-03     G   BLAZER   \n",
              "\n",
              "                    COLOUR  ACTUAL_PRICE  DISCOUNTED RATIO  MODELYR  \\\n",
              "5370    Botanica Dark Blue           NaN         -0.003117   2003.0   \n",
              "5722                 WHITE           NaN          0.000000   2004.0   \n",
              "6298          Summit White           NaN          0.030909   2003.0   \n",
              "6567            Delft Blue           NaN          0.000000   2002.0   \n",
              "6919  Silver Green Metalli           NaN          0.000000   2004.0   \n",
              "7143             Dark Grey           NaN          0.000000   2004.0   \n",
              "7367  Silverstone Metallic           NaN          0.000000   2004.0   \n",
              "\n",
              "      STORECODE GENCO GENDER     CUS_BIRTH_DATE  \n",
              "5370         99   NaN      M  76/08/31 00:00:00  \n",
              "5722         88   NaN      F                NaN  \n",
              "6298         74   NaN      M  94/06/16 00:00:00  \n",
              "6567         92   NaN      M  82/04/06 00:00:00  \n",
              "6919         55   NaN      M                NaN  \n",
              "7143          8   NaN      M  74/06/13 00:00:01  \n",
              "7367         96   NaN      F                NaN  "
            ],
            "text/html": [
              "\n",
              "  <div id=\"df-e469f94e-9dc3-4e13-89da-f1ff0c3212be\" class=\"colab-df-container\">\n",
              "    <div>\n",
              "<style scoped>\n",
              "    .dataframe tbody tr th:only-of-type {\n",
              "        vertical-align: middle;\n",
              "    }\n",
              "\n",
              "    .dataframe tbody tr th {\n",
              "        vertical-align: top;\n",
              "    }\n",
              "\n",
              "    .dataframe thead th {\n",
              "        text-align: right;\n",
              "    }\n",
              "</style>\n",
              "<table border=\"1\" class=\"dataframe\">\n",
              "  <thead>\n",
              "    <tr style=\"text-align: right;\">\n",
              "      <th></th>\n",
              "      <th>CUSTOMERID</th>\n",
              "      <th>VEHICLEID</th>\n",
              "      <th>TRANSACTION_DATE</th>\n",
              "      <th>BRAND</th>\n",
              "      <th>MODEL</th>\n",
              "      <th>COLOUR</th>\n",
              "      <th>ACTUAL_PRICE</th>\n",
              "      <th>DISCOUNTED RATIO</th>\n",
              "      <th>MODELYR</th>\n",
              "      <th>STORECODE</th>\n",
              "      <th>GENCO</th>\n",
              "      <th>GENDER</th>\n",
              "      <th>CUS_BIRTH_DATE</th>\n",
              "    </tr>\n",
              "  </thead>\n",
              "  <tbody>\n",
              "    <tr>\n",
              "      <th>5370</th>\n",
              "      <td>578497</td>\n",
              "      <td>479306</td>\n",
              "      <td>2003-06-08</td>\n",
              "      <td>H</td>\n",
              "      <td>CAPRICE</td>\n",
              "      <td>Botanica Dark Blue</td>\n",
              "      <td>NaN</td>\n",
              "      <td>-0.003117</td>\n",
              "      <td>2003.0</td>\n",
              "      <td>99</td>\n",
              "      <td>NaN</td>\n",
              "      <td>M</td>\n",
              "      <td>76/08/31 00:00:00</td>\n",
              "    </tr>\n",
              "    <tr>\n",
              "      <th>5722</th>\n",
              "      <td>578497</td>\n",
              "      <td>519921</td>\n",
              "      <td>2003-10-20</td>\n",
              "      <td>H</td>\n",
              "      <td>LUMINA</td>\n",
              "      <td>WHITE</td>\n",
              "      <td>NaN</td>\n",
              "      <td>0.000000</td>\n",
              "      <td>2004.0</td>\n",
              "      <td>88</td>\n",
              "      <td>NaN</td>\n",
              "      <td>F</td>\n",
              "      <td>NaN</td>\n",
              "    </tr>\n",
              "    <tr>\n",
              "      <th>6298</th>\n",
              "      <td>1167105</td>\n",
              "      <td>461195</td>\n",
              "      <td>2003-03-11</td>\n",
              "      <td>G</td>\n",
              "      <td>BLAZER</td>\n",
              "      <td>Summit White</td>\n",
              "      <td>NaN</td>\n",
              "      <td>0.030909</td>\n",
              "      <td>2003.0</td>\n",
              "      <td>74</td>\n",
              "      <td>NaN</td>\n",
              "      <td>M</td>\n",
              "      <td>94/06/16 00:00:00</td>\n",
              "    </tr>\n",
              "    <tr>\n",
              "      <th>6567</th>\n",
              "      <td>1058372</td>\n",
              "      <td>417133</td>\n",
              "      <td>2002-06-17</td>\n",
              "      <td>H</td>\n",
              "      <td>LUMINA</td>\n",
              "      <td>Delft Blue</td>\n",
              "      <td>NaN</td>\n",
              "      <td>0.000000</td>\n",
              "      <td>2002.0</td>\n",
              "      <td>92</td>\n",
              "      <td>NaN</td>\n",
              "      <td>M</td>\n",
              "      <td>82/04/06 00:00:00</td>\n",
              "    </tr>\n",
              "    <tr>\n",
              "      <th>6919</th>\n",
              "      <td>1364604</td>\n",
              "      <td>576370</td>\n",
              "      <td>2004-09-08</td>\n",
              "      <td>G</td>\n",
              "      <td>BLAZER</td>\n",
              "      <td>Silver Green Metalli</td>\n",
              "      <td>NaN</td>\n",
              "      <td>0.000000</td>\n",
              "      <td>2004.0</td>\n",
              "      <td>55</td>\n",
              "      <td>NaN</td>\n",
              "      <td>M</td>\n",
              "      <td>NaN</td>\n",
              "    </tr>\n",
              "    <tr>\n",
              "      <th>7143</th>\n",
              "      <td>1264275</td>\n",
              "      <td>522081</td>\n",
              "      <td>2004-01-05</td>\n",
              "      <td>G</td>\n",
              "      <td>TAHOE</td>\n",
              "      <td>Dark Grey</td>\n",
              "      <td>NaN</td>\n",
              "      <td>0.000000</td>\n",
              "      <td>2004.0</td>\n",
              "      <td>8</td>\n",
              "      <td>NaN</td>\n",
              "      <td>M</td>\n",
              "      <td>74/06/13 00:00:01</td>\n",
              "    </tr>\n",
              "    <tr>\n",
              "      <th>7367</th>\n",
              "      <td>17</td>\n",
              "      <td>532792</td>\n",
              "      <td>2004-01-03</td>\n",
              "      <td>G</td>\n",
              "      <td>BLAZER</td>\n",
              "      <td>Silverstone Metallic</td>\n",
              "      <td>NaN</td>\n",
              "      <td>0.000000</td>\n",
              "      <td>2004.0</td>\n",
              "      <td>96</td>\n",
              "      <td>NaN</td>\n",
              "      <td>F</td>\n",
              "      <td>NaN</td>\n",
              "    </tr>\n",
              "  </tbody>\n",
              "</table>\n",
              "</div>\n",
              "    <div class=\"colab-df-buttons\">\n",
              "\n",
              "  <div class=\"colab-df-container\">\n",
              "    <button class=\"colab-df-convert\" onclick=\"convertToInteractive('df-e469f94e-9dc3-4e13-89da-f1ff0c3212be')\"\n",
              "            title=\"Convert this dataframe to an interactive table.\"\n",
              "            style=\"display:none;\">\n",
              "\n",
              "  <svg xmlns=\"http://www.w3.org/2000/svg\" height=\"24px\" viewBox=\"0 -960 960 960\">\n",
              "    <path d=\"M120-120v-720h720v720H120Zm60-500h600v-160H180v160Zm220 220h160v-160H400v160Zm0 220h160v-160H400v160ZM180-400h160v-160H180v160Zm440 0h160v-160H620v160ZM180-180h160v-160H180v160Zm440 0h160v-160H620v160Z\"/>\n",
              "  </svg>\n",
              "    </button>\n",
              "\n",
              "  <style>\n",
              "    .colab-df-container {\n",
              "      display:flex;\n",
              "      gap: 12px;\n",
              "    }\n",
              "\n",
              "    .colab-df-convert {\n",
              "      background-color: #E8F0FE;\n",
              "      border: none;\n",
              "      border-radius: 50%;\n",
              "      cursor: pointer;\n",
              "      display: none;\n",
              "      fill: #1967D2;\n",
              "      height: 32px;\n",
              "      padding: 0 0 0 0;\n",
              "      width: 32px;\n",
              "    }\n",
              "\n",
              "    .colab-df-convert:hover {\n",
              "      background-color: #E2EBFA;\n",
              "      box-shadow: 0px 1px 2px rgba(60, 64, 67, 0.3), 0px 1px 3px 1px rgba(60, 64, 67, 0.15);\n",
              "      fill: #174EA6;\n",
              "    }\n",
              "\n",
              "    .colab-df-buttons div {\n",
              "      margin-bottom: 4px;\n",
              "    }\n",
              "\n",
              "    [theme=dark] .colab-df-convert {\n",
              "      background-color: #3B4455;\n",
              "      fill: #D2E3FC;\n",
              "    }\n",
              "\n",
              "    [theme=dark] .colab-df-convert:hover {\n",
              "      background-color: #434B5C;\n",
              "      box-shadow: 0px 1px 3px 1px rgba(0, 0, 0, 0.15);\n",
              "      filter: drop-shadow(0px 1px 2px rgba(0, 0, 0, 0.3));\n",
              "      fill: #FFFFFF;\n",
              "    }\n",
              "  </style>\n",
              "\n",
              "    <script>\n",
              "      const buttonEl =\n",
              "        document.querySelector('#df-e469f94e-9dc3-4e13-89da-f1ff0c3212be button.colab-df-convert');\n",
              "      buttonEl.style.display =\n",
              "        google.colab.kernel.accessAllowed ? 'block' : 'none';\n",
              "\n",
              "      async function convertToInteractive(key) {\n",
              "        const element = document.querySelector('#df-e469f94e-9dc3-4e13-89da-f1ff0c3212be');\n",
              "        const dataTable =\n",
              "          await google.colab.kernel.invokeFunction('convertToInteractive',\n",
              "                                                    [key], {});\n",
              "        if (!dataTable) return;\n",
              "\n",
              "        const docLinkHtml = 'Like what you see? Visit the ' +\n",
              "          '<a target=\"_blank\" href=https://colab.research.google.com/notebooks/data_table.ipynb>data table notebook</a>'\n",
              "          + ' to learn more about interactive tables.';\n",
              "        element.innerHTML = '';\n",
              "        dataTable['output_type'] = 'display_data';\n",
              "        await google.colab.output.renderOutput(dataTable, element);\n",
              "        const docLink = document.createElement('div');\n",
              "        docLink.innerHTML = docLinkHtml;\n",
              "        element.appendChild(docLink);\n",
              "      }\n",
              "    </script>\n",
              "  </div>\n",
              "\n",
              "\n",
              "<div id=\"df-7a4d6fc4-0344-4b82-9c79-ee93498932ed\">\n",
              "  <button class=\"colab-df-quickchart\" onclick=\"quickchart('df-7a4d6fc4-0344-4b82-9c79-ee93498932ed')\"\n",
              "            title=\"Suggest charts.\"\n",
              "            style=\"display:none;\">\n",
              "\n",
              "<svg xmlns=\"http://www.w3.org/2000/svg\" height=\"24px\"viewBox=\"0 0 24 24\"\n",
              "     width=\"24px\">\n",
              "    <g>\n",
              "        <path d=\"M19 3H5c-1.1 0-2 .9-2 2v14c0 1.1.9 2 2 2h14c1.1 0 2-.9 2-2V5c0-1.1-.9-2-2-2zM9 17H7v-7h2v7zm4 0h-2V7h2v10zm4 0h-2v-4h2v4z\"/>\n",
              "    </g>\n",
              "</svg>\n",
              "  </button>\n",
              "\n",
              "<style>\n",
              "  .colab-df-quickchart {\n",
              "    background-color: #E8F0FE;\n",
              "    border: none;\n",
              "    border-radius: 50%;\n",
              "    cursor: pointer;\n",
              "    display: none;\n",
              "    fill: #1967D2;\n",
              "    height: 32px;\n",
              "    padding: 0 0 0 0;\n",
              "    width: 32px;\n",
              "  }\n",
              "\n",
              "  .colab-df-quickchart:hover {\n",
              "    background-color: #E2EBFA;\n",
              "    box-shadow: 0px 1px 2px rgba(60, 64, 67, 0.3), 0px 1px 3px 1px rgba(60, 64, 67, 0.15);\n",
              "    fill: #174EA6;\n",
              "  }\n",
              "\n",
              "  [theme=dark] .colab-df-quickchart {\n",
              "    background-color: #3B4455;\n",
              "    fill: #D2E3FC;\n",
              "  }\n",
              "\n",
              "  [theme=dark] .colab-df-quickchart:hover {\n",
              "    background-color: #434B5C;\n",
              "    box-shadow: 0px 1px 3px 1px rgba(0, 0, 0, 0.15);\n",
              "    filter: drop-shadow(0px 1px 2px rgba(0, 0, 0, 0.3));\n",
              "    fill: #FFFFFF;\n",
              "  }\n",
              "</style>\n",
              "\n",
              "  <script>\n",
              "    async function quickchart(key) {\n",
              "      const charts = await google.colab.kernel.invokeFunction(\n",
              "          'suggestCharts', [key], {});\n",
              "    }\n",
              "    (() => {\n",
              "      let quickchartButtonEl =\n",
              "        document.querySelector('#df-7a4d6fc4-0344-4b82-9c79-ee93498932ed button');\n",
              "      quickchartButtonEl.style.display =\n",
              "        google.colab.kernel.accessAllowed ? 'block' : 'none';\n",
              "    })();\n",
              "  </script>\n",
              "</div>\n",
              "    </div>\n",
              "  </div>\n"
            ]
          },
          "metadata": {},
          "execution_count": 173
        }
      ]
    },
    {
      "cell_type": "code",
      "source": [
        "contingency_table = pd.crosstab(df['COLOUR'], df['GENCO'], margins=True)\n",
        "print(contingency_table)"
      ],
      "metadata": {
        "colab": {
          "base_uri": "https://localhost:8080/"
        },
        "id": "qu2Fo41eB-Sj",
        "outputId": "e6b4d83a-325e-4de1-913c-ae6cb8ed097c"
      },
      "execution_count": 27,
      "outputs": [
        {
          "output_type": "stream",
          "name": "stdout",
          "text": [
            "GENCO                       BEI  BLA  BLU  BRO  GOL  GRN  GRY  MAR  ORA  PUR  \\\n",
            "COLOUR                                                                         \n",
            "Abalone White                 0    0    0    0    0    0    0    0    0    0   \n",
            "Agate Red Metallic            0    0    0    0    0    0    0    0    0    0   \n",
            "Alto Grey Metallic            0    0    0    0    0    0    1    0    0    0   \n",
            "Aqua                          0    0    1    0    0    0    0    0    0    0   \n",
            "Atlantis Blue Metallic        0    0    1    0    0    0    0    0    0    0   \n",
            "...                         ...  ...  ...  ...  ...  ...  ...  ...  ...  ...   \n",
            "Watkins Glen Gray Metallic    0    0    0    0    0    0    8    0    0    0   \n",
            "White                         0    0    0    0    0    0    0    0    0    0   \n",
            "White Diamond                 0    0    0    0    0    0    0    0    0    0   \n",
            "White Pearl Mica              0    0    0    0    0    0    0    0    0    0   \n",
            "All                           6  572  157  128  283    4  647    8    2   37   \n",
            "\n",
            "GENCO                       RED  SIL  WHI  YEL   All  \n",
            "COLOUR                                                \n",
            "Abalone White                 0    0    9    0     9  \n",
            "Agate Red Metallic            2    0    0    0     2  \n",
            "Alto Grey Metallic            0    0    0    0     1  \n",
            "Aqua                          0    0    0    0     1  \n",
            "Atlantis Blue Metallic        0    0    0    0     1  \n",
            "...                         ...  ...  ...  ...   ...  \n",
            "Watkins Glen Gray Metallic    0    0    0    0     8  \n",
            "White                         0    0    7    0     7  \n",
            "White Diamond                 0    0    8    0     8  \n",
            "White Pearl Mica              0    0    8    0     8  \n",
            "All                          79  408  439    4  2774  \n",
            "\n",
            "[156 rows x 15 columns]\n"
          ]
        }
      ]
    },
    {
      "cell_type": "code",
      "source": [
        "# Calculate the percentage of Category and Code\n",
        "outlet_type_size_pct = contingency_table.div(contingency_table['All'], axis=0).iloc[:-1, :-1]\n",
        "\n",
        "# Print the percentage table\n",
        "print(outlet_type_size_pct)\n"
      ],
      "metadata": {
        "colab": {
          "base_uri": "https://localhost:8080/"
        },
        "id": "YMW0q1TFU7FJ",
        "outputId": "a87d3068-c81f-478c-be48-8ac7b17dafac"
      },
      "execution_count": 28,
      "outputs": [
        {
          "output_type": "stream",
          "name": "stdout",
          "text": [
            "GENCO                       BEI  BLA  BLU  BRO  GOL  GRN  GRY  MAR  ORA  PUR  \\\n",
            "COLOUR                                                                         \n",
            "Abalone White               0.0  0.0  0.0  0.0  0.0  0.0  0.0  0.0  0.0  0.0   \n",
            "Agate Red Metallic          0.0  0.0  0.0  0.0  0.0  0.0  0.0  0.0  0.0  0.0   \n",
            "Alto Grey Metallic          0.0  0.0  0.0  0.0  0.0  0.0  1.0  0.0  0.0  0.0   \n",
            "Aqua                        0.0  0.0  1.0  0.0  0.0  0.0  0.0  0.0  0.0  0.0   \n",
            "Atlantis Blue Metallic      0.0  0.0  1.0  0.0  0.0  0.0  0.0  0.0  0.0  0.0   \n",
            "...                         ...  ...  ...  ...  ...  ...  ...  ...  ...  ...   \n",
            "Victory Red                 0.0  0.0  0.0  0.0  0.0  0.0  0.0  0.0  0.0  0.0   \n",
            "Watkins Glen Gray Metallic  0.0  0.0  0.0  0.0  0.0  0.0  1.0  0.0  0.0  0.0   \n",
            "White                       0.0  0.0  0.0  0.0  0.0  0.0  0.0  0.0  0.0  0.0   \n",
            "White Diamond               0.0  0.0  0.0  0.0  0.0  0.0  0.0  0.0  0.0  0.0   \n",
            "White Pearl Mica            0.0  0.0  0.0  0.0  0.0  0.0  0.0  0.0  0.0  0.0   \n",
            "\n",
            "GENCO                       RED  SIL  WHI  YEL  \n",
            "COLOUR                                          \n",
            "Abalone White               0.0  0.0  1.0  0.0  \n",
            "Agate Red Metallic          1.0  0.0  0.0  0.0  \n",
            "Alto Grey Metallic          0.0  0.0  0.0  0.0  \n",
            "Aqua                        0.0  0.0  0.0  0.0  \n",
            "Atlantis Blue Metallic      0.0  0.0  0.0  0.0  \n",
            "...                         ...  ...  ...  ...  \n",
            "Victory Red                 1.0  0.0  0.0  0.0  \n",
            "Watkins Glen Gray Metallic  0.0  0.0  0.0  0.0  \n",
            "White                       0.0  0.0  1.0  0.0  \n",
            "White Diamond               0.0  0.0  1.0  0.0  \n",
            "White Pearl Mica            0.0  0.0  1.0  0.0  \n",
            "\n",
            "[155 rows x 14 columns]\n"
          ]
        }
      ]
    },
    {
      "cell_type": "markdown",
      "source": [
        "So based on the table we can use this to impute the values into the GENCO column for our intrepetation."
      ],
      "metadata": {
        "id": "QReb5wNxVSUj"
      }
    },
    {
      "cell_type": "code",
      "source": [
        "for idx, row in df[df['GENCO'].isnull()].iterrows():\n",
        "    colour = row['COLOUR']\n",
        "\n",
        "    if not pd.isnull(colour):\n",
        "        if colour in outlet_type_size_pct.index:\n",
        "            genco = outlet_type_size_pct.loc[colour].idxmax()\n",
        "            df.loc[idx, 'GENCO'] = genco"
      ],
      "metadata": {
        "id": "PPrXrd4JT1aJ"
      },
      "execution_count": 29,
      "outputs": []
    },
    {
      "cell_type": "code",
      "source": [
        "df.groupby('VEHICLEID')['ACTUAL_PRICE'].mean()"
      ],
      "metadata": {
        "colab": {
          "base_uri": "https://localhost:8080/"
        },
        "id": "U6OrXbLTXrmI",
        "outputId": "0e10209d-7465-43f1-f5a8-ec33206be041"
      },
      "execution_count": 30,
      "outputs": [
        {
          "output_type": "execute_result",
          "data": {
            "text/plain": [
              "VEHICLEID\n",
              "0          11069.902759\n",
              "6935           0.000000\n",
              "13574          0.000000\n",
              "18414          0.000000\n",
              "20065          0.000000\n",
              "               ...     \n",
              "1867887    14886.286920\n",
              "1870480    20667.645720\n",
              "1940337     8049.758940\n",
              "1945308    12076.062390\n",
              "1945427    10449.877230\n",
              "Name: ACTUAL_PRICE, Length: 9913, dtype: float64"
            ]
          },
          "metadata": {},
          "execution_count": 30
        }
      ]
    },
    {
      "cell_type": "code",
      "source": [
        "df['ACTUAL_PRICE'] = df.groupby('MODEL')['ACTUAL_PRICE'].transform(lambda x: x.fillna(x.mean()))"
      ],
      "metadata": {
        "id": "Fl-hbKqwW1UX"
      },
      "execution_count": 31,
      "outputs": []
    },
    {
      "cell_type": "code",
      "source": [
        "df[df['ACTUAL_PRICE'].isnull()]"
      ],
      "metadata": {
        "colab": {
          "base_uri": "https://localhost:8080/",
          "height": 423
        },
        "id": "vc2mBfFrYchf",
        "outputId": "b9a44f1c-78b1-45e2-fd64-269be1128e21"
      },
      "execution_count": 32,
      "outputs": [
        {
          "output_type": "execute_result",
          "data": {
            "text/plain": [
              "      CUSTOMERID  VEHICLEID TRANSACTION_DATE BRAND MODEL COLOUR  ACTUAL_PRICE  \\\n",
              "15             0     252187       2019-05-19   NaN   NaN    NaN           NaN   \n",
              "42             0     212719       2019-05-19   NaN   NaN    NaN           NaN   \n",
              "53             0     211223       2019-05-19   NaN   NaN    NaN           NaN   \n",
              "57             0     211221       2019-05-19   NaN   NaN    NaN           NaN   \n",
              "69             0     247911       2019-05-19   NaN   NaN    NaN           NaN   \n",
              "...          ...        ...              ...   ...   ...    ...           ...   \n",
              "2825           0     258034              NaN   NaN   NaN    NaN           NaN   \n",
              "2861           0     182439              NaN   NaN   NaN    NaN           NaN   \n",
              "2862           0     182440              NaN   NaN   NaN    NaN           NaN   \n",
              "2865           0     216709              NaN   NaN   NaN    NaN           NaN   \n",
              "2944           0     243693              NaN   NaN   NaN    NaN           NaN   \n",
              "\n",
              "      DISCOUNTED RATIO  MODELYR  STORECODE GENCO GENDER       CUS_BIRTH_DATE  \n",
              "15                 NaN      NaN         37   NaN      F                  NaN  \n",
              "42                 NaN      NaN         53   NaN      M    90/08/05 00:00:00  \n",
              "53                 NaN      NaN         68   NaN      M  2002-01-10 00:00:00  \n",
              "57                 NaN      NaN         68   NaN      M    20/05/25 00:00:00  \n",
              "69                 NaN      NaN         47   NaN      M    83/10/01 00:00:00  \n",
              "...                ...      ...        ...   ...    ...                  ...  \n",
              "2825               NaN      NaN          0   NaN      F    94/08/20 00:00:00  \n",
              "2861               NaN      NaN         20   NaN      F    87/04/09 00:00:00  \n",
              "2862               NaN      NaN         50   NaN      F    79/10/05 00:00:00  \n",
              "2865               NaN      NaN         27   NaN      M    85/09/17 00:00:00  \n",
              "2944               NaN      NaN         26   NaN    n?a    92/07/01 00:00:00  \n",
              "\n",
              "[152 rows x 13 columns]"
            ],
            "text/html": [
              "\n",
              "  <div id=\"df-c98cae02-e24a-4eb8-8452-55b844c4115f\" class=\"colab-df-container\">\n",
              "    <div>\n",
              "<style scoped>\n",
              "    .dataframe tbody tr th:only-of-type {\n",
              "        vertical-align: middle;\n",
              "    }\n",
              "\n",
              "    .dataframe tbody tr th {\n",
              "        vertical-align: top;\n",
              "    }\n",
              "\n",
              "    .dataframe thead th {\n",
              "        text-align: right;\n",
              "    }\n",
              "</style>\n",
              "<table border=\"1\" class=\"dataframe\">\n",
              "  <thead>\n",
              "    <tr style=\"text-align: right;\">\n",
              "      <th></th>\n",
              "      <th>CUSTOMERID</th>\n",
              "      <th>VEHICLEID</th>\n",
              "      <th>TRANSACTION_DATE</th>\n",
              "      <th>BRAND</th>\n",
              "      <th>MODEL</th>\n",
              "      <th>COLOUR</th>\n",
              "      <th>ACTUAL_PRICE</th>\n",
              "      <th>DISCOUNTED RATIO</th>\n",
              "      <th>MODELYR</th>\n",
              "      <th>STORECODE</th>\n",
              "      <th>GENCO</th>\n",
              "      <th>GENDER</th>\n",
              "      <th>CUS_BIRTH_DATE</th>\n",
              "    </tr>\n",
              "  </thead>\n",
              "  <tbody>\n",
              "    <tr>\n",
              "      <th>15</th>\n",
              "      <td>0</td>\n",
              "      <td>252187</td>\n",
              "      <td>2019-05-19</td>\n",
              "      <td>NaN</td>\n",
              "      <td>NaN</td>\n",
              "      <td>NaN</td>\n",
              "      <td>NaN</td>\n",
              "      <td>NaN</td>\n",
              "      <td>NaN</td>\n",
              "      <td>37</td>\n",
              "      <td>NaN</td>\n",
              "      <td>F</td>\n",
              "      <td>NaN</td>\n",
              "    </tr>\n",
              "    <tr>\n",
              "      <th>42</th>\n",
              "      <td>0</td>\n",
              "      <td>212719</td>\n",
              "      <td>2019-05-19</td>\n",
              "      <td>NaN</td>\n",
              "      <td>NaN</td>\n",
              "      <td>NaN</td>\n",
              "      <td>NaN</td>\n",
              "      <td>NaN</td>\n",
              "      <td>NaN</td>\n",
              "      <td>53</td>\n",
              "      <td>NaN</td>\n",
              "      <td>M</td>\n",
              "      <td>90/08/05 00:00:00</td>\n",
              "    </tr>\n",
              "    <tr>\n",
              "      <th>53</th>\n",
              "      <td>0</td>\n",
              "      <td>211223</td>\n",
              "      <td>2019-05-19</td>\n",
              "      <td>NaN</td>\n",
              "      <td>NaN</td>\n",
              "      <td>NaN</td>\n",
              "      <td>NaN</td>\n",
              "      <td>NaN</td>\n",
              "      <td>NaN</td>\n",
              "      <td>68</td>\n",
              "      <td>NaN</td>\n",
              "      <td>M</td>\n",
              "      <td>2002-01-10 00:00:00</td>\n",
              "    </tr>\n",
              "    <tr>\n",
              "      <th>57</th>\n",
              "      <td>0</td>\n",
              "      <td>211221</td>\n",
              "      <td>2019-05-19</td>\n",
              "      <td>NaN</td>\n",
              "      <td>NaN</td>\n",
              "      <td>NaN</td>\n",
              "      <td>NaN</td>\n",
              "      <td>NaN</td>\n",
              "      <td>NaN</td>\n",
              "      <td>68</td>\n",
              "      <td>NaN</td>\n",
              "      <td>M</td>\n",
              "      <td>20/05/25 00:00:00</td>\n",
              "    </tr>\n",
              "    <tr>\n",
              "      <th>69</th>\n",
              "      <td>0</td>\n",
              "      <td>247911</td>\n",
              "      <td>2019-05-19</td>\n",
              "      <td>NaN</td>\n",
              "      <td>NaN</td>\n",
              "      <td>NaN</td>\n",
              "      <td>NaN</td>\n",
              "      <td>NaN</td>\n",
              "      <td>NaN</td>\n",
              "      <td>47</td>\n",
              "      <td>NaN</td>\n",
              "      <td>M</td>\n",
              "      <td>83/10/01 00:00:00</td>\n",
              "    </tr>\n",
              "    <tr>\n",
              "      <th>...</th>\n",
              "      <td>...</td>\n",
              "      <td>...</td>\n",
              "      <td>...</td>\n",
              "      <td>...</td>\n",
              "      <td>...</td>\n",
              "      <td>...</td>\n",
              "      <td>...</td>\n",
              "      <td>...</td>\n",
              "      <td>...</td>\n",
              "      <td>...</td>\n",
              "      <td>...</td>\n",
              "      <td>...</td>\n",
              "      <td>...</td>\n",
              "    </tr>\n",
              "    <tr>\n",
              "      <th>2825</th>\n",
              "      <td>0</td>\n",
              "      <td>258034</td>\n",
              "      <td>NaN</td>\n",
              "      <td>NaN</td>\n",
              "      <td>NaN</td>\n",
              "      <td>NaN</td>\n",
              "      <td>NaN</td>\n",
              "      <td>NaN</td>\n",
              "      <td>NaN</td>\n",
              "      <td>0</td>\n",
              "      <td>NaN</td>\n",
              "      <td>F</td>\n",
              "      <td>94/08/20 00:00:00</td>\n",
              "    </tr>\n",
              "    <tr>\n",
              "      <th>2861</th>\n",
              "      <td>0</td>\n",
              "      <td>182439</td>\n",
              "      <td>NaN</td>\n",
              "      <td>NaN</td>\n",
              "      <td>NaN</td>\n",
              "      <td>NaN</td>\n",
              "      <td>NaN</td>\n",
              "      <td>NaN</td>\n",
              "      <td>NaN</td>\n",
              "      <td>20</td>\n",
              "      <td>NaN</td>\n",
              "      <td>F</td>\n",
              "      <td>87/04/09 00:00:00</td>\n",
              "    </tr>\n",
              "    <tr>\n",
              "      <th>2862</th>\n",
              "      <td>0</td>\n",
              "      <td>182440</td>\n",
              "      <td>NaN</td>\n",
              "      <td>NaN</td>\n",
              "      <td>NaN</td>\n",
              "      <td>NaN</td>\n",
              "      <td>NaN</td>\n",
              "      <td>NaN</td>\n",
              "      <td>NaN</td>\n",
              "      <td>50</td>\n",
              "      <td>NaN</td>\n",
              "      <td>F</td>\n",
              "      <td>79/10/05 00:00:00</td>\n",
              "    </tr>\n",
              "    <tr>\n",
              "      <th>2865</th>\n",
              "      <td>0</td>\n",
              "      <td>216709</td>\n",
              "      <td>NaN</td>\n",
              "      <td>NaN</td>\n",
              "      <td>NaN</td>\n",
              "      <td>NaN</td>\n",
              "      <td>NaN</td>\n",
              "      <td>NaN</td>\n",
              "      <td>NaN</td>\n",
              "      <td>27</td>\n",
              "      <td>NaN</td>\n",
              "      <td>M</td>\n",
              "      <td>85/09/17 00:00:00</td>\n",
              "    </tr>\n",
              "    <tr>\n",
              "      <th>2944</th>\n",
              "      <td>0</td>\n",
              "      <td>243693</td>\n",
              "      <td>NaN</td>\n",
              "      <td>NaN</td>\n",
              "      <td>NaN</td>\n",
              "      <td>NaN</td>\n",
              "      <td>NaN</td>\n",
              "      <td>NaN</td>\n",
              "      <td>NaN</td>\n",
              "      <td>26</td>\n",
              "      <td>NaN</td>\n",
              "      <td>n?a</td>\n",
              "      <td>92/07/01 00:00:00</td>\n",
              "    </tr>\n",
              "  </tbody>\n",
              "</table>\n",
              "<p>152 rows × 13 columns</p>\n",
              "</div>\n",
              "    <div class=\"colab-df-buttons\">\n",
              "\n",
              "  <div class=\"colab-df-container\">\n",
              "    <button class=\"colab-df-convert\" onclick=\"convertToInteractive('df-c98cae02-e24a-4eb8-8452-55b844c4115f')\"\n",
              "            title=\"Convert this dataframe to an interactive table.\"\n",
              "            style=\"display:none;\">\n",
              "\n",
              "  <svg xmlns=\"http://www.w3.org/2000/svg\" height=\"24px\" viewBox=\"0 -960 960 960\">\n",
              "    <path d=\"M120-120v-720h720v720H120Zm60-500h600v-160H180v160Zm220 220h160v-160H400v160Zm0 220h160v-160H400v160ZM180-400h160v-160H180v160Zm440 0h160v-160H620v160ZM180-180h160v-160H180v160Zm440 0h160v-160H620v160Z\"/>\n",
              "  </svg>\n",
              "    </button>\n",
              "\n",
              "  <style>\n",
              "    .colab-df-container {\n",
              "      display:flex;\n",
              "      gap: 12px;\n",
              "    }\n",
              "\n",
              "    .colab-df-convert {\n",
              "      background-color: #E8F0FE;\n",
              "      border: none;\n",
              "      border-radius: 50%;\n",
              "      cursor: pointer;\n",
              "      display: none;\n",
              "      fill: #1967D2;\n",
              "      height: 32px;\n",
              "      padding: 0 0 0 0;\n",
              "      width: 32px;\n",
              "    }\n",
              "\n",
              "    .colab-df-convert:hover {\n",
              "      background-color: #E2EBFA;\n",
              "      box-shadow: 0px 1px 2px rgba(60, 64, 67, 0.3), 0px 1px 3px 1px rgba(60, 64, 67, 0.15);\n",
              "      fill: #174EA6;\n",
              "    }\n",
              "\n",
              "    .colab-df-buttons div {\n",
              "      margin-bottom: 4px;\n",
              "    }\n",
              "\n",
              "    [theme=dark] .colab-df-convert {\n",
              "      background-color: #3B4455;\n",
              "      fill: #D2E3FC;\n",
              "    }\n",
              "\n",
              "    [theme=dark] .colab-df-convert:hover {\n",
              "      background-color: #434B5C;\n",
              "      box-shadow: 0px 1px 3px 1px rgba(0, 0, 0, 0.15);\n",
              "      filter: drop-shadow(0px 1px 2px rgba(0, 0, 0, 0.3));\n",
              "      fill: #FFFFFF;\n",
              "    }\n",
              "  </style>\n",
              "\n",
              "    <script>\n",
              "      const buttonEl =\n",
              "        document.querySelector('#df-c98cae02-e24a-4eb8-8452-55b844c4115f button.colab-df-convert');\n",
              "      buttonEl.style.display =\n",
              "        google.colab.kernel.accessAllowed ? 'block' : 'none';\n",
              "\n",
              "      async function convertToInteractive(key) {\n",
              "        const element = document.querySelector('#df-c98cae02-e24a-4eb8-8452-55b844c4115f');\n",
              "        const dataTable =\n",
              "          await google.colab.kernel.invokeFunction('convertToInteractive',\n",
              "                                                    [key], {});\n",
              "        if (!dataTable) return;\n",
              "\n",
              "        const docLinkHtml = 'Like what you see? Visit the ' +\n",
              "          '<a target=\"_blank\" href=https://colab.research.google.com/notebooks/data_table.ipynb>data table notebook</a>'\n",
              "          + ' to learn more about interactive tables.';\n",
              "        element.innerHTML = '';\n",
              "        dataTable['output_type'] = 'display_data';\n",
              "        await google.colab.output.renderOutput(dataTable, element);\n",
              "        const docLink = document.createElement('div');\n",
              "        docLink.innerHTML = docLinkHtml;\n",
              "        element.appendChild(docLink);\n",
              "      }\n",
              "    </script>\n",
              "  </div>\n",
              "\n",
              "\n",
              "<div id=\"df-8d7aabc0-a673-49f8-a1d9-ba3093d469fc\">\n",
              "  <button class=\"colab-df-quickchart\" onclick=\"quickchart('df-8d7aabc0-a673-49f8-a1d9-ba3093d469fc')\"\n",
              "            title=\"Suggest charts.\"\n",
              "            style=\"display:none;\">\n",
              "\n",
              "<svg xmlns=\"http://www.w3.org/2000/svg\" height=\"24px\"viewBox=\"0 0 24 24\"\n",
              "     width=\"24px\">\n",
              "    <g>\n",
              "        <path d=\"M19 3H5c-1.1 0-2 .9-2 2v14c0 1.1.9 2 2 2h14c1.1 0 2-.9 2-2V5c0-1.1-.9-2-2-2zM9 17H7v-7h2v7zm4 0h-2V7h2v10zm4 0h-2v-4h2v4z\"/>\n",
              "    </g>\n",
              "</svg>\n",
              "  </button>\n",
              "\n",
              "<style>\n",
              "  .colab-df-quickchart {\n",
              "    background-color: #E8F0FE;\n",
              "    border: none;\n",
              "    border-radius: 50%;\n",
              "    cursor: pointer;\n",
              "    display: none;\n",
              "    fill: #1967D2;\n",
              "    height: 32px;\n",
              "    padding: 0 0 0 0;\n",
              "    width: 32px;\n",
              "  }\n",
              "\n",
              "  .colab-df-quickchart:hover {\n",
              "    background-color: #E2EBFA;\n",
              "    box-shadow: 0px 1px 2px rgba(60, 64, 67, 0.3), 0px 1px 3px 1px rgba(60, 64, 67, 0.15);\n",
              "    fill: #174EA6;\n",
              "  }\n",
              "\n",
              "  [theme=dark] .colab-df-quickchart {\n",
              "    background-color: #3B4455;\n",
              "    fill: #D2E3FC;\n",
              "  }\n",
              "\n",
              "  [theme=dark] .colab-df-quickchart:hover {\n",
              "    background-color: #434B5C;\n",
              "    box-shadow: 0px 1px 3px 1px rgba(0, 0, 0, 0.15);\n",
              "    filter: drop-shadow(0px 1px 2px rgba(0, 0, 0, 0.3));\n",
              "    fill: #FFFFFF;\n",
              "  }\n",
              "</style>\n",
              "\n",
              "  <script>\n",
              "    async function quickchart(key) {\n",
              "      const charts = await google.colab.kernel.invokeFunction(\n",
              "          'suggestCharts', [key], {});\n",
              "    }\n",
              "    (() => {\n",
              "      let quickchartButtonEl =\n",
              "        document.querySelector('#df-8d7aabc0-a673-49f8-a1d9-ba3093d469fc button');\n",
              "      quickchartButtonEl.style.display =\n",
              "        google.colab.kernel.accessAllowed ? 'block' : 'none';\n",
              "    })();\n",
              "  </script>\n",
              "</div>\n",
              "    </div>\n",
              "  </div>\n"
            ]
          },
          "metadata": {},
          "execution_count": 32
        }
      ]
    },
    {
      "cell_type": "code",
      "source": [
        "df[df['VEHICLEID']==519921]"
      ],
      "metadata": {
        "colab": {
          "base_uri": "https://localhost:8080/",
          "height": 81
        },
        "id": "USxLsJL6YxqH",
        "outputId": "8df59020-8a25-438f-fea9-fcddb78f5617"
      },
      "execution_count": 33,
      "outputs": [
        {
          "output_type": "execute_result",
          "data": {
            "text/plain": [
              "      CUSTOMERID  VEHICLEID TRANSACTION_DATE BRAND   MODEL COLOUR  \\\n",
              "5722      578497     519921       2003-10-20     H  LUMINA  WHITE   \n",
              "\n",
              "      ACTUAL_PRICE  DISCOUNTED RATIO  MODELYR  STORECODE GENCO GENDER  \\\n",
              "5722   7651.740873               0.0   2004.0         88   NaN      F   \n",
              "\n",
              "     CUS_BIRTH_DATE  \n",
              "5722            NaN  "
            ],
            "text/html": [
              "\n",
              "  <div id=\"df-a8e6f29b-c07a-4bbd-96c1-c4f7196fd417\" class=\"colab-df-container\">\n",
              "    <div>\n",
              "<style scoped>\n",
              "    .dataframe tbody tr th:only-of-type {\n",
              "        vertical-align: middle;\n",
              "    }\n",
              "\n",
              "    .dataframe tbody tr th {\n",
              "        vertical-align: top;\n",
              "    }\n",
              "\n",
              "    .dataframe thead th {\n",
              "        text-align: right;\n",
              "    }\n",
              "</style>\n",
              "<table border=\"1\" class=\"dataframe\">\n",
              "  <thead>\n",
              "    <tr style=\"text-align: right;\">\n",
              "      <th></th>\n",
              "      <th>CUSTOMERID</th>\n",
              "      <th>VEHICLEID</th>\n",
              "      <th>TRANSACTION_DATE</th>\n",
              "      <th>BRAND</th>\n",
              "      <th>MODEL</th>\n",
              "      <th>COLOUR</th>\n",
              "      <th>ACTUAL_PRICE</th>\n",
              "      <th>DISCOUNTED RATIO</th>\n",
              "      <th>MODELYR</th>\n",
              "      <th>STORECODE</th>\n",
              "      <th>GENCO</th>\n",
              "      <th>GENDER</th>\n",
              "      <th>CUS_BIRTH_DATE</th>\n",
              "    </tr>\n",
              "  </thead>\n",
              "  <tbody>\n",
              "    <tr>\n",
              "      <th>5722</th>\n",
              "      <td>578497</td>\n",
              "      <td>519921</td>\n",
              "      <td>2003-10-20</td>\n",
              "      <td>H</td>\n",
              "      <td>LUMINA</td>\n",
              "      <td>WHITE</td>\n",
              "      <td>7651.740873</td>\n",
              "      <td>0.0</td>\n",
              "      <td>2004.0</td>\n",
              "      <td>88</td>\n",
              "      <td>NaN</td>\n",
              "      <td>F</td>\n",
              "      <td>NaN</td>\n",
              "    </tr>\n",
              "  </tbody>\n",
              "</table>\n",
              "</div>\n",
              "    <div class=\"colab-df-buttons\">\n",
              "\n",
              "  <div class=\"colab-df-container\">\n",
              "    <button class=\"colab-df-convert\" onclick=\"convertToInteractive('df-a8e6f29b-c07a-4bbd-96c1-c4f7196fd417')\"\n",
              "            title=\"Convert this dataframe to an interactive table.\"\n",
              "            style=\"display:none;\">\n",
              "\n",
              "  <svg xmlns=\"http://www.w3.org/2000/svg\" height=\"24px\" viewBox=\"0 -960 960 960\">\n",
              "    <path d=\"M120-120v-720h720v720H120Zm60-500h600v-160H180v160Zm220 220h160v-160H400v160Zm0 220h160v-160H400v160ZM180-400h160v-160H180v160Zm440 0h160v-160H620v160ZM180-180h160v-160H180v160Zm440 0h160v-160H620v160Z\"/>\n",
              "  </svg>\n",
              "    </button>\n",
              "\n",
              "  <style>\n",
              "    .colab-df-container {\n",
              "      display:flex;\n",
              "      gap: 12px;\n",
              "    }\n",
              "\n",
              "    .colab-df-convert {\n",
              "      background-color: #E8F0FE;\n",
              "      border: none;\n",
              "      border-radius: 50%;\n",
              "      cursor: pointer;\n",
              "      display: none;\n",
              "      fill: #1967D2;\n",
              "      height: 32px;\n",
              "      padding: 0 0 0 0;\n",
              "      width: 32px;\n",
              "    }\n",
              "\n",
              "    .colab-df-convert:hover {\n",
              "      background-color: #E2EBFA;\n",
              "      box-shadow: 0px 1px 2px rgba(60, 64, 67, 0.3), 0px 1px 3px 1px rgba(60, 64, 67, 0.15);\n",
              "      fill: #174EA6;\n",
              "    }\n",
              "\n",
              "    .colab-df-buttons div {\n",
              "      margin-bottom: 4px;\n",
              "    }\n",
              "\n",
              "    [theme=dark] .colab-df-convert {\n",
              "      background-color: #3B4455;\n",
              "      fill: #D2E3FC;\n",
              "    }\n",
              "\n",
              "    [theme=dark] .colab-df-convert:hover {\n",
              "      background-color: #434B5C;\n",
              "      box-shadow: 0px 1px 3px 1px rgba(0, 0, 0, 0.15);\n",
              "      filter: drop-shadow(0px 1px 2px rgba(0, 0, 0, 0.3));\n",
              "      fill: #FFFFFF;\n",
              "    }\n",
              "  </style>\n",
              "\n",
              "    <script>\n",
              "      const buttonEl =\n",
              "        document.querySelector('#df-a8e6f29b-c07a-4bbd-96c1-c4f7196fd417 button.colab-df-convert');\n",
              "      buttonEl.style.display =\n",
              "        google.colab.kernel.accessAllowed ? 'block' : 'none';\n",
              "\n",
              "      async function convertToInteractive(key) {\n",
              "        const element = document.querySelector('#df-a8e6f29b-c07a-4bbd-96c1-c4f7196fd417');\n",
              "        const dataTable =\n",
              "          await google.colab.kernel.invokeFunction('convertToInteractive',\n",
              "                                                    [key], {});\n",
              "        if (!dataTable) return;\n",
              "\n",
              "        const docLinkHtml = 'Like what you see? Visit the ' +\n",
              "          '<a target=\"_blank\" href=https://colab.research.google.com/notebooks/data_table.ipynb>data table notebook</a>'\n",
              "          + ' to learn more about interactive tables.';\n",
              "        element.innerHTML = '';\n",
              "        dataTable['output_type'] = 'display_data';\n",
              "        await google.colab.output.renderOutput(dataTable, element);\n",
              "        const docLink = document.createElement('div');\n",
              "        docLink.innerHTML = docLinkHtml;\n",
              "        element.appendChild(docLink);\n",
              "      }\n",
              "    </script>\n",
              "  </div>\n",
              "\n",
              "    </div>\n",
              "  </div>\n"
            ]
          },
          "metadata": {},
          "execution_count": 33
        }
      ]
    },
    {
      "cell_type": "code",
      "source": [
        "missing(df)"
      ],
      "metadata": {
        "colab": {
          "base_uri": "https://localhost:8080/"
        },
        "id": "spHGWZn2Wufd",
        "outputId": "e1b3c3b3-eab8-4332-cbe1-e1139494cbcf"
      },
      "execution_count": 34,
      "outputs": [
        {
          "output_type": "stream",
          "name": "stdout",
          "text": [
            "                  \u001b[1mMissing Count\u001b[0m  \u001b[1mMissing Percentage\u001b[0m\n",
            "CUSTOMERID                            0                    0.000000\n",
            "VEHICLEID                             0                    0.000000\n",
            "TRANSACTION_DATE                    670                    6.644189\n",
            "BRAND                               152                    1.507338\n",
            "MODEL                               152                    1.507338\n",
            "COLOUR                              182                    1.804839\n",
            "ACTUAL_PRICE                        152                    1.507338\n",
            "DISCOUNTED RATIO                    176                    1.745339\n",
            "MODELYR                             152                    1.507338\n",
            "STORECODE                             0                    0.000000\n",
            "GENCO                              4549                   45.111067\n",
            "GENDER                              202                    2.003173\n",
            "CUS_BIRTH_DATE                     1276                   12.653709\n"
          ]
        }
      ]
    },
    {
      "cell_type": "code",
      "source": [
        "df.shape"
      ],
      "metadata": {
        "id": "fZtSsoPDYE_c",
        "colab": {
          "base_uri": "https://localhost:8080/"
        },
        "outputId": "88a6f265-591f-4485-f170-877ba36b8e1e"
      },
      "execution_count": 35,
      "outputs": [
        {
          "output_type": "execute_result",
          "data": {
            "text/plain": [
              "(10084, 13)"
            ]
          },
          "metadata": {},
          "execution_count": 35
        }
      ]
    },
    {
      "cell_type": "code",
      "source": [
        "len(df['CUSTOMERID'].unique())"
      ],
      "metadata": {
        "colab": {
          "base_uri": "https://localhost:8080/"
        },
        "id": "HFupPgC_gBST",
        "outputId": "0ba22b70-7f68-4809-b8ea-57c763f2f0d1"
      },
      "execution_count": 36,
      "outputs": [
        {
          "output_type": "execute_result",
          "data": {
            "text/plain": [
              "5926"
            ]
          },
          "metadata": {},
          "execution_count": 36
        }
      ]
    },
    {
      "cell_type": "markdown",
      "source": [
        "Based on this we can infer the following things\n",
        "\n",
        "1. Number of Observations are 10,084 and number of customers are 5,926 so based on this we can infer we do have **repeated customers**\n",
        "\n",
        "2. Most of the **GENCO are missing**"
      ],
      "metadata": {
        "id": "7krUSJ_JQOBt"
      }
    },
    {
      "cell_type": "code",
      "source": [
        "desc_cols(df)"
      ],
      "metadata": {
        "colab": {
          "base_uri": "https://localhost:8080/"
        },
        "id": "SjpxhX5FvFaj",
        "outputId": "09bcad9e-0eb0-4451-8304-07717bbf46bd"
      },
      "execution_count": 37,
      "outputs": [
        {
          "output_type": "stream",
          "name": "stdout",
          "text": [
            "\u001b[1mNumber of Numerical Cols 6 \u001b[0m\n",
            "['CUSTOMERID', 'VEHICLEID', 'ACTUAL_PRICE', 'DISCOUNTED RATIO', 'MODELYR', 'STORECODE']\n",
            "-------------------------------------------------------------------------------------\n",
            "\u001b[1mNumber of Catageroical Cols 7 \u001b[0m\n",
            "['TRANSACTION_DATE', 'BRAND', 'MODEL', 'COLOUR', 'GENCO', 'GENDER', 'CUS_BIRTH_DATE']\n"
          ]
        }
      ]
    },
    {
      "cell_type": "code",
      "source": [
        "a=df['ACTUAL_PRICE']"
      ],
      "metadata": {
        "id": "PwpQFXVlvwTH"
      },
      "execution_count": 38,
      "outputs": []
    },
    {
      "cell_type": "markdown",
      "source": [
        "So there are clearly outliers in our dataset"
      ],
      "metadata": {
        "id": "4EMWsr9pxTrF"
      }
    },
    {
      "cell_type": "code",
      "source": [
        "a.isnull().sum()"
      ],
      "metadata": {
        "colab": {
          "base_uri": "https://localhost:8080/"
        },
        "id": "f_155ZUgSnER",
        "outputId": "1a1e052e-a124-456b-92a4-67915a13c848"
      },
      "execution_count": 39,
      "outputs": [
        {
          "output_type": "execute_result",
          "data": {
            "text/plain": [
              "152"
            ]
          },
          "metadata": {},
          "execution_count": 39
        }
      ]
    },
    {
      "cell_type": "code",
      "source": [
        "plt.boxplot(a)\n",
        "plt.title(\"Box Plot without Outliers\")\n",
        "plt.show()"
      ],
      "metadata": {
        "colab": {
          "base_uri": "https://localhost:8080/",
          "height": 452
        },
        "id": "hhwGwu9hSMvl",
        "outputId": "86bd7294-2108-4035-b041-f78b9631fa9f"
      },
      "execution_count": 40,
      "outputs": [
        {
          "output_type": "display_data",
          "data": {
            "text/plain": [
              "<Figure size 640x480 with 1 Axes>"
            ],
            "image/png": "[encoded data removed]"
          },
          "metadata": {}
        }
      ]
    },
    {
      "cell_type": "code",
      "source": [
        "plt.boxplot(df[df['ACTUAL_PRICE']<=150000]['ACTUAL_PRICE'])\n",
        "plt.title(\"Box Plot without Outliers\")\n",
        "plt.show()"
      ],
      "metadata": {
        "colab": {
          "base_uri": "https://localhost:8080/",
          "height": 452
        },
        "id": "kWDailjxxYUt",
        "outputId": "e60e5eb3-2678-49f1-eaf2-e23c88d07261"
      },
      "execution_count": 41,
      "outputs": [
        {
          "output_type": "display_data",
          "data": {
            "text/plain": [
              "<Figure size 640x480 with 1 Axes>"
            ],
            "image/png": "[encoded data removed]"
          },
          "metadata": {}
        }
      ]
    },
    {
      "cell_type": "code",
      "source": [
        "outliers=df[df['ACTUAL_PRICE']>150000]\n",
        "print(f\"Number of Outliers: {outliers.shape[0]}\")\n",
        "print(\"------------------------------------------------------------------\")\n",
        "print(outliers)"
      ],
      "metadata": {
        "colab": {
          "base_uri": "https://localhost:8080/"
        },
        "id": "EtKjFO5pyIJP",
        "outputId": "30d42237-a8fb-4799-e2ae-64bb9461e934"
      },
      "execution_count": 42,
      "outputs": [
        {
          "output_type": "stream",
          "name": "stdout",
          "text": [
            "Number of Outliers: 12\n",
            "------------------------------------------------------------------\n",
            "      CUSTOMERID  VEHICLEID TRANSACTION_DATE BRAND         MODEL  \\\n",
            "0        2741953     243834       2018-01-28     C        IMPALA   \n",
            "546       667093     255154       2019-01-30     G       EQUINOX   \n",
            "1370      947993     242052       2017-12-13     T  Trail Blazer   \n",
            "1723     2081113     175989       2012-09-29     K      ESCALADE   \n",
            "2828     3064362     254860       2019-01-31     G         TAHOE   \n",
            "2953           0     268668              NaN     G         TAHOE   \n",
            "2957      517174     165248       1997-05-06     C     CAPRICE-X   \n",
            "3344      303649     199601       1997-05-14     G         TAHOE   \n",
            "5178      691979     413464       2002-03-26     H       CAPRICE   \n",
            "7366     1229949     533581       2004-01-17     H       CAPRICE   \n",
            "9189     3422638    1553890       2014-06-18     G         TAHOE   \n",
            "9795     3622181    1733189       2015-08-15     K           SRX   \n",
            "\n",
            "                          COLOUR  ACTUAL_PRICE  DISCOUNTED RATIO  MODELYR  \\\n",
            "0            Silver Ice Metallic  2.215993e+05          0.064453   2018.0   \n",
            "546          Pepperdust Metallic  9.227248e+05          0.056046   2019.0   \n",
            "1370  Black Meet Kettle Metallic  1.574456e+05          0.061358   2018.0   \n",
            "1723               White Diamond  5.535253e+05          0.052901   2012.0   \n",
            "2828                       Black  3.875053e+06          0.061757   2019.0   \n",
            "2953         Silver Ice Metallic  3.210964e+05          0.000000   2020.0   \n",
            "2957                Bright White  1.782787e+06          0.034412   1996.0   \n",
            "3344        Bright Aqua Metallic  1.388768e+06          0.033095   1997.0   \n",
            "5178               PHANTOM BLACK  9.780099e+05         -0.002554   2002.0   \n",
            "7366                Quick Silver  8.548839e+05          0.000000   2004.0   \n",
            "9189                Summit White  1.593702e+05          0.044683   2014.0   \n",
            "9795        Crystal Red Tintcoat  1.673060e+05          0.000000   2015.0   \n",
            "\n",
            "      STORECODE GENCO GENDER     CUS_BIRTH_DATE  \n",
            "0            73   SIL      F  75/01/28 00:00:00  \n",
            "546          44   GOL      F                NaN  \n",
            "1370         51   BLA      M  94/11/09 00:00:00  \n",
            "1723         90   WHI      F  86/04/11 00:00:00  \n",
            "2828         51   BLA      F  86/07/03 00:00:00  \n",
            "2953         34   SIL      M  95/04/02 00:00:00  \n",
            "2957         37   NaN      F  95/02/12 00:00:00  \n",
            "3344         16   NaN      M  91/01/21 00:00:00  \n",
            "5178         55   NaN      F  93/09/01 00:00:00  \n",
            "7366         58   NaN      F  89/04/21 00:00:01  \n",
            "9189         76   WHI      M  81/09/30 00:00:01  \n",
            "9795         85   RED      F                NaN  \n"
          ]
        }
      ]
    },
    {
      "cell_type": "markdown",
      "source": [
        "##    Anomolies of the Used Cars Sales Data\n",
        "\n",
        "1. There are Typos in Actual Price, Gender which need to be fixed\n",
        "2. The dataset has 12 Outliers  \n",
        "2. 22% of Transaction Dates are missing\n"
      ],
      "metadata": {
        "id": "cOY8tPTsQ5Zh"
      }
    },
    {
      "cell_type": "markdown",
      "source": [
        "# Indicators need to be calculated\n",
        "\n",
        "Average Customer Spending\n",
        "\n",
        "Average Transaction Per Customer\n",
        "\n",
        "Average Car Price\n",
        "\n"
      ],
      "metadata": {
        "id": "gUgLZAS_Q5PN"
      }
    },
    {
      "cell_type": "code",
      "source": [
        "df.head()"
      ],
      "metadata": {
        "colab": {
          "base_uri": "https://localhost:8080/",
          "height": 310
        },
        "id": "St4qYHij61yR",
        "outputId": "16025bca-cdea-4cde-b747-20f748863c38"
      },
      "execution_count": 43,
      "outputs": [
        {
          "output_type": "execute_result",
          "data": {
            "text/plain": [
              "   CUSTOMERID  VEHICLEID TRANSACTION_DATE BRAND     MODEL  \\\n",
              "0     2741953     243834       2018-01-28     C    IMPALA   \n",
              "1     2357269     243635       2017-12-27     D    MALIBU   \n",
              "2     1366119     262206       2019-08-28     G  TRAVERSE   \n",
              "3           0     267485       2019-08-29     G  CREW-CAB   \n",
              "4      482589     231904       2017-01-31     G     TAHOE   \n",
              "\n",
              "                COLOUR   ACTUAL_PRICE  DISCOUNTED RATIO  MODELYR  STORECODE  \\\n",
              "0  Silver Ice Metallic  221599.285825          0.064453   2018.0         73   \n",
              "1  Coppertino Metallic   14654.951754          0.064372   2018.0         88   \n",
              "2         Summit White   22436.110791          0.067584   2019.0         71   \n",
              "3         Summit White   30461.502246          0.000000   2020.0         39   \n",
              "4                Black   30488.934677          0.060465   2017.0         84   \n",
              "\n",
              "  GENCO GENDER     CUS_BIRTH_DATE  \n",
              "0   SIL      F  75/01/28 00:00:00  \n",
              "1   BRO      F  95/02/12 00:00:00  \n",
              "2   WHI      F  89/09/01 00:00:00  \n",
              "3   WHI      F  84/03/20 00:00:00  \n",
              "4   BLA      M  98/10/02 00:00:00  "
            ],
            "text/html": [
              "\n",
              "  <div id=\"df-c609e0fa-978d-40bf-9fb3-e1a83e335b6d\" class=\"colab-df-container\">\n",
              "    <div>\n",
              "<style scoped>\n",
              "    .dataframe tbody tr th:only-of-type {\n",
              "        vertical-align: middle;\n",
              "    }\n",
              "\n",
              "    .dataframe tbody tr th {\n",
              "        vertical-align: top;\n",
              "    }\n",
              "\n",
              "    .dataframe thead th {\n",
              "        text-align: right;\n",
              "    }\n",
              "</style>\n",
              "<table border=\"1\" class=\"dataframe\">\n",
              "  <thead>\n",
              "    <tr style=\"text-align: right;\">\n",
              "      <th></th>\n",
              "      <th>CUSTOMERID</th>\n",
              "      <th>VEHICLEID</th>\n",
              "      <th>TRANSACTION_DATE</th>\n",
              "      <th>BRAND</th>\n",
              "      <th>MODEL</th>\n",
              "      <th>COLOUR</th>\n",
              "      <th>ACTUAL_PRICE</th>\n",
              "      <th>DISCOUNTED RATIO</th>\n",
              "      <th>MODELYR</th>\n",
              "      <th>STORECODE</th>\n",
              "      <th>GENCO</th>\n",
              "      <th>GENDER</th>\n",
              "      <th>CUS_BIRTH_DATE</th>\n",
              "    </tr>\n",
              "  </thead>\n",
              "  <tbody>\n",
              "    <tr>\n",
              "      <th>0</th>\n",
              "      <td>2741953</td>\n",
              "      <td>243834</td>\n",
              "      <td>2018-01-28</td>\n",
              "      <td>C</td>\n",
              "      <td>IMPALA</td>\n",
              "      <td>Silver Ice Metallic</td>\n",
              "      <td>221599.285825</td>\n",
              "      <td>0.064453</td>\n",
              "      <td>2018.0</td>\n",
              "      <td>73</td>\n",
              "      <td>SIL</td>\n",
              "      <td>F</td>\n",
              "      <td>75/01/28 00:00:00</td>\n",
              "    </tr>\n",
              "    <tr>\n",
              "      <th>1</th>\n",
              "      <td>2357269</td>\n",
              "      <td>243635</td>\n",
              "      <td>2017-12-27</td>\n",
              "      <td>D</td>\n",
              "      <td>MALIBU</td>\n",
              "      <td>Coppertino Metallic</td>\n",
              "      <td>14654.951754</td>\n",
              "      <td>0.064372</td>\n",
              "      <td>2018.0</td>\n",
              "      <td>88</td>\n",
              "      <td>BRO</td>\n",
              "      <td>F</td>\n",
              "      <td>95/02/12 00:00:00</td>\n",
              "    </tr>\n",
              "    <tr>\n",
              "      <th>2</th>\n",
              "      <td>1366119</td>\n",
              "      <td>262206</td>\n",
              "      <td>2019-08-28</td>\n",
              "      <td>G</td>\n",
              "      <td>TRAVERSE</td>\n",
              "      <td>Summit White</td>\n",
              "      <td>22436.110791</td>\n",
              "      <td>0.067584</td>\n",
              "      <td>2019.0</td>\n",
              "      <td>71</td>\n",
              "      <td>WHI</td>\n",
              "      <td>F</td>\n",
              "      <td>89/09/01 00:00:00</td>\n",
              "    </tr>\n",
              "    <tr>\n",
              "      <th>3</th>\n",
              "      <td>0</td>\n",
              "      <td>267485</td>\n",
              "      <td>2019-08-29</td>\n",
              "      <td>G</td>\n",
              "      <td>CREW-CAB</td>\n",
              "      <td>Summit White</td>\n",
              "      <td>30461.502246</td>\n",
              "      <td>0.000000</td>\n",
              "      <td>2020.0</td>\n",
              "      <td>39</td>\n",
              "      <td>WHI</td>\n",
              "      <td>F</td>\n",
              "      <td>84/03/20 00:00:00</td>\n",
              "    </tr>\n",
              "    <tr>\n",
              "      <th>4</th>\n",
              "      <td>482589</td>\n",
              "      <td>231904</td>\n",
              "      <td>2017-01-31</td>\n",
              "      <td>G</td>\n",
              "      <td>TAHOE</td>\n",
              "      <td>Black</td>\n",
              "      <td>30488.934677</td>\n",
              "      <td>0.060465</td>\n",
              "      <td>2017.0</td>\n",
              "      <td>84</td>\n",
              "      <td>BLA</td>\n",
              "      <td>M</td>\n",
              "      <td>98/10/02 00:00:00</td>\n",
              "    </tr>\n",
              "  </tbody>\n",
              "</table>\n",
              "</div>\n",
              "    <div class=\"colab-df-buttons\">\n",
              "\n",
              "  <div class=\"colab-df-container\">\n",
              "    <button class=\"colab-df-convert\" onclick=\"convertToInteractive('df-c609e0fa-978d-40bf-9fb3-e1a83e335b6d')\"\n",
              "            title=\"Convert this dataframe to an interactive table.\"\n",
              "            style=\"display:none;\">\n",
              "\n",
              "  <svg xmlns=\"http://www.w3.org/2000/svg\" height=\"24px\" viewBox=\"0 -960 960 960\">\n",
              "    <path d=\"M120-120v-720h720v720H120Zm60-500h600v-160H180v160Zm220 220h160v-160H400v160Zm0 220h160v-160H400v160ZM180-400h160v-160H180v160Zm440 0h160v-160H620v160ZM180-180h160v-160H180v160Zm440 0h160v-160H620v160Z\"/>\n",
              "  </svg>\n",
              "    </button>\n",
              "\n",
              "  <style>\n",
              "    .colab-df-container {\n",
              "      display:flex;\n",
              "      gap: 12px;\n",
              "    }\n",
              "\n",
              "    .colab-df-convert {\n",
              "      background-color: #E8F0FE;\n",
              "      border: none;\n",
              "      border-radius: 50%;\n",
              "      cursor: pointer;\n",
              "      display: none;\n",
              "      fill: #1967D2;\n",
              "      height: 32px;\n",
              "      padding: 0 0 0 0;\n",
              "      width: 32px;\n",
              "    }\n",
              "\n",
              "    .colab-df-convert:hover {\n",
              "      background-color: #E2EBFA;\n",
              "      box-shadow: 0px 1px 2px rgba(60, 64, 67, 0.3), 0px 1px 3px 1px rgba(60, 64, 67, 0.15);\n",
              "      fill: #174EA6;\n",
              "    }\n",
              "\n",
              "    .colab-df-buttons div {\n",
              "      margin-bottom: 4px;\n",
              "    }\n",
              "\n",
              "    [theme=dark] .colab-df-convert {\n",
              "      background-color: #3B4455;\n",
              "      fill: #D2E3FC;\n",
              "    }\n",
              "\n",
              "    [theme=dark] .colab-df-convert:hover {\n",
              "      background-color: #434B5C;\n",
              "      box-shadow: 0px 1px 3px 1px rgba(0, 0, 0, 0.15);\n",
              "      filter: drop-shadow(0px 1px 2px rgba(0, 0, 0, 0.3));\n",
              "      fill: #FFFFFF;\n",
              "    }\n",
              "  </style>\n",
              "\n",
              "    <script>\n",
              "      const buttonEl =\n",
              "        document.querySelector('#df-c609e0fa-978d-40bf-9fb3-e1a83e335b6d button.colab-df-convert');\n",
              "      buttonEl.style.display =\n",
              "        google.colab.kernel.accessAllowed ? 'block' : 'none';\n",
              "\n",
              "      async function convertToInteractive(key) {\n",
              "        const element = document.querySelector('#df-c609e0fa-978d-40bf-9fb3-e1a83e335b6d');\n",
              "        const dataTable =\n",
              "          await google.colab.kernel.invokeFunction('convertToInteractive',\n",
              "                                                    [key], {});\n",
              "        if (!dataTable) return;\n",
              "\n",
              "        const docLinkHtml = 'Like what you see? Visit the ' +\n",
              "          '<a target=\"_blank\" href=https://colab.research.google.com/notebooks/data_table.ipynb>data table notebook</a>'\n",
              "          + ' to learn more about interactive tables.';\n",
              "        element.innerHTML = '';\n",
              "        dataTable['output_type'] = 'display_data';\n",
              "        await google.colab.output.renderOutput(dataTable, element);\n",
              "        const docLink = document.createElement('div');\n",
              "        docLink.innerHTML = docLinkHtml;\n",
              "        element.appendChild(docLink);\n",
              "      }\n",
              "    </script>\n",
              "  </div>\n",
              "\n",
              "\n",
              "<div id=\"df-c12e60ae-fea6-4d09-9e7d-760d5c86a543\">\n",
              "  <button class=\"colab-df-quickchart\" onclick=\"quickchart('df-c12e60ae-fea6-4d09-9e7d-760d5c86a543')\"\n",
              "            title=\"Suggest charts.\"\n",
              "            style=\"display:none;\">\n",
              "\n",
              "<svg xmlns=\"http://www.w3.org/2000/svg\" height=\"24px\"viewBox=\"0 0 24 24\"\n",
              "     width=\"24px\">\n",
              "    <g>\n",
              "        <path d=\"M19 3H5c-1.1 0-2 .9-2 2v14c0 1.1.9 2 2 2h14c1.1 0 2-.9 2-2V5c0-1.1-.9-2-2-2zM9 17H7v-7h2v7zm4 0h-2V7h2v10zm4 0h-2v-4h2v4z\"/>\n",
              "    </g>\n",
              "</svg>\n",
              "  </button>\n",
              "\n",
              "<style>\n",
              "  .colab-df-quickchart {\n",
              "    background-color: #E8F0FE;\n",
              "    border: none;\n",
              "    border-radius: 50%;\n",
              "    cursor: pointer;\n",
              "    display: none;\n",
              "    fill: #1967D2;\n",
              "    height: 32px;\n",
              "    padding: 0 0 0 0;\n",
              "    width: 32px;\n",
              "  }\n",
              "\n",
              "  .colab-df-quickchart:hover {\n",
              "    background-color: #E2EBFA;\n",
              "    box-shadow: 0px 1px 2px rgba(60, 64, 67, 0.3), 0px 1px 3px 1px rgba(60, 64, 67, 0.15);\n",
              "    fill: #174EA6;\n",
              "  }\n",
              "\n",
              "  [theme=dark] .colab-df-quickchart {\n",
              "    background-color: #3B4455;\n",
              "    fill: #D2E3FC;\n",
              "  }\n",
              "\n",
              "  [theme=dark] .colab-df-quickchart:hover {\n",
              "    background-color: #434B5C;\n",
              "    box-shadow: 0px 1px 3px 1px rgba(0, 0, 0, 0.15);\n",
              "    filter: drop-shadow(0px 1px 2px rgba(0, 0, 0, 0.3));\n",
              "    fill: #FFFFFF;\n",
              "  }\n",
              "</style>\n",
              "\n",
              "  <script>\n",
              "    async function quickchart(key) {\n",
              "      const charts = await google.colab.kernel.invokeFunction(\n",
              "          'suggestCharts', [key], {});\n",
              "    }\n",
              "    (() => {\n",
              "      let quickchartButtonEl =\n",
              "        document.querySelector('#df-c12e60ae-fea6-4d09-9e7d-760d5c86a543 button');\n",
              "      quickchartButtonEl.style.display =\n",
              "        google.colab.kernel.accessAllowed ? 'block' : 'none';\n",
              "    })();\n",
              "  </script>\n",
              "</div>\n",
              "    </div>\n",
              "  </div>\n"
            ]
          },
          "metadata": {},
          "execution_count": 43
        }
      ]
    },
    {
      "cell_type": "markdown",
      "source": [
        "This is Average Spending of each Customer"
      ],
      "metadata": {
        "id": "fRc1kz49ZKjA"
      }
    },
    {
      "cell_type": "code",
      "source": [
        "def avg_cust_spending(df):\n",
        "  print(df.groupby('CUSTOMERID').ACTUAL_PRICE.agg('mean'))"
      ],
      "metadata": {
        "id": "C_egJbtZ7DUL"
      },
      "execution_count": 44,
      "outputs": []
    },
    {
      "cell_type": "markdown",
      "source": [
        "Number of Transactions by Each Customer"
      ],
      "metadata": {
        "id": "jlGN66Z9aZqu"
      }
    },
    {
      "cell_type": "code",
      "source": [
        "def no_of_trans(df):\n",
        "  print(df.groupby('CUSTOMERID')['TRANSACTION_DATE'].count().sort_values(ascending=False))"
      ],
      "metadata": {
        "id": "Bni-f_bK_Xbj"
      },
      "execution_count": 45,
      "outputs": []
    },
    {
      "cell_type": "code",
      "source": [
        "def avgprice(df):\n",
        "  print(df['ACTUAL_PRICE'].agg('mean'))"
      ],
      "metadata": {
        "id": "o2HA8bqjfChV"
      },
      "execution_count": 46,
      "outputs": []
    },
    {
      "cell_type": "code",
      "source": [],
      "metadata": {
        "id": "S3qcqPV_fSb2"
      },
      "execution_count": 46,
      "outputs": []
    },
    {
      "cell_type": "markdown",
      "source": [
        "Average Price of Each Model"
      ],
      "metadata": {
        "id": "G1P-MLXUcchO"
      }
    },
    {
      "cell_type": "code",
      "source": [
        "df.groupby('MODEL').ACTUAL_PRICE.agg('mean').sort_values(ascending=False)"
      ],
      "metadata": {
        "colab": {
          "base_uri": "https://localhost:8080/"
        },
        "id": "1721YyPraDX0",
        "outputId": "cdd3fc48-fe4b-43c9-a8e3-b42c86712ac3"
      },
      "execution_count": 47,
      "outputs": [
        {
          "output_type": "execute_result",
          "data": {
            "text/plain": [
              "MODEL\n",
              "ESCALADE    50537.777660\n",
              "CT6         43639.493098\n",
              "CORVETTE    43155.350052\n",
              "XTS         38126.893232\n",
              "BOLT EV     36848.515878\n",
              "                ...     \n",
              "LANOS        3758.443737\n",
              "ROCSTA       3665.680515\n",
              "TOWNER       3519.603900\n",
              "TOPLAND      3167.098126\n",
              "MATIZ        3015.611161\n",
              "Name: ACTUAL_PRICE, Length: 76, dtype: float64"
            ]
          },
          "metadata": {},
          "execution_count": 47
        }
      ]
    },
    {
      "cell_type": "markdown",
      "source": [
        "## Total"
      ],
      "metadata": {
        "id": "bmIQ0QGodykt"
      }
    },
    {
      "cell_type": "code",
      "source": [
        "#Average Customer Spending\n",
        "avg_cust_spending(df)"
      ],
      "metadata": {
        "colab": {
          "base_uri": "https://localhost:8080/"
        },
        "id": "ALVAY0wHyyo8",
        "outputId": "3367b9e0-50b3-48c0-ea2a-cab104a8dca8"
      },
      "execution_count": 51,
      "outputs": [
        {
          "output_type": "stream",
          "name": "stdout",
          "text": [
            "CUSTOMERID\n",
            "0          24680.735035\n",
            "17          9156.979663\n",
            "25          8888.008500\n",
            "78          8638.898302\n",
            "286        17108.051715\n",
            "               ...     \n",
            "3813098    14168.601000\n",
            "3813751    22432.668930\n",
            "3823919    14886.286920\n",
            "3826950    16176.412800\n",
            "3827363    11669.088906\n",
            "Name: ACTUAL_PRICE, Length: 5926, dtype: float64\n"
          ]
        }
      ]
    },
    {
      "cell_type": "code",
      "source": [
        "#Average Transaction of the Customers\n",
        "no_of_trans(df)"
      ],
      "metadata": {
        "colab": {
          "base_uri": "https://localhost:8080/"
        },
        "id": "-7ykhxSZfbLA",
        "outputId": "66e990e5-f0a2-485d-dec1-37002eac258d"
      },
      "execution_count": 50,
      "outputs": [
        {
          "output_type": "stream",
          "name": "stdout",
          "text": [
            "CUSTOMERID\n",
            "4591       712\n",
            "578497     279\n",
            "613        140\n",
            "17         113\n",
            "2590218     94\n",
            "          ... \n",
            "3132878      0\n",
            "514915       0\n",
            "3162701      0\n",
            "2755969      0\n",
            "3189811      0\n",
            "Name: TRANSACTION_DATE, Length: 5926, dtype: int64\n"
          ]
        }
      ]
    },
    {
      "cell_type": "code",
      "source": [
        "#Average Price of the Cars\n",
        "avgprice(df)"
      ],
      "metadata": {
        "colab": {
          "base_uri": "https://localhost:8080/"
        },
        "id": "V17F_NXTeX7K",
        "outputId": "dd21675a-e84f-43a9-dcb4-f8081324834d"
      },
      "execution_count": 49,
      "outputs": [
        {
          "output_type": "stream",
          "name": "stdout",
          "text": [
            "15953.227218040654\n"
          ]
        }
      ]
    },
    {
      "cell_type": "markdown",
      "source": [
        "## Car Model"
      ],
      "metadata": {
        "id": "VtnxRekDd1yL"
      }
    },
    {
      "cell_type": "code",
      "source": [
        "df.head(2)"
      ],
      "metadata": {
        "colab": {
          "base_uri": "https://localhost:8080/",
          "height": 112
        },
        "id": "RkFEmNxH0S9v",
        "outputId": "90cf6789-53e8-4636-8c49-3073c7793940"
      },
      "execution_count": 59,
      "outputs": [
        {
          "output_type": "execute_result",
          "data": {
            "text/plain": [
              "   CUSTOMERID  VEHICLEID TRANSACTION_DATE BRAND   MODEL               COLOUR  \\\n",
              "0     2741953     243834       2018-01-28     C  IMPALA  Silver Ice Metallic   \n",
              "1     2357269     243635       2017-12-27     D  MALIBU  Coppertino Metallic   \n",
              "\n",
              "    ACTUAL_PRICE  DISCOUNTED RATIO  MODELYR  STORECODE GENCO GENDER  \\\n",
              "0  221599.285825          0.064453   2018.0         73   SIL      F   \n",
              "1   14654.951754          0.064372   2018.0         88   BRO      F   \n",
              "\n",
              "      CUS_BIRTH_DATE  \n",
              "0  75/01/28 00:00:00  \n",
              "1  95/02/12 00:00:00  "
            ],
            "text/html": [
              "\n",
              "  <div id=\"df-6974e266-e9c5-42a0-af02-952b43bcf4e5\" class=\"colab-df-container\">\n",
              "    <div>\n",
              "<style scoped>\n",
              "    .dataframe tbody tr th:only-of-type {\n",
              "        vertical-align: middle;\n",
              "    }\n",
              "\n",
              "    .dataframe tbody tr th {\n",
              "        vertical-align: top;\n",
              "    }\n",
              "\n",
              "    .dataframe thead th {\n",
              "        text-align: right;\n",
              "    }\n",
              "</style>\n",
              "<table border=\"1\" class=\"dataframe\">\n",
              "  <thead>\n",
              "    <tr style=\"text-align: right;\">\n",
              "      <th></th>\n",
              "      <th>CUSTOMERID</th>\n",
              "      <th>VEHICLEID</th>\n",
              "      <th>TRANSACTION_DATE</th>\n",
              "      <th>BRAND</th>\n",
              "      <th>MODEL</th>\n",
              "      <th>COLOUR</th>\n",
              "      <th>ACTUAL_PRICE</th>\n",
              "      <th>DISCOUNTED RATIO</th>\n",
              "      <th>MODELYR</th>\n",
              "      <th>STORECODE</th>\n",
              "      <th>GENCO</th>\n",
              "      <th>GENDER</th>\n",
              "      <th>CUS_BIRTH_DATE</th>\n",
              "    </tr>\n",
              "  </thead>\n",
              "  <tbody>\n",
              "    <tr>\n",
              "      <th>0</th>\n",
              "      <td>2741953</td>\n",
              "      <td>243834</td>\n",
              "      <td>2018-01-28</td>\n",
              "      <td>C</td>\n",
              "      <td>IMPALA</td>\n",
              "      <td>Silver Ice Metallic</td>\n",
              "      <td>221599.285825</td>\n",
              "      <td>0.064453</td>\n",
              "      <td>2018.0</td>\n",
              "      <td>73</td>\n",
              "      <td>SIL</td>\n",
              "      <td>F</td>\n",
              "      <td>75/01/28 00:00:00</td>\n",
              "    </tr>\n",
              "    <tr>\n",
              "      <th>1</th>\n",
              "      <td>2357269</td>\n",
              "      <td>243635</td>\n",
              "      <td>2017-12-27</td>\n",
              "      <td>D</td>\n",
              "      <td>MALIBU</td>\n",
              "      <td>Coppertino Metallic</td>\n",
              "      <td>14654.951754</td>\n",
              "      <td>0.064372</td>\n",
              "      <td>2018.0</td>\n",
              "      <td>88</td>\n",
              "      <td>BRO</td>\n",
              "      <td>F</td>\n",
              "      <td>95/02/12 00:00:00</td>\n",
              "    </tr>\n",
              "  </tbody>\n",
              "</table>\n",
              "</div>\n",
              "    <div class=\"colab-df-buttons\">\n",
              "\n",
              "  <div class=\"colab-df-container\">\n",
              "    <button class=\"colab-df-convert\" onclick=\"convertToInteractive('df-6974e266-e9c5-42a0-af02-952b43bcf4e5')\"\n",
              "            title=\"Convert this dataframe to an interactive table.\"\n",
              "            style=\"display:none;\">\n",
              "\n",
              "  <svg xmlns=\"http://www.w3.org/2000/svg\" height=\"24px\" viewBox=\"0 -960 960 960\">\n",
              "    <path d=\"M120-120v-720h720v720H120Zm60-500h600v-160H180v160Zm220 220h160v-160H400v160Zm0 220h160v-160H400v160ZM180-400h160v-160H180v160Zm440 0h160v-160H620v160ZM180-180h160v-160H180v160Zm440 0h160v-160H620v160Z\"/>\n",
              "  </svg>\n",
              "    </button>\n",
              "\n",
              "  <style>\n",
              "    .colab-df-container {\n",
              "      display:flex;\n",
              "      gap: 12px;\n",
              "    }\n",
              "\n",
              "    .colab-df-convert {\n",
              "      background-color: #E8F0FE;\n",
              "      border: none;\n",
              "      border-radius: 50%;\n",
              "      cursor: pointer;\n",
              "      display: none;\n",
              "      fill: #1967D2;\n",
              "      height: 32px;\n",
              "      padding: 0 0 0 0;\n",
              "      width: 32px;\n",
              "    }\n",
              "\n",
              "    .colab-df-convert:hover {\n",
              "      background-color: #E2EBFA;\n",
              "      box-shadow: 0px 1px 2px rgba(60, 64, 67, 0.3), 0px 1px 3px 1px rgba(60, 64, 67, 0.15);\n",
              "      fill: #174EA6;\n",
              "    }\n",
              "\n",
              "    .colab-df-buttons div {\n",
              "      margin-bottom: 4px;\n",
              "    }\n",
              "\n",
              "    [theme=dark] .colab-df-convert {\n",
              "      background-color: #3B4455;\n",
              "      fill: #D2E3FC;\n",
              "    }\n",
              "\n",
              "    [theme=dark] .colab-df-convert:hover {\n",
              "      background-color: #434B5C;\n",
              "      box-shadow: 0px 1px 3px 1px rgba(0, 0, 0, 0.15);\n",
              "      filter: drop-shadow(0px 1px 2px rgba(0, 0, 0, 0.3));\n",
              "      fill: #FFFFFF;\n",
              "    }\n",
              "  </style>\n",
              "\n",
              "    <script>\n",
              "      const buttonEl =\n",
              "        document.querySelector('#df-6974e266-e9c5-42a0-af02-952b43bcf4e5 button.colab-df-convert');\n",
              "      buttonEl.style.display =\n",
              "        google.colab.kernel.accessAllowed ? 'block' : 'none';\n",
              "\n",
              "      async function convertToInteractive(key) {\n",
              "        const element = document.querySelector('#df-6974e266-e9c5-42a0-af02-952b43bcf4e5');\n",
              "        const dataTable =\n",
              "          await google.colab.kernel.invokeFunction('convertToInteractive',\n",
              "                                                    [key], {});\n",
              "        if (!dataTable) return;\n",
              "\n",
              "        const docLinkHtml = 'Like what you see? Visit the ' +\n",
              "          '<a target=\"_blank\" href=https://colab.research.google.com/notebooks/data_table.ipynb>data table notebook</a>'\n",
              "          + ' to learn more about interactive tables.';\n",
              "        element.innerHTML = '';\n",
              "        dataTable['output_type'] = 'display_data';\n",
              "        await google.colab.output.renderOutput(dataTable, element);\n",
              "        const docLink = document.createElement('div');\n",
              "        docLink.innerHTML = docLinkHtml;\n",
              "        element.appendChild(docLink);\n",
              "      }\n",
              "    </script>\n",
              "  </div>\n",
              "\n",
              "    </div>\n",
              "  </div>\n"
            ]
          },
          "metadata": {},
          "execution_count": 59
        }
      ]
    },
    {
      "cell_type": "code",
      "source": [
        "#Average Customer Spending\n",
        "df.groupby(['MODEL','CUSTOMERID']).ACTUAL_PRICE.agg('mean')"
      ],
      "metadata": {
        "colab": {
          "base_uri": "https://localhost:8080/"
        },
        "id": "4xph5bFI0QKL",
        "outputId": "7cad2ba9-3b4e-45ce-f70b-59a4d8e506a2"
      },
      "execution_count": 58,
      "outputs": [
        {
          "output_type": "execute_result",
          "data": {
            "text/plain": [
              "MODEL  CUSTOMERID\n",
              "9-3    305435        10047.175686\n",
              "       729217        13238.495711\n",
              "       888316        12882.462264\n",
              "       1235645        9956.781436\n",
              "       1277919        9896.661000\n",
              "                         ...     \n",
              "tahoe  707591        34031.856108\n",
              "       742285        35639.291306\n",
              "       1230294       32627.263044\n",
              "       1441735       36225.598385\n",
              "       2850962       31219.801772\n",
              "Name: ACTUAL_PRICE, Length: 6327, dtype: float64"
            ]
          },
          "metadata": {},
          "execution_count": 58
        }
      ]
    },
    {
      "cell_type": "code",
      "source": [
        "#Average Transaction Per Customer\n",
        "df.groupby(['MODEL','CUSTOMERID']).ACTUAL_PRICE.agg('count')"
      ],
      "metadata": {
        "colab": {
          "base_uri": "https://localhost:8080/"
        },
        "id": "4jD9WsEp0Zf-",
        "outputId": "6e211358-21d8-48dc-9b41-8ce2e382de8f"
      },
      "execution_count": 63,
      "outputs": [
        {
          "output_type": "execute_result",
          "data": {
            "text/plain": [
              "MODEL  CUSTOMERID\n",
              "9-3    305435        1\n",
              "       729217        2\n",
              "       888316        1\n",
              "       1235645       1\n",
              "       1277919       1\n",
              "                    ..\n",
              "tahoe  707591        1\n",
              "       742285        1\n",
              "       1230294       1\n",
              "       1441735       1\n",
              "       2850962       1\n",
              "Name: ACTUAL_PRICE, Length: 6327, dtype: int64"
            ]
          },
          "metadata": {},
          "execution_count": 63
        }
      ]
    },
    {
      "cell_type": "code",
      "source": [
        "#Average Car Price\n",
        "df.groupby(['MODEL']).ACTUAL_PRICE.agg('mean')"
      ],
      "metadata": {
        "colab": {
          "base_uri": "https://localhost:8080/"
        },
        "id": "O8gvido34O4S",
        "outputId": "1c059d2f-e2a9-469a-cdbb-f9e6fefed615"
      },
      "execution_count": 64,
      "outputs": [
        {
          "output_type": "execute_result",
          "data": {
            "text/plain": [
              "MODEL\n",
              "9-3          11403.116701\n",
              "9-5          13833.977092\n",
              "ASTRA         5440.360558\n",
              "ATS          26925.804168\n",
              "AVALANCHE    18641.237169\n",
              "                 ...     \n",
              "XLR          32463.219650\n",
              "XT4          30283.271231\n",
              "XT5          34231.672754\n",
              "XTS          38126.893232\n",
              "tahoe        35425.395271\n",
              "Name: ACTUAL_PRICE, Length: 76, dtype: float64"
            ]
          },
          "metadata": {},
          "execution_count": 64
        }
      ]
    },
    {
      "cell_type": "markdown",
      "source": [
        "## Gender"
      ],
      "metadata": {
        "id": "GGVXvLPr46NO"
      }
    },
    {
      "cell_type": "code",
      "source": [
        "#Average Customer Spending\n",
        "df.groupby(['GENDER','CUSTOMERID']).ACTUAL_PRICE.agg('mean')"
      ],
      "metadata": {
        "colab": {
          "base_uri": "https://localhost:8080/"
        },
        "outputId": "d8ee6da1-da65-4d50-94cb-b8c8f4ae2a3e",
        "id": "hkRX8tlt46NR"
      },
      "execution_count": 74,
      "outputs": [
        {
          "output_type": "execute_result",
          "data": {
            "text/plain": [
              "GENDER  CUSTOMERID\n",
              "F       0             24554.820688\n",
              "        17             9265.171931\n",
              "        25             8891.964000\n",
              "        78             8673.462180\n",
              "        286           15478.662600\n",
              "                          ...     \n",
              "nan     3570072       10400.037930\n",
              "        3606794       18504.620100\n",
              "        3618031       16573.703220\n",
              "        3669760       17171.774820\n",
              "        3764354       11168.987130\n",
              "Name: ACTUAL_PRICE, Length: 6085, dtype: float64"
            ]
          },
          "metadata": {},
          "execution_count": 74
        }
      ]
    },
    {
      "cell_type": "code",
      "source": [
        "#Average Transaction Per Customer\n",
        "df.groupby(['GENDER','CUSTOMERID']).ACTUAL_PRICE.agg('count')"
      ],
      "metadata": {
        "colab": {
          "base_uri": "https://localhost:8080/"
        },
        "outputId": "1d509572-b255-4ec5-bdb4-17b5d7dfd0c6",
        "id": "rkFL4gLl46NS"
      },
      "execution_count": 75,
      "outputs": [
        {
          "output_type": "execute_result",
          "data": {
            "text/plain": [
              "GENDER  CUSTOMERID\n",
              "F       0             195\n",
              "        17             48\n",
              "        25             18\n",
              "        78             14\n",
              "        286             1\n",
              "                     ... \n",
              "nan     3570072         1\n",
              "        3606794         1\n",
              "        3618031         1\n",
              "        3669760         1\n",
              "        3764354         1\n",
              "Name: ACTUAL_PRICE, Length: 6085, dtype: int64"
            ]
          },
          "metadata": {},
          "execution_count": 75
        }
      ]
    },
    {
      "cell_type": "code",
      "source": [
        "#Average Car Price\n",
        "df.groupby(['GENDER','MODEL']).ACTUAL_PRICE.agg('mean')"
      ],
      "metadata": {
        "colab": {
          "base_uri": "https://localhost:8080/"
        },
        "outputId": "bcc52260-50be-474a-b580-03c2862a43dc",
        "id": "KbUQIvTF46NT"
      },
      "execution_count": 76,
      "outputs": [
        {
          "output_type": "execute_result",
          "data": {
            "text/plain": [
              "GENDER  MODEL       \n",
              "F       9-3             10259.263267\n",
              "        9-5             11292.184184\n",
              "        ASTRA            5293.971131\n",
              "        ATS             26414.820477\n",
              "        AVALANCHE       19431.266335\n",
              "                            ...     \n",
              "nan     Trail Blazer    16333.276592\n",
              "        UPLANDER         9695.167830\n",
              "        VENTURE          9476.586900\n",
              "        XT4             35706.947292\n",
              "        XT5             35612.019968\n",
              "Name: ACTUAL_PRICE, Length: 183, dtype: float64"
            ]
          },
          "metadata": {},
          "execution_count": 76
        }
      ]
    },
    {
      "cell_type": "markdown",
      "source": [
        "## AGE Group"
      ],
      "metadata": {
        "id": "xBljVzjO6lXJ"
      }
    },
    {
      "cell_type": "code",
      "source": [
        "df.head(2)"
      ],
      "metadata": {
        "colab": {
          "base_uri": "https://localhost:8080/",
          "height": 112
        },
        "id": "b9--tdxl6omU",
        "outputId": "9bd85e85-2e30-40f8-8c87-fd9cfcf046d2"
      },
      "execution_count": 77,
      "outputs": [
        {
          "output_type": "execute_result",
          "data": {
            "text/plain": [
              "   CUSTOMERID  VEHICLEID TRANSACTION_DATE BRAND   MODEL               COLOUR  \\\n",
              "0     2741953     243834       2018-01-28     C  IMPALA  Silver Ice Metallic   \n",
              "1     2357269     243635       2017-12-27     D  MALIBU  Coppertino Metallic   \n",
              "\n",
              "    ACTUAL_PRICE  DISCOUNTED RATIO  MODELYR  STORECODE GENCO GENDER  \\\n",
              "0  221599.285825          0.064453   2018.0         73   SIL      F   \n",
              "1   14654.951754          0.064372   2018.0         88   BRO      F   \n",
              "\n",
              "      CUS_BIRTH_DATE  \n",
              "0  75/01/28 00:00:00  \n",
              "1  95/02/12 00:00:00  "
            ],
            "text/html": [
              "\n",
              "  <div id=\"df-aa1c8abd-11aa-4006-a7a8-bf230286fada\" class=\"colab-df-container\">\n",
              "    <div>\n",
              "<style scoped>\n",
              "    .dataframe tbody tr th:only-of-type {\n",
              "        vertical-align: middle;\n",
              "    }\n",
              "\n",
              "    .dataframe tbody tr th {\n",
              "        vertical-align: top;\n",
              "    }\n",
              "\n",
              "    .dataframe thead th {\n",
              "        text-align: right;\n",
              "    }\n",
              "</style>\n",
              "<table border=\"1\" class=\"dataframe\">\n",
              "  <thead>\n",
              "    <tr style=\"text-align: right;\">\n",
              "      <th></th>\n",
              "      <th>CUSTOMERID</th>\n",
              "      <th>VEHICLEID</th>\n",
              "      <th>TRANSACTION_DATE</th>\n",
              "      <th>BRAND</th>\n",
              "      <th>MODEL</th>\n",
              "      <th>COLOUR</th>\n",
              "      <th>ACTUAL_PRICE</th>\n",
              "      <th>DISCOUNTED RATIO</th>\n",
              "      <th>MODELYR</th>\n",
              "      <th>STORECODE</th>\n",
              "      <th>GENCO</th>\n",
              "      <th>GENDER</th>\n",
              "      <th>CUS_BIRTH_DATE</th>\n",
              "    </tr>\n",
              "  </thead>\n",
              "  <tbody>\n",
              "    <tr>\n",
              "      <th>0</th>\n",
              "      <td>2741953</td>\n",
              "      <td>243834</td>\n",
              "      <td>2018-01-28</td>\n",
              "      <td>C</td>\n",
              "      <td>IMPALA</td>\n",
              "      <td>Silver Ice Metallic</td>\n",
              "      <td>221599.285825</td>\n",
              "      <td>0.064453</td>\n",
              "      <td>2018.0</td>\n",
              "      <td>73</td>\n",
              "      <td>SIL</td>\n",
              "      <td>F</td>\n",
              "      <td>75/01/28 00:00:00</td>\n",
              "    </tr>\n",
              "    <tr>\n",
              "      <th>1</th>\n",
              "      <td>2357269</td>\n",
              "      <td>243635</td>\n",
              "      <td>2017-12-27</td>\n",
              "      <td>D</td>\n",
              "      <td>MALIBU</td>\n",
              "      <td>Coppertino Metallic</td>\n",
              "      <td>14654.951754</td>\n",
              "      <td>0.064372</td>\n",
              "      <td>2018.0</td>\n",
              "      <td>88</td>\n",
              "      <td>BRO</td>\n",
              "      <td>F</td>\n",
              "      <td>95/02/12 00:00:00</td>\n",
              "    </tr>\n",
              "  </tbody>\n",
              "</table>\n",
              "</div>\n",
              "    <div class=\"colab-df-buttons\">\n",
              "\n",
              "  <div class=\"colab-df-container\">\n",
              "    <button class=\"colab-df-convert\" onclick=\"convertToInteractive('df-aa1c8abd-11aa-4006-a7a8-bf230286fada')\"\n",
              "            title=\"Convert this dataframe to an interactive table.\"\n",
              "            style=\"display:none;\">\n",
              "\n",
              "  <svg xmlns=\"http://www.w3.org/2000/svg\" height=\"24px\" viewBox=\"0 -960 960 960\">\n",
              "    <path d=\"M120-120v-720h720v720H120Zm60-500h600v-160H180v160Zm220 220h160v-160H400v160Zm0 220h160v-160H400v160ZM180-400h160v-160H180v160Zm440 0h160v-160H620v160ZM180-180h160v-160H180v160Zm440 0h160v-160H620v160Z\"/>\n",
              "  </svg>\n",
              "    </button>\n",
              "\n",
              "  <style>\n",
              "    .colab-df-container {\n",
              "      display:flex;\n",
              "      gap: 12px;\n",
              "    }\n",
              "\n",
              "    .colab-df-convert {\n",
              "      background-color: #E8F0FE;\n",
              "      border: none;\n",
              "      border-radius: 50%;\n",
              "      cursor: pointer;\n",
              "      display: none;\n",
              "      fill: #1967D2;\n",
              "      height: 32px;\n",
              "      padding: 0 0 0 0;\n",
              "      width: 32px;\n",
              "    }\n",
              "\n",
              "    .colab-df-convert:hover {\n",
              "      background-color: #E2EBFA;\n",
              "      box-shadow: 0px 1px 2px rgba(60, 64, 67, 0.3), 0px 1px 3px 1px rgba(60, 64, 67, 0.15);\n",
              "      fill: #174EA6;\n",
              "    }\n",
              "\n",
              "    .colab-df-buttons div {\n",
              "      margin-bottom: 4px;\n",
              "    }\n",
              "\n",
              "    [theme=dark] .colab-df-convert {\n",
              "      background-color: #3B4455;\n",
              "      fill: #D2E3FC;\n",
              "    }\n",
              "\n",
              "    [theme=dark] .colab-df-convert:hover {\n",
              "      background-color: #434B5C;\n",
              "      box-shadow: 0px 1px 3px 1px rgba(0, 0, 0, 0.15);\n",
              "      filter: drop-shadow(0px 1px 2px rgba(0, 0, 0, 0.3));\n",
              "      fill: #FFFFFF;\n",
              "    }\n",
              "  </style>\n",
              "\n",
              "    <script>\n",
              "      const buttonEl =\n",
              "        document.querySelector('#df-aa1c8abd-11aa-4006-a7a8-bf230286fada button.colab-df-convert');\n",
              "      buttonEl.style.display =\n",
              "        google.colab.kernel.accessAllowed ? 'block' : 'none';\n",
              "\n",
              "      async function convertToInteractive(key) {\n",
              "        const element = document.querySelector('#df-aa1c8abd-11aa-4006-a7a8-bf230286fada');\n",
              "        const dataTable =\n",
              "          await google.colab.kernel.invokeFunction('convertToInteractive',\n",
              "                                                    [key], {});\n",
              "        if (!dataTable) return;\n",
              "\n",
              "        const docLinkHtml = 'Like what you see? Visit the ' +\n",
              "          '<a target=\"_blank\" href=https://colab.research.google.com/notebooks/data_table.ipynb>data table notebook</a>'\n",
              "          + ' to learn more about interactive tables.';\n",
              "        element.innerHTML = '';\n",
              "        dataTable['output_type'] = 'display_data';\n",
              "        await google.colab.output.renderOutput(dataTable, element);\n",
              "        const docLink = document.createElement('div');\n",
              "        docLink.innerHTML = docLinkHtml;\n",
              "        element.appendChild(docLink);\n",
              "      }\n",
              "    </script>\n",
              "  </div>\n",
              "\n",
              "    </div>\n",
              "  </div>\n"
            ]
          },
          "metadata": {},
          "execution_count": 77
        }
      ]
    },
    {
      "cell_type": "code",
      "source": [
        "\"koushik\"[:2]"
      ],
      "metadata": {
        "colab": {
          "base_uri": "https://localhost:8080/",
          "height": 36
        },
        "id": "7Yr-0frk-sNO",
        "outputId": "6f233648-8e1b-4815-e9d7-a594ff1f6307"
      },
      "execution_count": 85,
      "outputs": [
        {
          "output_type": "execute_result",
          "data": {
            "text/plain": [
              "'ko'"
            ],
            "application/vnd.google.colaboratory.intrinsic+json": {
              "type": "string"
            }
          },
          "metadata": {},
          "execution_count": 85
        }
      ]
    },
    {
      "cell_type": "code",
      "source": [
        "df['CUS_BIRTH_DATE'][:][1][:2]"
      ],
      "metadata": {
        "colab": {
          "base_uri": "https://localhost:8080/",
          "height": 36
        },
        "id": "iM-t_7Ow-Lsu",
        "outputId": "6ac0bafb-3d7b-4224-ab10-7f33ac91af0a"
      },
      "execution_count": 99,
      "outputs": [
        {
          "output_type": "execute_result",
          "data": {
            "text/plain": [
              "'95'"
            ],
            "application/vnd.google.colaboratory.intrinsic+json": {
              "type": "string"
            }
          },
          "metadata": {},
          "execution_count": 99
        }
      ]
    },
    {
      "cell_type": "code",
      "source": [
        "pd.to_datetime(df['CUS_BIRTH_DATE'])"
      ],
      "metadata": {
        "colab": {
          "base_uri": "https://localhost:8080/",
          "height": 643
        },
        "id": "lYdWvC5J63Yw",
        "outputId": "48d7e8f9-4dc1-48a0-ef53-63551758dc2c"
      },
      "execution_count": 80,
      "outputs": [
        {
          "output_type": "error",
          "ename": "ParserError",
          "evalue": "ignored",
          "traceback": [
            "\u001b[0;31m---------------------------------------------------------------------------\u001b[0m",
            "\u001b[0;31mValueError\u001b[0m                                Traceback (most recent call last)",
            "\u001b[0;32m/usr/local/lib/python3.10/dist-packages/dateutil/parser/_parser.py\u001b[0m in \u001b[0;36mparse\u001b[0;34m(self, timestr, default, ignoretz, tzinfos, **kwargs)\u001b[0m\n\u001b[1;32m    648\u001b[0m         \u001b[0;32mtry\u001b[0m\u001b[0;34m:\u001b[0m\u001b[0;34m\u001b[0m\u001b[0;34m\u001b[0m\u001b[0m\n\u001b[0;32m--> 649\u001b[0;31m             \u001b[0mret\u001b[0m \u001b[0;34m=\u001b[0m \u001b[0mself\u001b[0m\u001b[0;34m.\u001b[0m\u001b[0m_build_naive\u001b[0m\u001b[0;34m(\u001b[0m\u001b[0mres\u001b[0m\u001b[0;34m,\u001b[0m \u001b[0mdefault\u001b[0m\u001b[0;34m)\u001b[0m\u001b[0;34m\u001b[0m\u001b[0;34m\u001b[0m\u001b[0m\n\u001b[0m\u001b[1;32m    650\u001b[0m         \u001b[0;32mexcept\u001b[0m \u001b[0mValueError\u001b[0m \u001b[0;32mas\u001b[0m \u001b[0me\u001b[0m\u001b[0;34m:\u001b[0m\u001b[0;34m\u001b[0m\u001b[0;34m\u001b[0m\u001b[0m\n",
            "\u001b[0;32m/usr/local/lib/python3.10/dist-packages/dateutil/parser/_parser.py\u001b[0m in \u001b[0;36m_build_naive\u001b[0;34m(self, res, default)\u001b[0m\n\u001b[1;32m   1234\u001b[0m \u001b[0;34m\u001b[0m\u001b[0m\n\u001b[0;32m-> 1235\u001b[0;31m         \u001b[0mnaive\u001b[0m \u001b[0;34m=\u001b[0m \u001b[0mdefault\u001b[0m\u001b[0;34m.\u001b[0m\u001b[0mreplace\u001b[0m\u001b[0;34m(\u001b[0m\u001b[0;34m**\u001b[0m\u001b[0mrepl\u001b[0m\u001b[0;34m)\u001b[0m\u001b[0;34m\u001b[0m\u001b[0;34m\u001b[0m\u001b[0m\n\u001b[0m\u001b[1;32m   1236\u001b[0m \u001b[0;34m\u001b[0m\u001b[0m\n",
            "\u001b[0;31mValueError\u001b[0m: month must be in 1..12",
            "\nThe above exception was the direct cause of the following exception:\n",
            "\u001b[0;31mParserError\u001b[0m                               Traceback (most recent call last)",
            "\u001b[0;32m/usr/local/lib/python3.10/dist-packages/pandas/_libs/tslib.pyx\u001b[0m in \u001b[0;36mpandas._libs.tslib.array_to_datetime\u001b[0;34m()\u001b[0m\n",
            "\u001b[0;32m/usr/local/lib/python3.10/dist-packages/pandas/_libs/tslibs/parsing.pyx\u001b[0m in \u001b[0;36mpandas._libs.tslibs.parsing.parse_datetime_string\u001b[0;34m()\u001b[0m\n",
            "\u001b[0;32m/usr/local/lib/python3.10/dist-packages/dateutil/parser/_parser.py\u001b[0m in \u001b[0;36mparse\u001b[0;34m(timestr, parserinfo, **kwargs)\u001b[0m\n\u001b[1;32m   1367\u001b[0m     \u001b[0;32melse\u001b[0m\u001b[0;34m:\u001b[0m\u001b[0;34m\u001b[0m\u001b[0;34m\u001b[0m\u001b[0m\n\u001b[0;32m-> 1368\u001b[0;31m         \u001b[0;32mreturn\u001b[0m \u001b[0mDEFAULTPARSER\u001b[0m\u001b[0;34m.\u001b[0m\u001b[0mparse\u001b[0m\u001b[0;34m(\u001b[0m\u001b[0mtimestr\u001b[0m\u001b[0;34m,\u001b[0m \u001b[0;34m**\u001b[0m\u001b[0mkwargs\u001b[0m\u001b[0;34m)\u001b[0m\u001b[0;34m\u001b[0m\u001b[0;34m\u001b[0m\u001b[0m\n\u001b[0m\u001b[1;32m   1369\u001b[0m \u001b[0;34m\u001b[0m\u001b[0m\n",
            "\u001b[0;32m/usr/local/lib/python3.10/dist-packages/dateutil/parser/_parser.py\u001b[0m in \u001b[0;36mparse\u001b[0;34m(self, timestr, default, ignoretz, tzinfos, **kwargs)\u001b[0m\n\u001b[1;32m    650\u001b[0m         \u001b[0;32mexcept\u001b[0m \u001b[0mValueError\u001b[0m \u001b[0;32mas\u001b[0m \u001b[0me\u001b[0m\u001b[0;34m:\u001b[0m\u001b[0;34m\u001b[0m\u001b[0;34m\u001b[0m\u001b[0m\n\u001b[0;32m--> 651\u001b[0;31m             \u001b[0msix\u001b[0m\u001b[0;34m.\u001b[0m\u001b[0mraise_from\u001b[0m\u001b[0;34m(\u001b[0m\u001b[0mParserError\u001b[0m\u001b[0;34m(\u001b[0m\u001b[0mstr\u001b[0m\u001b[0;34m(\u001b[0m\u001b[0me\u001b[0m\u001b[0;34m)\u001b[0m \u001b[0;34m+\u001b[0m \u001b[0;34m\": %s\"\u001b[0m\u001b[0;34m,\u001b[0m \u001b[0mtimestr\u001b[0m\u001b[0;34m)\u001b[0m\u001b[0;34m,\u001b[0m \u001b[0me\u001b[0m\u001b[0;34m)\u001b[0m\u001b[0;34m\u001b[0m\u001b[0;34m\u001b[0m\u001b[0m\n\u001b[0m\u001b[1;32m    652\u001b[0m \u001b[0;34m\u001b[0m\u001b[0m\n",
            "\u001b[0;32m/usr/local/lib/python3.10/dist-packages/six.py\u001b[0m in \u001b[0;36mraise_from\u001b[0;34m(value, from_value)\u001b[0m\n",
            "\u001b[0;31mParserError\u001b[0m: month must be in 1..12: 00/10/03 00:00:00",
            "\nDuring handling of the above exception, another exception occurred:\n",
            "\u001b[0;31mTypeError\u001b[0m                                 Traceback (most recent call last)",
            "\u001b[0;32m/usr/local/lib/python3.10/dist-packages/pandas/_libs/tslib.pyx\u001b[0m in \u001b[0;36mpandas._libs.tslib.array_to_datetime\u001b[0;34m()\u001b[0m\n",
            "\u001b[0;31mTypeError\u001b[0m: invalid string coercion to datetime for \"00/10/03 00:00:00\" at position 6",
            "\nDuring handling of the above exception, another exception occurred:\n",
            "\u001b[0;31mValueError\u001b[0m                                Traceback (most recent call last)",
            "\u001b[0;32m/usr/local/lib/python3.10/dist-packages/dateutil/parser/_parser.py\u001b[0m in \u001b[0;36mparse\u001b[0;34m(self, timestr, default, ignoretz, tzinfos, **kwargs)\u001b[0m\n\u001b[1;32m    648\u001b[0m         \u001b[0;32mtry\u001b[0m\u001b[0;34m:\u001b[0m\u001b[0;34m\u001b[0m\u001b[0;34m\u001b[0m\u001b[0m\n\u001b[0;32m--> 649\u001b[0;31m             \u001b[0mret\u001b[0m \u001b[0;34m=\u001b[0m \u001b[0mself\u001b[0m\u001b[0;34m.\u001b[0m\u001b[0m_build_naive\u001b[0m\u001b[0;34m(\u001b[0m\u001b[0mres\u001b[0m\u001b[0;34m,\u001b[0m \u001b[0mdefault\u001b[0m\u001b[0;34m)\u001b[0m\u001b[0;34m\u001b[0m\u001b[0;34m\u001b[0m\u001b[0m\n\u001b[0m\u001b[1;32m    650\u001b[0m         \u001b[0;32mexcept\u001b[0m \u001b[0mValueError\u001b[0m \u001b[0;32mas\u001b[0m \u001b[0me\u001b[0m\u001b[0;34m:\u001b[0m\u001b[0;34m\u001b[0m\u001b[0;34m\u001b[0m\u001b[0m\n",
            "\u001b[0;32m/usr/local/lib/python3.10/dist-packages/dateutil/parser/_parser.py\u001b[0m in \u001b[0;36m_build_naive\u001b[0;34m(self, res, default)\u001b[0m\n\u001b[1;32m   1234\u001b[0m \u001b[0;34m\u001b[0m\u001b[0m\n\u001b[0;32m-> 1235\u001b[0;31m         \u001b[0mnaive\u001b[0m \u001b[0;34m=\u001b[0m \u001b[0mdefault\u001b[0m\u001b[0;34m.\u001b[0m\u001b[0mreplace\u001b[0m\u001b[0;34m(\u001b[0m\u001b[0;34m**\u001b[0m\u001b[0mrepl\u001b[0m\u001b[0;34m)\u001b[0m\u001b[0;34m\u001b[0m\u001b[0;34m\u001b[0m\u001b[0m\n\u001b[0m\u001b[1;32m   1236\u001b[0m \u001b[0;34m\u001b[0m\u001b[0m\n",
            "\u001b[0;31mValueError\u001b[0m: month must be in 1..12",
            "\nThe above exception was the direct cause of the following exception:\n",
            "\u001b[0;31mParserError\u001b[0m                               Traceback (most recent call last)",
            "\u001b[0;32m<ipython-input-80-e0476b9a413d>\u001b[0m in \u001b[0;36m<cell line: 1>\u001b[0;34m()\u001b[0m\n\u001b[0;32m----> 1\u001b[0;31m \u001b[0mpd\u001b[0m\u001b[0;34m.\u001b[0m\u001b[0mto_datetime\u001b[0m\u001b[0;34m(\u001b[0m\u001b[0mdf\u001b[0m\u001b[0;34m[\u001b[0m\u001b[0;34m'CUS_BIRTH_DATE'\u001b[0m\u001b[0;34m]\u001b[0m\u001b[0;34m)\u001b[0m\u001b[0;34m\u001b[0m\u001b[0;34m\u001b[0m\u001b[0m\n\u001b[0m",
            "\u001b[0;32m/usr/local/lib/python3.10/dist-packages/pandas/core/tools/datetimes.py\u001b[0m in \u001b[0;36mto_datetime\u001b[0;34m(arg, errors, dayfirst, yearfirst, utc, format, exact, unit, infer_datetime_format, origin, cache)\u001b[0m\n\u001b[1;32m   1066\u001b[0m             \u001b[0mresult\u001b[0m \u001b[0;34m=\u001b[0m \u001b[0marg\u001b[0m\u001b[0;34m.\u001b[0m\u001b[0mmap\u001b[0m\u001b[0;34m(\u001b[0m\u001b[0mcache_array\u001b[0m\u001b[0;34m)\u001b[0m\u001b[0;34m\u001b[0m\u001b[0;34m\u001b[0m\u001b[0m\n\u001b[1;32m   1067\u001b[0m         \u001b[0;32melse\u001b[0m\u001b[0;34m:\u001b[0m\u001b[0;34m\u001b[0m\u001b[0;34m\u001b[0m\u001b[0m\n\u001b[0;32m-> 1068\u001b[0;31m             \u001b[0mvalues\u001b[0m \u001b[0;34m=\u001b[0m \u001b[0mconvert_listlike\u001b[0m\u001b[0;34m(\u001b[0m\u001b[0marg\u001b[0m\u001b[0;34m.\u001b[0m\u001b[0m_values\u001b[0m\u001b[0;34m,\u001b[0m \u001b[0mformat\u001b[0m\u001b[0;34m)\u001b[0m\u001b[0;34m\u001b[0m\u001b[0;34m\u001b[0m\u001b[0m\n\u001b[0m\u001b[1;32m   1069\u001b[0m             \u001b[0mresult\u001b[0m \u001b[0;34m=\u001b[0m \u001b[0marg\u001b[0m\u001b[0;34m.\u001b[0m\u001b[0m_constructor\u001b[0m\u001b[0;34m(\u001b[0m\u001b[0mvalues\u001b[0m\u001b[0;34m,\u001b[0m \u001b[0mindex\u001b[0m\u001b[0;34m=\u001b[0m\u001b[0marg\u001b[0m\u001b[0;34m.\u001b[0m\u001b[0mindex\u001b[0m\u001b[0;34m,\u001b[0m \u001b[0mname\u001b[0m\u001b[0;34m=\u001b[0m\u001b[0marg\u001b[0m\u001b[0;34m.\u001b[0m\u001b[0mname\u001b[0m\u001b[0;34m)\u001b[0m\u001b[0;34m\u001b[0m\u001b[0;34m\u001b[0m\u001b[0m\n\u001b[1;32m   1070\u001b[0m     \u001b[0;32melif\u001b[0m \u001b[0misinstance\u001b[0m\u001b[0;34m(\u001b[0m\u001b[0marg\u001b[0m\u001b[0;34m,\u001b[0m \u001b[0;34m(\u001b[0m\u001b[0mABCDataFrame\u001b[0m\u001b[0;34m,\u001b[0m \u001b[0mabc\u001b[0m\u001b[0;34m.\u001b[0m\u001b[0mMutableMapping\u001b[0m\u001b[0;34m)\u001b[0m\u001b[0;34m)\u001b[0m\u001b[0;34m:\u001b[0m\u001b[0;34m\u001b[0m\u001b[0;34m\u001b[0m\u001b[0m\n",
            "\u001b[0;32m/usr/local/lib/python3.10/dist-packages/pandas/core/tools/datetimes.py\u001b[0m in \u001b[0;36m_convert_listlike_datetimes\u001b[0;34m(arg, format, name, tz, unit, errors, infer_datetime_format, dayfirst, yearfirst, exact)\u001b[0m\n\u001b[1;32m    436\u001b[0m     \u001b[0;32massert\u001b[0m \u001b[0mformat\u001b[0m \u001b[0;32mis\u001b[0m \u001b[0;32mNone\u001b[0m \u001b[0;32mor\u001b[0m \u001b[0minfer_datetime_format\u001b[0m\u001b[0;34m\u001b[0m\u001b[0;34m\u001b[0m\u001b[0m\n\u001b[1;32m    437\u001b[0m     \u001b[0mutc\u001b[0m \u001b[0;34m=\u001b[0m \u001b[0mtz\u001b[0m \u001b[0;34m==\u001b[0m \u001b[0;34m\"utc\"\u001b[0m\u001b[0;34m\u001b[0m\u001b[0;34m\u001b[0m\u001b[0m\n\u001b[0;32m--> 438\u001b[0;31m     result, tz_parsed = objects_to_datetime64ns(\n\u001b[0m\u001b[1;32m    439\u001b[0m         \u001b[0marg\u001b[0m\u001b[0;34m,\u001b[0m\u001b[0;34m\u001b[0m\u001b[0;34m\u001b[0m\u001b[0m\n\u001b[1;32m    440\u001b[0m         \u001b[0mdayfirst\u001b[0m\u001b[0;34m=\u001b[0m\u001b[0mdayfirst\u001b[0m\u001b[0;34m,\u001b[0m\u001b[0;34m\u001b[0m\u001b[0;34m\u001b[0m\u001b[0m\n",
            "\u001b[0;32m/usr/local/lib/python3.10/dist-packages/pandas/core/arrays/datetimes.py\u001b[0m in \u001b[0;36mobjects_to_datetime64ns\u001b[0;34m(data, dayfirst, yearfirst, utc, errors, require_iso8601, allow_object, allow_mixed)\u001b[0m\n\u001b[1;32m   2175\u001b[0m     \u001b[0morder\u001b[0m\u001b[0;34m:\u001b[0m \u001b[0mLiteral\u001b[0m\u001b[0;34m[\u001b[0m\u001b[0;34m\"F\"\u001b[0m\u001b[0;34m,\u001b[0m \u001b[0;34m\"C\"\u001b[0m\u001b[0;34m]\u001b[0m \u001b[0;34m=\u001b[0m \u001b[0;34m\"F\"\u001b[0m \u001b[0;32mif\u001b[0m \u001b[0mflags\u001b[0m\u001b[0;34m.\u001b[0m\u001b[0mf_contiguous\u001b[0m \u001b[0;32melse\u001b[0m \u001b[0;34m\"C\"\u001b[0m\u001b[0;34m\u001b[0m\u001b[0;34m\u001b[0m\u001b[0m\n\u001b[1;32m   2176\u001b[0m     \u001b[0;32mtry\u001b[0m\u001b[0;34m:\u001b[0m\u001b[0;34m\u001b[0m\u001b[0;34m\u001b[0m\u001b[0m\n\u001b[0;32m-> 2177\u001b[0;31m         result, tz_parsed = tslib.array_to_datetime(\n\u001b[0m\u001b[1;32m   2178\u001b[0m             \u001b[0mdata\u001b[0m\u001b[0;34m.\u001b[0m\u001b[0mravel\u001b[0m\u001b[0;34m(\u001b[0m\u001b[0;34m\"K\"\u001b[0m\u001b[0;34m)\u001b[0m\u001b[0;34m,\u001b[0m\u001b[0;34m\u001b[0m\u001b[0;34m\u001b[0m\u001b[0m\n\u001b[1;32m   2179\u001b[0m             \u001b[0merrors\u001b[0m\u001b[0;34m=\u001b[0m\u001b[0merrors\u001b[0m\u001b[0;34m,\u001b[0m\u001b[0;34m\u001b[0m\u001b[0;34m\u001b[0m\u001b[0m\n",
            "\u001b[0;32m/usr/local/lib/python3.10/dist-packages/pandas/_libs/tslib.pyx\u001b[0m in \u001b[0;36mpandas._libs.tslib.array_to_datetime\u001b[0;34m()\u001b[0m\n",
            "\u001b[0;32m/usr/local/lib/python3.10/dist-packages/pandas/_libs/tslib.pyx\u001b[0m in \u001b[0;36mpandas._libs.tslib.array_to_datetime\u001b[0;34m()\u001b[0m\n",
            "\u001b[0;32m/usr/local/lib/python3.10/dist-packages/pandas/_libs/tslib.pyx\u001b[0m in \u001b[0;36mpandas._libs.tslib._array_to_datetime_object\u001b[0;34m()\u001b[0m\n",
            "\u001b[0;32m/usr/local/lib/python3.10/dist-packages/pandas/_libs/tslib.pyx\u001b[0m in \u001b[0;36mpandas._libs.tslib._array_to_datetime_object\u001b[0;34m()\u001b[0m\n",
            "\u001b[0;32m/usr/local/lib/python3.10/dist-packages/pandas/_libs/tslibs/parsing.pyx\u001b[0m in \u001b[0;36mpandas._libs.tslibs.parsing.parse_datetime_string\u001b[0;34m()\u001b[0m\n",
            "\u001b[0;32m/usr/local/lib/python3.10/dist-packages/dateutil/parser/_parser.py\u001b[0m in \u001b[0;36mparse\u001b[0;34m(timestr, parserinfo, **kwargs)\u001b[0m\n\u001b[1;32m   1366\u001b[0m         \u001b[0;32mreturn\u001b[0m \u001b[0mparser\u001b[0m\u001b[0;34m(\u001b[0m\u001b[0mparserinfo\u001b[0m\u001b[0;34m)\u001b[0m\u001b[0;34m.\u001b[0m\u001b[0mparse\u001b[0m\u001b[0;34m(\u001b[0m\u001b[0mtimestr\u001b[0m\u001b[0;34m,\u001b[0m \u001b[0;34m**\u001b[0m\u001b[0mkwargs\u001b[0m\u001b[0;34m)\u001b[0m\u001b[0;34m\u001b[0m\u001b[0;34m\u001b[0m\u001b[0m\n\u001b[1;32m   1367\u001b[0m     \u001b[0;32melse\u001b[0m\u001b[0;34m:\u001b[0m\u001b[0;34m\u001b[0m\u001b[0;34m\u001b[0m\u001b[0m\n\u001b[0;32m-> 1368\u001b[0;31m         \u001b[0;32mreturn\u001b[0m \u001b[0mDEFAULTPARSER\u001b[0m\u001b[0;34m.\u001b[0m\u001b[0mparse\u001b[0m\u001b[0;34m(\u001b[0m\u001b[0mtimestr\u001b[0m\u001b[0;34m,\u001b[0m \u001b[0;34m**\u001b[0m\u001b[0mkwargs\u001b[0m\u001b[0;34m)\u001b[0m\u001b[0;34m\u001b[0m\u001b[0;34m\u001b[0m\u001b[0m\n\u001b[0m\u001b[1;32m   1369\u001b[0m \u001b[0;34m\u001b[0m\u001b[0m\n\u001b[1;32m   1370\u001b[0m \u001b[0;34m\u001b[0m\u001b[0m\n",
            "\u001b[0;32m/usr/local/lib/python3.10/dist-packages/dateutil/parser/_parser.py\u001b[0m in \u001b[0;36mparse\u001b[0;34m(self, timestr, default, ignoretz, tzinfos, **kwargs)\u001b[0m\n\u001b[1;32m    649\u001b[0m             \u001b[0mret\u001b[0m \u001b[0;34m=\u001b[0m \u001b[0mself\u001b[0m\u001b[0;34m.\u001b[0m\u001b[0m_build_naive\u001b[0m\u001b[0;34m(\u001b[0m\u001b[0mres\u001b[0m\u001b[0;34m,\u001b[0m \u001b[0mdefault\u001b[0m\u001b[0;34m)\u001b[0m\u001b[0;34m\u001b[0m\u001b[0;34m\u001b[0m\u001b[0m\n\u001b[1;32m    650\u001b[0m         \u001b[0;32mexcept\u001b[0m \u001b[0mValueError\u001b[0m \u001b[0;32mas\u001b[0m \u001b[0me\u001b[0m\u001b[0;34m:\u001b[0m\u001b[0;34m\u001b[0m\u001b[0;34m\u001b[0m\u001b[0m\n\u001b[0;32m--> 651\u001b[0;31m             \u001b[0msix\u001b[0m\u001b[0;34m.\u001b[0m\u001b[0mraise_from\u001b[0m\u001b[0;34m(\u001b[0m\u001b[0mParserError\u001b[0m\u001b[0;34m(\u001b[0m\u001b[0mstr\u001b[0m\u001b[0;34m(\u001b[0m\u001b[0me\u001b[0m\u001b[0;34m)\u001b[0m \u001b[0;34m+\u001b[0m \u001b[0;34m\": %s\"\u001b[0m\u001b[0;34m,\u001b[0m \u001b[0mtimestr\u001b[0m\u001b[0;34m)\u001b[0m\u001b[0;34m,\u001b[0m \u001b[0me\u001b[0m\u001b[0;34m)\u001b[0m\u001b[0;34m\u001b[0m\u001b[0;34m\u001b[0m\u001b[0m\n\u001b[0m\u001b[1;32m    652\u001b[0m \u001b[0;34m\u001b[0m\u001b[0m\n\u001b[1;32m    653\u001b[0m         \u001b[0;32mif\u001b[0m \u001b[0;32mnot\u001b[0m \u001b[0mignoretz\u001b[0m\u001b[0;34m:\u001b[0m\u001b[0;34m\u001b[0m\u001b[0;34m\u001b[0m\u001b[0m\n",
            "\u001b[0;32m/usr/local/lib/python3.10/dist-packages/six.py\u001b[0m in \u001b[0;36mraise_from\u001b[0;34m(value, from_value)\u001b[0m\n",
            "\u001b[0;31mParserError\u001b[0m: month must be in 1..12: 00/10/03 00:00:00 present at position 6"
          ]
        }
      ]
    },
    {
      "cell_type": "code",
      "source": [
        "#Average Customer Spending\n",
        "df.groupby(['GENDER','CUSTOMERID']).ACTUAL_PRICE.agg('mean')"
      ],
      "metadata": {
        "colab": {
          "base_uri": "https://localhost:8080/"
        },
        "outputId": "d8ee6da1-da65-4d50-94cb-b8c8f4ae2a3e",
        "id": "R-IDMauL6lXL"
      },
      "execution_count": null,
      "outputs": [
        {
          "output_type": "execute_result",
          "data": {
            "text/plain": [
              "GENDER  CUSTOMERID\n",
              "F       0             24554.820688\n",
              "        17             9265.171931\n",
              "        25             8891.964000\n",
              "        78             8673.462180\n",
              "        286           15478.662600\n",
              "                          ...     \n",
              "nan     3570072       10400.037930\n",
              "        3606794       18504.620100\n",
              "        3618031       16573.703220\n",
              "        3669760       17171.774820\n",
              "        3764354       11168.987130\n",
              "Name: ACTUAL_PRICE, Length: 6085, dtype: float64"
            ]
          },
          "metadata": {},
          "execution_count": 74
        }
      ]
    },
    {
      "cell_type": "code",
      "source": [
        "#Average Transaction Per Customer\n",
        "df.groupby(['GENDER','CUSTOMERID']).ACTUAL_PRICE.agg('count')"
      ],
      "metadata": {
        "colab": {
          "base_uri": "https://localhost:8080/"
        },
        "outputId": "1d509572-b255-4ec5-bdb4-17b5d7dfd0c6",
        "id": "HFtPVx-m6lXM"
      },
      "execution_count": null,
      "outputs": [
        {
          "output_type": "execute_result",
          "data": {
            "text/plain": [
              "GENDER  CUSTOMERID\n",
              "F       0             195\n",
              "        17             48\n",
              "        25             18\n",
              "        78             14\n",
              "        286             1\n",
              "                     ... \n",
              "nan     3570072         1\n",
              "        3606794         1\n",
              "        3618031         1\n",
              "        3669760         1\n",
              "        3764354         1\n",
              "Name: ACTUAL_PRICE, Length: 6085, dtype: int64"
            ]
          },
          "metadata": {},
          "execution_count": 75
        }
      ]
    },
    {
      "cell_type": "code",
      "source": [
        "#Average Car Price\n",
        "df.groupby(['GENDER','MODEL']).ACTUAL_PRICE.agg('mean')"
      ],
      "metadata": {
        "colab": {
          "base_uri": "https://localhost:8080/"
        },
        "outputId": "bcc52260-50be-474a-b580-03c2862a43dc",
        "id": "5Sth46It6lXN"
      },
      "execution_count": null,
      "outputs": [
        {
          "output_type": "execute_result",
          "data": {
            "text/plain": [
              "GENDER  MODEL       \n",
              "F       9-3             10259.263267\n",
              "        9-5             11292.184184\n",
              "        ASTRA            5293.971131\n",
              "        ATS             26414.820477\n",
              "        AVALANCHE       19431.266335\n",
              "                            ...     \n",
              "nan     Trail Blazer    16333.276592\n",
              "        UPLANDER         9695.167830\n",
              "        VENTURE          9476.586900\n",
              "        XT4             35706.947292\n",
              "        XT5             35612.019968\n",
              "Name: ACTUAL_PRICE, Length: 183, dtype: float64"
            ]
          },
          "metadata": {},
          "execution_count": 76
        }
      ]
    }
  ]
}