{
 "cells": [
  {
   "cell_type": "code",
   "execution_count": 2,
   "metadata": {},
   "outputs": [],
   "source": [
    "import pandas as pd\n",
    "import numpy as np"
   ]
  },
  {
   "cell_type": "code",
   "execution_count": 3,
   "metadata": {},
   "outputs": [
    {
     "name": "stdout",
     "output_type": "stream",
     "text": [
      "{\"d\":[{\"i\":{\"height\":1500,\"imageUrl\":\"https://m.media-amazon.com/images/M/MV5BYTRiNDQwYzAtMzVlZS00NTI5LWJjYjUtMzkwNTUzMWMxZTllXkEyXkFqcGdeQXVyNDIzMzcwNjc@._V1_.jpg\",\"width\":1102},\"id\":\"tt0944947\",\"l\":\"Game of Thrones\",\"q\":\"TV series\",\"qid\":\"tvSeries\",\"rank\":25,\"s\":\"Emilia Clarke, Peter Dinklage\",\"y\":2011,\"yr\":\"2011-2019\"},{\"i\":{\"height\":1200,\"imageUrl\":\"https://m.media-amazon.com/images/M/MV5BNTg1MjEyNWYtNzJkZi00ZTM5LThlNWMtMmNiNmE3N2QxNTllXkEyXkFqcGdeQXVyNTE1NjY5Mg@@._V1_.jpg\",\"width\":782},\"id\":\"tt13380510\",\"l\":\"Game of Thrones\",\"q\":\"video\",\"qid\":\"video\",\"rank\":14221,\"s\":\"Roy Dotrice\",\"y\":2003},{\"i\":{\"height\":1200,\"imageUrl\":\"https://m.media-amazon.com/images/M/MV5BZDdlMzQzNDQtNTAxMS00NTMyLTgxYTAtYzQ0OGI1YzZhY2Y3XkEyXkFqcGdeQXVyMTkxNjUyNQ@@._V1_.jpg\",\"width\":810},\"id\":\"tt10090796\",\"l\":\"Game of Thrones: The Last Watch\",\"q\":\"TV movie\",\"qid\":\"tvMovie\",\"rank\":25148,\"s\":\"Kevin Alexander, Alfie Allen\",\"y\":2019},{\"i\":{\"height\":750,\"imageUrl\":\"https://m.media-amazon.com/images/M/MV5BODg5NDJhMjYtMTYyYi00NzAwLTliNmYtNGZhMjQ4ZjNkMjgyXkEyXkFqcGdeQXVyNTA3MTU2MjE@._V1_.jpg\",\"width\":1334},\"id\":\"tt6857128\",\"l\":\"Unaired Game of Thrones Prequel Pilot\",\"q\":\"TV movie\",\"qid\":\"tvMovie\",\"rank\":23879,\"s\":\"Josh Whitehouse, Naomi Watts\",\"y\":2019},{\"id\":\"tt21073266\",\"l\":\"Untitled Jon Snow/Game of Thrones Spinoff\",\"q\":\"TV series\",\"qid\":\"tvSeries\",\"rank\":20734,\"s\":\"\"},{\"i\":{\"height\":1500,\"imageUrl\":\"https://m.media-amazon.com/images/M/MV5BZjBiOGIyY2YtOTA3OC00YzY1LThkYjktMGRkYTNhNTExY2I2XkEyXkFqcGdeQXVyMTEyMjM2NDc2._V1_.jpg\",\"width\":1013},\"id\":\"tt11198330\",\"l\":\"House of the Dragon\",\"q\":\"TV series\",\"qid\":\"tvSeries\",\"rank\":115,\"s\":\"Matt Smith, Graham McTavish\",\"y\":2022},{\"i\":{\"height\":840,\"imageUrl\":\"https://m.media-amazon.com/images/M/MV5BMGYzNDJiOTgtN2Y1OC00NmM2LTk3MTMtZmFhNmJlMzQzNGNhXkEyXkFqcGdeQXVyNDgyODgxNjE@._V1_.jpg\",\"width\":600},\"id\":\"tt7937220\",\"l\":\"Game of Thrones Conquest & Rebellion: An Animated History of the Seven Kingdoms\",\"q\":\"video\",\"qid\":\"video\",\"rank\":36962,\"s\":\"Pilou Asbæk, Nikolaj Coster-Waldau\",\"y\":2017},{\"i\":{\"height\":1330,\"imageUrl\":\"https://m.media-amazon.com/images/M/MV5BMzc3M2U2NzAtMmY1MS00NWYwLWFmMzctYzE2NWEyODYxNTk4XkEyXkFqcGdeQXVyMzIzNzE4Njk@._V1_.jpg\",\"width\":1021},\"id\":\"tt6411748\",\"l\":\"Purge of Kingdoms\",\"q\":\"feature\",\"qid\":\"movie\",\"rank\":52164,\"s\":\"Angus Macfadyen, Lou Ferrigno\",\"y\":2019}],\"q\":\"game%20of%20thr\",\"v\":1}\n"
     ]
    }
   ],
   "source": [
    "import requests\n",
    "\n",
    "url = \"https://imdb8.p.rapidapi.com/auto-complete\"\n",
    "\n",
    "querystring = {\"q\":\"game of thr\"}\n",
    "\n",
    "headers = {\n",
    "\t\"X-RapidAPI-Key\": \"b7e81ff2bfmsh2e1205dbda0f4b9p164748jsn52545df1c5da\",\n",
    "\t\"X-RapidAPI-Host\": \"imdb8.p.rapidapi.com\"\n",
    "}\n",
    "\n",
    "response = requests.request(\"GET\", url, headers=headers, params=querystring)\n",
    "\n",
    "print(response.text)"
   ]
  },
  {
   "cell_type": "code",
   "execution_count": 4,
   "metadata": {},
   "outputs": [],
   "source": [
    "df=pd.DataFrame(response)"
   ]
  },
  {
   "cell_type": "code",
   "execution_count": 5,
   "metadata": {},
   "outputs": [
    {
     "data": {
      "text/html": [
       "<div>\n",
       "<style scoped>\n",
       "    .dataframe tbody tr th:only-of-type {\n",
       "        vertical-align: middle;\n",
       "    }\n",
       "\n",
       "    .dataframe tbody tr th {\n",
       "        vertical-align: top;\n",
       "    }\n",
       "\n",
       "    .dataframe thead th {\n",
       "        text-align: right;\n",
       "    }\n",
       "</style>\n",
       "<table border=\"1\" class=\"dataframe\">\n",
       "  <thead>\n",
       "    <tr style=\"text-align: right;\">\n",
       "      <th></th>\n",
       "      <th>0</th>\n",
       "    </tr>\n",
       "  </thead>\n",
       "  <tbody>\n",
       "    <tr>\n",
       "      <th>0</th>\n",
       "      <td>b'{\"d\":[{\"i\":{\"height\":1500,\"imageUrl\":\"https:...</td>\n",
       "    </tr>\n",
       "    <tr>\n",
       "      <th>1</th>\n",
       "      <td>b'EyXkFqcGdeQXVyNDIzMzcwNjc@._V1_.jpg\",\"width\"...</td>\n",
       "    </tr>\n",
       "    <tr>\n",
       "      <th>2</th>\n",
       "      <td>b'\":25,\"s\":\"Emilia Clarke, Peter Dinklage\",\"y\"...</td>\n",
       "    </tr>\n",
       "    <tr>\n",
       "      <th>3</th>\n",
       "      <td>b'mages/M/MV5BNTg1MjEyNWYtNzJkZi00ZTM5LThlNWMt...</td>\n",
       "    </tr>\n",
       "    <tr>\n",
       "      <th>4</th>\n",
       "      <td>b'\",\"l\":\"Game of Thrones\",\"q\":\"video\",\"qid\":\"v...</td>\n",
       "    </tr>\n",
       "  </tbody>\n",
       "</table>\n",
       "</div>"
      ],
      "text/plain": [
       "                                                   0\n",
       "0  b'{\"d\":[{\"i\":{\"height\":1500,\"imageUrl\":\"https:...\n",
       "1  b'EyXkFqcGdeQXVyNDIzMzcwNjc@._V1_.jpg\",\"width\"...\n",
       "2  b'\":25,\"s\":\"Emilia Clarke, Peter Dinklage\",\"y\"...\n",
       "3  b'mages/M/MV5BNTg1MjEyNWYtNzJkZi00ZTM5LThlNWMt...\n",
       "4  b'\",\"l\":\"Game of Thrones\",\"q\":\"video\",\"qid\":\"v..."
      ]
     },
     "execution_count": 5,
     "metadata": {},
     "output_type": "execute_result"
    }
   ],
   "source": [
    "df.head()"
   ]
  },
  {
   "cell_type": "code",
   "execution_count": 6,
   "metadata": {},
   "outputs": [],
   "source": [
    "df.to_csv(\"test.csv\")"
   ]
  },
  {
   "cell_type": "code",
   "execution_count": null,
   "metadata": {},
   "outputs": [],
   "source": []
  }
 ],
 "metadata": {
  "kernelspec": {
   "display_name": "Python 3",
   "language": "python",
   "name": "python3"
  },
  "language_info": {
   "codemirror_mode": {
    "name": "ipython",
    "version": 3
   },
   "file_extension": ".py",
   "mimetype": "text/x-python",
   "name": "python",
   "nbconvert_exporter": "python",
   "pygments_lexer": "ipython3",
   "version": "3.9.13"
  },
  "orig_nbformat": 4
 },
 "nbformat": 4,
 "nbformat_minor": 2
}
