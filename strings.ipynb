{
 "cells": [
  {
   "cell_type": "markdown",
   "metadata": {},
   "source": [
    "In this Notebook I'm going to practise the Concept of Memory and String Operations "
   ]
  },
  {
   "cell_type": "code",
   "execution_count": 3,
   "metadata": {},
   "outputs": [
    {
     "name": "stdout",
     "output_type": "stream",
     "text": [
      "the value of constant a is 20\n"
     ]
    }
   ],
   "source": [
    "a = 20\n",
    "#Place Holders f\"{}\"\n",
    "print(f\"the value of constant a is {a}\")"
   ]
  },
  {
   "cell_type": "code",
   "execution_count": 6,
   "metadata": {},
   "outputs": [
    {
     "name": "stdout",
     "output_type": "stream",
     "text": [
      "true and false would be False\n",
      "True or Fals would be True\n",
      "\n",
      "Not True would be False\n"
     ]
    }
   ],
   "source": [
    "a=True\n",
    "b=False\n",
    "print(f\"true and false would be {a and b}\")\n",
    "print(f\"True or Fals would be {a or b}\\n\")\n",
    "print(f\"Not True would be {not a}\")"
   ]
  },
  {
   "cell_type": "code",
   "execution_count": 8,
   "metadata": {},
   "outputs": [
    {
     "name": "stdout",
     "output_type": "stream",
     "text": [
      "Integer value of True:  1\n",
      "Integer value of False:  0\n"
     ]
    }
   ],
   "source": [
    "print(\"Integer value of True: \",int(True))\n",
    "print(\"Integer value of False: \",int(False))"
   ]
  },
  {
   "cell_type": "code",
   "execution_count": null,
   "metadata": {},
   "outputs": [],
   "source": [
    "a = [1,2,4]\n",
    "b = [1,2,4]"
   ]
  },
  {
   "cell_type": "markdown",
   "metadata": {},
   "source": [
    "Strings are immuatable [You cant make modifications after you define the string]\n",
    "\n",
    "Lists are mutable [You can make changes to the string]"
   ]
  },
  {
   "cell_type": "code",
   "execution_count": 17,
   "metadata": {},
   "outputs": [],
   "source": [
    "a = 2\n",
    "b = 2"
   ]
  },
  {
   "cell_type": "markdown",
   "metadata": {},
   "source": [
    "Difference Between is Operator and Equality"
   ]
  },
  {
   "cell_type": "code",
   "execution_count": 18,
   "metadata": {},
   "outputs": [
    {
     "data": {
      "text/plain": [
       "True"
      ]
     },
     "execution_count": 18,
     "metadata": {},
     "output_type": "execute_result"
    }
   ],
   "source": [
    "a == b"
   ]
  },
  {
   "cell_type": "code",
   "execution_count": 19,
   "metadata": {},
   "outputs": [
    {
     "data": {
      "text/plain": [
       "True"
      ]
     },
     "execution_count": 19,
     "metadata": {},
     "output_type": "execute_result"
    }
   ],
   "source": [
    "a is b"
   ]
  },
  {
   "cell_type": "code",
   "execution_count": 27,
   "metadata": {},
   "outputs": [
    {
     "name": "stdout",
     "output_type": "stream",
     "text": [
      "Checking the Parameters a and b are equal[Address] True\n",
      "Checking the Parameters a and b are equal[Memory] False\n",
      "\n",
      "Address of A: 1364019335488\n",
      "Address of B: 1364292328640\n",
      "\n",
      "Checking the Parameters c and d are equal[Address] True\n",
      "Checking the Parameters a and b are equal[Memory] True\n",
      "\n",
      "Address of C: 1363954133328\n",
      "Address of D: 1363954133328\n"
     ]
    }
   ],
   "source": [
    "a = [1,2,3,4]\n",
    "b = [1,2,3,4]\n",
    "c = 2\n",
    "d = 2\n",
    "\n",
    "print (f\"Checking the Parameters a and b are equal[Address] {a == b}\")\n",
    "print (f\"Checking the Parameters a and b are equal[Memory] {a is b}\\n\")\n",
    "print(f\"Address of A: {id(a)}\")\n",
    "print(f\"Address of B: {id(b)}\\n\")\n",
    "\n",
    "print (f\"Checking the Parameters c and d are equal[Address] {c == d}\")\n",
    "print (f\"Checking the Parameters a and b are equal[Memory] {d is c}\\n\")\n",
    "print(f\"Address of C: {id(c)}\")\n",
    "print(f\"Address of D: {id(d)}\")"
   ]
  },
  {
   "cell_type": "code",
   "execution_count": null,
   "metadata": {},
   "outputs": [],
   "source": []
  }
 ],
 "metadata": {
  "kernelspec": {
   "display_name": "Python 3",
   "language": "python",
   "name": "python3"
  },
  "language_info": {
   "codemirror_mode": {
    "name": "ipython",
    "version": 3
   },
   "file_extension": ".py",
   "mimetype": "text/x-python",
   "name": "python",
   "nbconvert_exporter": "python",
   "pygments_lexer": "ipython3",
   "version": "3.9.13"
  }
 },
 "nbformat": 4,
 "nbformat_minor": 2
}
