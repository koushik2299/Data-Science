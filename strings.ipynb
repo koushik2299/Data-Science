{
 "cells": [
  {
   "cell_type": "markdown",
   "metadata": {},
   "source": [
    "In this Notebook I'm going to practise the Concept of Memory and String Operations "
   ]
  },
  {
   "cell_type": "code",
   "execution_count": 3,
   "metadata": {},
   "outputs": [
    {
     "name": "stdout",
     "output_type": "stream",
     "text": [
      "the value of constant a is 20\n"
     ]
    }
   ],
   "source": [
    "a = 20\n",
    "#Place Holders f\"{}\"\n",
    "print(f\"the value of constant a is {a}\")"
   ]
  },
  {
   "cell_type": "code",
   "execution_count": 6,
   "metadata": {},
   "outputs": [
    {
     "name": "stdout",
     "output_type": "stream",
     "text": [
      "true and false would be False\n",
      "True or Fals would be True\n",
      "\n",
      "Not True would be False\n"
     ]
    }
   ],
   "source": [
    "a=True\n",
    "b=False\n",
    "print(f\"true and false would be {a and b}\")\n",
    "print(f\"True or Fals would be {a or b}\\n\")\n",
    "print(f\"Not True would be {not a}\")"
   ]
  },
  {
   "cell_type": "code",
   "execution_count": 8,
   "metadata": {},
   "outputs": [
    {
     "name": "stdout",
     "output_type": "stream",
     "text": [
      "Integer value of True:  1\n",
      "Integer value of False:  0\n"
     ]
    }
   ],
   "source": [
    "print(\"Integer value of True: \",int(True))\n",
    "print(\"Integer value of False: \",int(False))"
   ]
  },
  {
   "cell_type": "code",
   "execution_count": null,
   "metadata": {},
   "outputs": [],
   "source": [
    "a = [1,2,4]\n",
    "b = [1,2,4]"
   ]
  },
  {
   "cell_type": "markdown",
   "metadata": {},
   "source": [
    "Strings are immuatable [You cant make modifications after you define the string]\n",
    "\n",
    "Lists are mutable [You can make changes to the string]"
   ]
  },
  {
   "cell_type": "code",
   "execution_count": 17,
   "metadata": {},
   "outputs": [],
   "source": [
    "a = 2\n",
    "b = 2"
   ]
  },
  {
   "cell_type": "markdown",
   "metadata": {},
   "source": [
    "Difference Between is Operator and Equality"
   ]
  },
  {
   "cell_type": "code",
   "execution_count": 18,
   "metadata": {},
   "outputs": [
    {
     "data": {
      "text/plain": [
       "True"
      ]
     },
     "execution_count": 18,
     "metadata": {},
     "output_type": "execute_result"
    }
   ],
   "source": [
    "a == b"
   ]
  },
  {
   "cell_type": "code",
   "execution_count": 19,
   "metadata": {},
   "outputs": [
    {
     "data": {
      "text/plain": [
       "True"
      ]
     },
     "execution_count": 19,
     "metadata": {},
     "output_type": "execute_result"
    }
   ],
   "source": [
    "a is b"
   ]
  },
  {
   "cell_type": "markdown",
   "metadata": {},
   "source": [
    "The difference between comparing lists and variables (in this case, integers) lies in how Python handles objects in memory and how it optimizes memory usage.\n",
    "\n",
    "Lists:\n",
    "\n",
    "When you create two separate lists like a and b, Python creates two distinct objects in memory, even if they contain the same elements. This is because lists are mutable objects, and Python treats them as separate entities. Therefore, a is b returns False because the two lists have different identities.\n",
    "Variables (integers in this case):\n",
    "\n",
    "When you create two variables c and d with the same integer value, Python may optimize memory usage. This is due to a concept called \"integer interning.\" Python caches small integers (usually between -5 and 256) and assigns the same memory location for variables with these values. This optimization is done for performance and memory efficiency.\n",
    "So, when you compare c and d using is, it returns True because they both reference the same memory location, even though they are separate variables.\n",
    "In summary, the difference is due to Python's internal memory management and optimization for certain types like integers. Lists, being mutable objects, are typically not optimized in the same way, resulting in different memory identities for separate list objects."
   ]
  },
  {
   "cell_type": "code",
   "execution_count": 27,
   "metadata": {},
   "outputs": [
    {
     "name": "stdout",
     "output_type": "stream",
     "text": [
      "Checking the Parameters a and b are equal[Address] True\n",
      "Checking the Parameters a and b are equal[Memory] False\n",
      "\n",
      "Address of A: 1364019335488\n",
      "Address of B: 1364292328640\n",
      "\n",
      "Checking the Parameters c and d are equal[Address] True\n",
      "Checking the Parameters a and b are equal[Memory] True\n",
      "\n",
      "Address of C: 1363954133328\n",
      "Address of D: 1363954133328\n"
     ]
    }
   ],
   "source": [
    "a = [1,2,3,4]\n",
    "b = [1,2,3,4]\n",
    "c = 2\n",
    "d = 2\n",
    "\n",
    "print (f\"Checking the Parameters a and b are equal[Address] {a == b}\")\n",
    "print (f\"Checking the Parameters a and b are equal[Memory] {a is b}\\n\")\n",
    "print(f\"Address of A: {id(a)}\")\n",
    "print(f\"Address of B: {id(b)}\\n\")\n",
    "\n",
    "print (f\"Checking the Parameters c and d are equal[Address] {c == d}\")\n",
    "print (f\"Checking the Parameters a and b are equal[Memory] {d is c}\\n\")\n",
    "print(f\"Address of C: {id(c)}\")\n",
    "print(f\"Address of D: {id(d)}\")"
   ]
  },
  {
   "cell_type": "markdown",
   "metadata": {},
   "source": [
    "**Strings**"
   ]
  },
  {
   "cell_type": "code",
   "execution_count": 30,
   "metadata": {},
   "outputs": [
    {
     "name": "stdout",
     "output_type": "stream",
     "text": [
      "hello how are you\n",
      "<class 'str'>\n"
     ]
    }
   ],
   "source": [
    "a = \"hello how are you\"\n",
    "print(a)\n",
    "print(type(a))"
   ]
  },
  {
   "cell_type": "markdown",
   "metadata": {},
   "source": [
    "String is one of the data structure present in python \n",
    "\n",
    "Where we can store text data numerical symbols etc..\n",
    "\n",
    "Strings are immutable in the sense we cannot change the content of the string"
   ]
  },
  {
   "cell_type": "code",
   "execution_count": 40,
   "metadata": {},
   "outputs": [
    {
     "name": "stdout",
     "output_type": "stream",
     "text": [
      "First 5 Letters of the String: hello\n",
      "Last 5 Letters Can be Accessed through: e you\n",
      "Reversing the String: uoy era woh olleh\n",
      "uoy era woh olleh\n"
     ]
    }
   ],
   "source": [
    "#String Operations \n",
    "\n",
    "print(f\"First 5 Letters of the String: {a[0:5]}\")\n",
    "print(f\"Last 5 Letters Can be Accessed through: {a[-5:]}\")\n",
    "print(f\"Reversing the String: {a[::-1]}\")\n",
    "\n",
    "b=\"\"\n",
    "for i in a:\n",
    "    b = i+b\n",
    "print(b) \n",
    "\n",
    "\n"
   ]
  },
  {
   "cell_type": "code",
   "execution_count": null,
   "metadata": {},
   "outputs": [],
   "source": []
  }
 ],
 "metadata": {
  "kernelspec": {
   "display_name": "Python 3",
   "language": "python",
   "name": "python3"
  },
  "language_info": {
   "codemirror_mode": {
    "name": "ipython",
    "version": 3
   },
   "file_extension": ".py",
   "mimetype": "text/x-python",
   "name": "python",
   "nbconvert_exporter": "python",
   "pygments_lexer": "ipython3",
   "version": "3.9.13"
  }
 },
 "nbformat": 4,
 "nbformat_minor": 2
}
