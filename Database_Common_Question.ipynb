{
  "nbformat": 4,
  "nbformat_minor": 0,
  "metadata": {
    "colab": {
      "provenance": [],
      "authorship_tag": "ABX9TyMt+1JMPY1zHsoX+Yda3c+F",
      "include_colab_link": true
    },
    "kernelspec": {
      "name": "python3",
      "display_name": "Python 3"
    },
    "language_info": {
      "name": "python"
    }
  },
  "cells": [
    {
      "cell_type": "markdown",
      "metadata": {
        "id": "view-in-github",
        "colab_type": "text"
      },
      "source": [
        "<a href=\"https://colab.research.google.com/github/koushik2299/Data-Science/blob/main/Database_Common_Question.ipynb\" target=\"_parent\"><img src=\"https://colab.research.google.com/assets/colab-badge.svg\" alt=\"Open In Colab\"/></a>"
      ]
    },
    {
      "cell_type": "markdown",
      "source": [
        "**Q1. What is a database? Differentiate between SQL and NoSQL databases.**"
      ],
      "metadata": {
        "id": "1Ecya0HRTK2C"
      }
    },
    {
      "cell_type": "markdown",
      "source": [
        "**DATABASE:**  It is a place where we store all information of a particular domain or problem statement in a organised way and accessed electronically"
      ],
      "metadata": {
        "id": "AkPB8KAjTOxh"
      }
    },
    {
      "cell_type": "markdown",
      "source": [
        "**SQL:** Structured Query Language\n",
        "\n",
        "It is a type of database where all the data is stored in a particular structured format"
      ],
      "metadata": {
        "id": "vhAqLCneUMYd"
      }
    },
    {
      "cell_type": "markdown",
      "source": [
        "**NO SQL:** Not Only SQL\n",
        "\n",
        "It is a type of database where data doesnt need to be in a structured format "
      ],
      "metadata": {
        "id": "08TC0xeMUfa9"
      }
    },
    {
      "cell_type": "code",
      "execution_count": null,
      "metadata": {
        "id": "GA-nPjOGKt80"
      },
      "outputs": [],
      "source": []
    }
  ]
}