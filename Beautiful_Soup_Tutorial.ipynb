{
  "nbformat": 4,
  "nbformat_minor": 0,
  "metadata": {
    "colab": {
      "provenance": [],
      "authorship_tag": "ABX9TyOITmLIW5G6DBZosdQEbrbG",
      "include_colab_link": true
    },
    "kernelspec": {
      "name": "python3",
      "display_name": "Python 3"
    },
    "language_info": {
      "name": "python"
    }
  },
  "cells": [
    {
      "cell_type": "markdown",
      "metadata": {
        "id": "view-in-github",
        "colab_type": "text"
      },
      "source": [
        "<a href=\"https://colab.research.google.com/github/koushik2299/Data-Science/blob/main/Beautiful_Soup_Tutorial.ipynb\" target=\"_parent\"><img src=\"https://colab.research.google.com/assets/colab-badge.svg\" alt=\"Open In Colab\"/></a>"
      ]
    },
    {
      "cell_type": "markdown",
      "source": [
        "# libraries"
      ],
      "metadata": {
        "id": "-zJM3d74jkLf"
      }
    },
    {
      "cell_type": "code",
      "execution_count": 1,
      "metadata": {
        "id": "x-eC9yM8if_l"
      },
      "outputs": [],
      "source": [
        "import requests\n",
        "from bs4 import BeautifulSoup as bs"
      ]
    },
    {
      "cell_type": "markdown",
      "source": [
        "# How to get WebPage From Online"
      ],
      "metadata": {
        "id": "son9x27Hi4uV"
      }
    },
    {
      "cell_type": "code",
      "source": [
        "company = \"TATAPOWER\"\n",
        "link = \"https://www.screener.in/company/\"+company+\"/consolidated/\""
      ],
      "metadata": {
        "id": "1JqGZOH6itM_"
      },
      "execution_count": 2,
      "outputs": []
    },
    {
      "cell_type": "code",
      "source": [
        "r = requests.get(link)\n",
        "soup = bs(r.text,'html.parser')"
      ],
      "metadata": {
        "id": "lxQHEx3zjBBG"
      },
      "execution_count": 3,
      "outputs": []
    },
    {
      "cell_type": "markdown",
      "source": [
        "Now Soup Contains all the Html webpage document which can be used for extracting further information."
      ],
      "metadata": {
        "id": "BgQiVg0ojSDr"
      }
    },
    {
      "cell_type": "markdown",
      "source": [
        "# How to Extract Relevant Information"
      ],
      "metadata": {
        "id": "tUBZQ6rdjtoI"
      }
    },
    {
      "cell_type": "code",
      "source": [
        "html_doc = \"\"\"<html>\n",
        "<head>\n",
        "    <title>Sample Blog Post</title>\n",
        "</head>\n",
        "<body>\n",
        "    <h1>Understanding Web Scraping with BeautifulSoup</h1>\n",
        "    <p class=\"author\">Author: John Doe</p>\n",
        "    <p class=\"date\">Date: 2024-02-01</p>\n",
        "    <div class=\"post-body\">\n",
        "        <h2>Introduction</h2>\n",
        "        <p>Web scraping is the process of extracting data from websites...</p>\n",
        "        <h2>Why Web Scraping?</h2>\n",
        "        <p>Web scraping allows for the collection of data from the Internet...</p>\n",
        "        <a href=\"https://example.com/more-info\">Learn More</a>\n",
        "    </div>\n",
        "</body>\n",
        "</html>\n",
        "\"\"\""
      ],
      "metadata": {
        "id": "QX9UHaIFjOgO"
      },
      "execution_count": 15,
      "outputs": []
    },
    {
      "cell_type": "markdown",
      "source": [
        "Converting into soup understandable html using html parser"
      ],
      "metadata": {
        "id": "P08TZsS_kl7c"
      }
    },
    {
      "cell_type": "code",
      "source": [
        "soup = bs(html_doc,'html.parser')"
      ],
      "metadata": {
        "id": "9MwRFreAkFlr"
      },
      "execution_count": 16,
      "outputs": []
    },
    {
      "cell_type": "markdown",
      "source": [
        "Different methods in soup:\n",
        "\n",
        "1. Find <br>\n",
        "2. Findall\n"
      ],
      "metadata": {
        "id": "PG-eijeWkvcn"
      }
    },
    {
      "cell_type": "code",
      "source": [
        "soup.find('h1')"
      ],
      "metadata": {
        "colab": {
          "base_uri": "https://localhost:8080/"
        },
        "id": "N8raY9w6kkb1",
        "outputId": "a0a13f1b-81cb-44e3-e326-7391ba94e05d"
      },
      "execution_count": 17,
      "outputs": [
        {
          "output_type": "execute_result",
          "data": {
            "text/plain": [
              "<h1>Understanding Web Scraping with BeautifulSoup</h1>"
            ]
          },
          "metadata": {},
          "execution_count": 17
        }
      ]
    },
    {
      "cell_type": "code",
      "source": [
        "Title=soup.find('h1').text\n",
        "print(Title)\n",
        "print(type(Title))"
      ],
      "metadata": {
        "colab": {
          "base_uri": "https://localhost:8080/"
        },
        "id": "5414ag1yk-ul",
        "outputId": "5554d888-12df-4e81-b5e9-ece67b7de422"
      },
      "execution_count": 18,
      "outputs": [
        {
          "output_type": "stream",
          "name": "stdout",
          "text": [
            "Understanding Web Scraping with BeautifulSoup\n",
            "<class 'str'>\n"
          ]
        }
      ]
    },
    {
      "cell_type": "code",
      "source": [
        "print(soup.prettify())"
      ],
      "metadata": {
        "colab": {
          "base_uri": "https://localhost:8080/"
        },
        "id": "SYnL35culGJy",
        "outputId": "48423ace-0b65-4e5b-8ac8-7ff8041e40d4"
      },
      "execution_count": 19,
      "outputs": [
        {
          "output_type": "stream",
          "name": "stdout",
          "text": [
            "<html>\n",
            " <head>\n",
            "  <title>\n",
            "   Sample Blog Post\n",
            "  </title>\n",
            " </head>\n",
            " <body>\n",
            "  <h1>\n",
            "   Understanding Web Scraping with BeautifulSoup\n",
            "  </h1>\n",
            "  <p class=\"author\">\n",
            "   Author: John Doe\n",
            "  </p>\n",
            "  <p class=\"date\">\n",
            "   Date: 2024-02-01\n",
            "  </p>\n",
            "  <div class=\"post-body\">\n",
            "   <h2>\n",
            "    Introduction\n",
            "   </h2>\n",
            "   <p>\n",
            "    Web scraping is the process of extracting data from websites...\n",
            "   </p>\n",
            "   <h2>\n",
            "    Why Web Scraping?\n",
            "   </h2>\n",
            "   <p>\n",
            "    Web scraping allows for the collection of data from the Internet...\n",
            "   </p>\n",
            "   <a href=\"https://example.com/more-info\">\n",
            "    Learn More\n",
            "   </a>\n",
            "  </div>\n",
            " </body>\n",
            "</html>\n",
            "\n"
          ]
        }
      ]
    },
    {
      "cell_type": "code",
      "source": [
        "soup.find(\"p\",{'class','author'}).text"
      ],
      "metadata": {
        "colab": {
          "base_uri": "https://localhost:8080/",
          "height": 36
        },
        "id": "SjSonNmbnKDb",
        "outputId": "5ee6d97e-339c-48b2-dcde-90935c71494e"
      },
      "execution_count": 22,
      "outputs": [
        {
          "output_type": "execute_result",
          "data": {
            "text/plain": [
              "'Author: John Doe'"
            ],
            "application/vnd.google.colaboratory.intrinsic+json": {
              "type": "string"
            }
          },
          "metadata": {},
          "execution_count": 22
        }
      ]
    },
    {
      "cell_type": "markdown",
      "source": [
        "**Objective**\n",
        "Extract and print the following information from the HTML:\n",
        "\n",
        "The title of the blog post\n",
        "\n",
        "The author's name\n",
        "\n",
        "The publication date\n",
        "\n",
        "The headings within the post body\n",
        "\n",
        "The paragraphs within the post body\n",
        "\n",
        "The link URL in the post body"
      ],
      "metadata": {
        "id": "8HQTgQ77oDiC"
      }
    },
    {
      "cell_type": "markdown",
      "source": [
        "The title of the blog post"
      ],
      "metadata": {
        "id": "LP7MLCJGoOD2"
      }
    },
    {
      "cell_type": "code",
      "source": [
        "soup.find('h1').text"
      ],
      "metadata": {
        "colab": {
          "base_uri": "https://localhost:8080/",
          "height": 36
        },
        "id": "zuoQKUr1nhRY",
        "outputId": "13a4a21a-23e2-4e19-88e7-4227f95fb285"
      },
      "execution_count": 23,
      "outputs": [
        {
          "output_type": "execute_result",
          "data": {
            "text/plain": [
              "'Understanding Web Scraping with BeautifulSoup'"
            ],
            "application/vnd.google.colaboratory.intrinsic+json": {
              "type": "string"
            }
          },
          "metadata": {},
          "execution_count": 23
        }
      ]
    },
    {
      "cell_type": "markdown",
      "source": [
        "The author's name"
      ],
      "metadata": {
        "id": "Soifni3QoTbV"
      }
    },
    {
      "cell_type": "code",
      "source": [
        "print(soup.prettify)"
      ],
      "metadata": {
        "colab": {
          "base_uri": "https://localhost:8080/"
        },
        "id": "loX5cOkIoUiO",
        "outputId": "46290a1f-865a-423a-af17-b3fcdc1bce00"
      },
      "execution_count": 26,
      "outputs": [
        {
          "output_type": "stream",
          "name": "stdout",
          "text": [
            "<bound method Tag.prettify of <html>\n",
            "<head>\n",
            "<title>Sample Blog Post</title>\n",
            "</head>\n",
            "<body>\n",
            "<h1>Understanding Web Scraping with BeautifulSoup</h1>\n",
            "<p class=\"author\">Author: John Doe</p>\n",
            "<p class=\"date\">Date: 2024-02-01</p>\n",
            "<div class=\"post-body\">\n",
            "<h2>Introduction</h2>\n",
            "<p>Web scraping is the process of extracting data from websites...</p>\n",
            "<h2>Why Web Scraping?</h2>\n",
            "<p>Web scraping allows for the collection of data from the Internet...</p>\n",
            "<a href=\"https://example.com/more-info\">Learn More</a>\n",
            "</div>\n",
            "</body>\n",
            "</html>\n",
            ">\n"
          ]
        }
      ]
    },
    {
      "cell_type": "code",
      "source": [
        "author = soup.find(\"p\",{'class','author'}).text\n",
        "author"
      ],
      "metadata": {
        "colab": {
          "base_uri": "https://localhost:8080/",
          "height": 36
        },
        "id": "wAoQj4vJoRfw",
        "outputId": "6f56d1cd-598e-464e-eb74-93668e909da4"
      },
      "execution_count": 30,
      "outputs": [
        {
          "output_type": "execute_result",
          "data": {
            "text/plain": [
              "'Author: John Doe'"
            ],
            "application/vnd.google.colaboratory.intrinsic+json": {
              "type": "string"
            }
          },
          "metadata": {},
          "execution_count": 30
        }
      ]
    },
    {
      "cell_type": "code",
      "source": [
        "author.split(\": \")[1]"
      ],
      "metadata": {
        "colab": {
          "base_uri": "https://localhost:8080/",
          "height": 36
        },
        "id": "SvFuizFgoily",
        "outputId": "06ecc537-b0ac-4049-fc0a-d16d246647ac"
      },
      "execution_count": 31,
      "outputs": [
        {
          "output_type": "execute_result",
          "data": {
            "text/plain": [
              "'John Doe'"
            ],
            "application/vnd.google.colaboratory.intrinsic+json": {
              "type": "string"
            }
          },
          "metadata": {},
          "execution_count": 31
        }
      ]
    },
    {
      "cell_type": "markdown",
      "source": [
        "The publication date"
      ],
      "metadata": {
        "id": "yPlOvDkUph4L"
      }
    },
    {
      "cell_type": "code",
      "source": [
        "a=(soup.find(\"p\",{'class':'date'}).text)\n",
        "print(a)\n",
        "a.split(\": \")[1]"
      ],
      "metadata": {
        "colab": {
          "base_uri": "https://localhost:8080/",
          "height": 53
        },
        "id": "uZ5DPugSphxO",
        "outputId": "004fa6d2-924b-447f-d4a7-0baa880d4741"
      },
      "execution_count": 34,
      "outputs": [
        {
          "output_type": "stream",
          "name": "stdout",
          "text": [
            "Date: 2024-02-01\n"
          ]
        },
        {
          "output_type": "execute_result",
          "data": {
            "text/plain": [
              "'2024-02-01'"
            ],
            "application/vnd.google.colaboratory.intrinsic+json": {
              "type": "string"
            }
          },
          "metadata": {},
          "execution_count": 34
        }
      ]
    },
    {
      "cell_type": "markdown",
      "source": [
        "The headings within the post body"
      ],
      "metadata": {
        "id": "c2YV7UO2p3SG"
      }
    },
    {
      "cell_type": "code",
      "source": [
        "headings = soup.findAll('h2')\n",
        "headings"
      ],
      "metadata": {
        "colab": {
          "base_uri": "https://localhost:8080/"
        },
        "id": "n9E4NGwuovrt",
        "outputId": "5a600126-9ee1-4623-ad44-b294a7ec3215"
      },
      "execution_count": 37,
      "outputs": [
        {
          "output_type": "execute_result",
          "data": {
            "text/plain": [
              "[<h2>Introduction</h2>, <h2>Why Web Scraping?</h2>]"
            ]
          },
          "metadata": {},
          "execution_count": 37
        }
      ]
    },
    {
      "cell_type": "code",
      "source": [
        "for i in headings:\n",
        "  print(i.text)"
      ],
      "metadata": {
        "colab": {
          "base_uri": "https://localhost:8080/"
        },
        "id": "99BBxW1lqkPl",
        "outputId": "d19b0457-9fd6-48c9-9884-c29db1c5dbad"
      },
      "execution_count": 38,
      "outputs": [
        {
          "output_type": "stream",
          "name": "stdout",
          "text": [
            "Introduction\n",
            "Why Web Scraping?\n"
          ]
        }
      ]
    },
    {
      "cell_type": "markdown",
      "source": [
        "The paragraphs within the post body"
      ],
      "metadata": {
        "id": "YEWRFtRqqyoE"
      }
    },
    {
      "cell_type": "code",
      "source": [
        "pragh = soup.findAll(\"p\")\n",
        "for i in pragh:\n",
        "  print(i.text)"
      ],
      "metadata": {
        "colab": {
          "base_uri": "https://localhost:8080/"
        },
        "id": "HGBv5QxcqsiS",
        "outputId": "709e332e-430d-4d0c-94a0-7439a5560443"
      },
      "execution_count": 39,
      "outputs": [
        {
          "output_type": "stream",
          "name": "stdout",
          "text": [
            "Author: John Doe\n",
            "Date: 2024-02-01\n",
            "Web scraping is the process of extracting data from websites...\n",
            "Web scraping allows for the collection of data from the Internet...\n"
          ]
        }
      ]
    },
    {
      "cell_type": "markdown",
      "source": [
        "The link URL in the post body"
      ],
      "metadata": {
        "id": "sVIaeC-BrFyW"
      }
    },
    {
      "cell_type": "code",
      "source": [
        "soup.find('body').find(\"a\")['href']"
      ],
      "metadata": {
        "colab": {
          "base_uri": "https://localhost:8080/",
          "height": 36
        },
        "id": "a8osUKkWq-7K",
        "outputId": "55069238-6406-45b7-fbb9-eaf9b059e255"
      },
      "execution_count": 44,
      "outputs": [
        {
          "output_type": "execute_result",
          "data": {
            "text/plain": [
              "'https://example.com/more-info'"
            ],
            "application/vnd.google.colaboratory.intrinsic+json": {
              "type": "string"
            }
          },
          "metadata": {},
          "execution_count": 44
        }
      ]
    },
    {
      "cell_type": "code",
      "source": [],
      "metadata": {
        "id": "WcWdiNr7rH7y"
      },
      "execution_count": null,
      "outputs": []
    }
  ]
}