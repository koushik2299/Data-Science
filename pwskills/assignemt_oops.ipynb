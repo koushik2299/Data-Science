{
 "cells": [
  {
   "cell_type": "markdown",
   "metadata": {},
   "source": [
    "**Q1. Explain Class and Object with respect to Object-Oriented Programming. Give a suitable example.**"
   ]
  },
  {
   "cell_type": "markdown",
   "metadata": {},
   "source": [
    "**Class** is a blueprint of an entity and \n",
    "\n",
    "**Object** is an Instance of the Class \n",
    "\n",
    "EXAMPLE: \n",
    "\n",
    "Class Human Being \n",
    "Koushik who is a human being can be considered as Object of class Human Being "
   ]
  },
  {
   "cell_type": "markdown",
   "metadata": {},
   "source": [
    "**Q2.Name the four pillars of OOPs.**"
   ]
  },
  {
   "cell_type": "markdown",
   "metadata": {},
   "source": [
    "1. Abstraction \n",
    "2. Polymorphism \n",
    "3. Inheritence\n",
    "4. Encapsulation"
   ]
  },
  {
   "cell_type": "markdown",
   "metadata": {},
   "source": [
    "Q3. Explain why the __init__() function is used. Give a suitable example."
   ]
  },
  {
   "cell_type": "markdown",
   "metadata": {},
   "source": [
    "Init method is used to initalise variables of the class "
   ]
  },
  {
   "cell_type": "markdown",
   "metadata": {},
   "source": [
    "**Q4. Why self is used in OOPs?**\n",
    "\n",
    "Self is just a reference word which helps in identifying the variables or methods that they belong to the particular class."
   ]
  },
  {
   "cell_type": "markdown",
   "metadata": {},
   "source": [
    "**Q5. Explain Inheritence**\n",
    "\n",
    "Inheritence is one of the pillar in OOPS. Where you can use the properties of the parent class and Use them in the child classes. \n",
    "\n",
    "Example : Animal is a parent class \n",
    "\n",
    "dog is a child class which inherits Animal and now it can use the funcationality of animal."
   ]
  },
  {
   "cell_type": "code",
   "execution_count": null,
   "metadata": {},
   "outputs": [],
   "source": []
  },
  {
   "cell_type": "code",
   "execution_count": null,
   "metadata": {},
   "outputs": [],
   "source": []
  }
 ],
 "metadata": {
  "language_info": {
   "name": "python"
  },
  "orig_nbformat": 4
 },
 "nbformat": 4,
 "nbformat_minor": 2
}
