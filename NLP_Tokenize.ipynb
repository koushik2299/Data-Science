{
  "nbformat": 4,
  "nbformat_minor": 0,
  "metadata": {
    "colab": {
      "provenance": [],
      "authorship_tag": "ABX9TyN8rQlGcV3d1pa8jFlZydNt",
      "include_colab_link": true
    },
    "kernelspec": {
      "name": "python3",
      "display_name": "Python 3"
    },
    "language_info": {
      "name": "python"
    }
  },
  "cells": [
    {
      "cell_type": "markdown",
      "metadata": {
        "id": "view-in-github",
        "colab_type": "text"
      },
      "source": [
        "<a href=\"https://colab.research.google.com/github/koushik2299/Data-Science/blob/main/NLP_Tokenize.ipynb\" target=\"_parent\"><img src=\"https://colab.research.google.com/assets/colab-badge.svg\" alt=\"Open In Colab\"/></a>"
      ]
    },
    {
      "cell_type": "code",
      "execution_count": null,
      "metadata": {
        "id": "gbykbTDWhi8j"
      },
      "outputs": [],
      "source": [
        "import nltk\n",
        "nltk.download('popular')\n",
        "from nltk.tokenize import word_tokenize, sent_tokenize"
      ]
    },
    {
      "cell_type": "code",
      "source": [
        "a = \"hi hello this is koushik, trying to learn NLP. how are you\"\n",
        "\n",
        "sentences=sent_tokenize(a)\n",
        "sentences"
      ],
      "metadata": {
        "colab": {
          "base_uri": "https://localhost:8080/"
        },
        "id": "FWcuvieZhkai",
        "outputId": "9e863ec1-f745-4e4f-bc0f-fb896c9e031b"
      },
      "execution_count": 7,
      "outputs": [
        {
          "output_type": "execute_result",
          "data": {
            "text/plain": [
              "['hi hello this is koushik, trying to learn NLP.', 'how are you']"
            ]
          },
          "metadata": {},
          "execution_count": 7
        }
      ]
    },
    {
      "cell_type": "code",
      "source": [
        "words=word_tokenize(a)\n",
        "words"
      ],
      "metadata": {
        "colab": {
          "base_uri": "https://localhost:8080/"
        },
        "id": "m_LtuuBHiFpd",
        "outputId": "82c50395-0f2b-4b04-aa67-b285a444ac61"
      },
      "execution_count": 8,
      "outputs": [
        {
          "output_type": "execute_result",
          "data": {
            "text/plain": [
              "['hi',\n",
              " 'hello',\n",
              " 'this',\n",
              " 'is',\n",
              " 'koushik',\n",
              " ',',\n",
              " 'trying',\n",
              " 'to',\n",
              " 'learn',\n",
              " 'NLP',\n",
              " '.',\n",
              " 'how',\n",
              " 'are',\n",
              " 'you']"
            ]
          },
          "metadata": {},
          "execution_count": 8
        }
      ]
    },
    {
      "cell_type": "code",
      "source": [
        "from nltk import pos_tag"
      ],
      "metadata": {
        "id": "dUF3In3tiH0y"
      },
      "execution_count": 10,
      "outputs": []
    },
    {
      "cell_type": "code",
      "source": [
        "word_tags = pos_tag(words)\n",
        "word_tags"
      ],
      "metadata": {
        "colab": {
          "base_uri": "https://localhost:8080/"
        },
        "id": "WGF-GOarieie",
        "outputId": "6ea34a7a-bccb-4e04-e089-315c85a3acce"
      },
      "execution_count": 11,
      "outputs": [
        {
          "output_type": "execute_result",
          "data": {
            "text/plain": [
              "[('hi', 'NN'),\n",
              " ('hello', 'NN'),\n",
              " ('this', 'DT'),\n",
              " ('is', 'VBZ'),\n",
              " ('koushik', 'JJ'),\n",
              " (',', ','),\n",
              " ('trying', 'VBG'),\n",
              " ('to', 'TO'),\n",
              " ('learn', 'VB'),\n",
              " ('NLP', 'NNP'),\n",
              " ('.', '.'),\n",
              " ('how', 'WRB'),\n",
              " ('are', 'VBP'),\n",
              " ('you', 'PRP')]"
            ]
          },
          "metadata": {},
          "execution_count": 11
        }
      ]
    },
    {
      "cell_type": "code",
      "source": [
        "from nltk import ne_chunk\n",
        "entites = ne_chunk(word_tags)\n",
        "print(entites)"
      ],
      "metadata": {
        "colab": {
          "base_uri": "https://localhost:8080/"
        },
        "id": "k8zRdSk3ijZJ",
        "outputId": "663343df-9a4f-4c20-f3a7-db126a6e264a"
      },
      "execution_count": 12,
      "outputs": [
        {
          "output_type": "stream",
          "name": "stdout",
          "text": [
            "(S\n",
            "  hi/NN\n",
            "  hello/NN\n",
            "  this/DT\n",
            "  is/VBZ\n",
            "  koushik/JJ\n",
            "  ,/,\n",
            "  trying/VBG\n",
            "  to/TO\n",
            "  learn/VB\n",
            "  (ORGANIZATION NLP/NNP)\n",
            "  ./.\n",
            "  how/WRB\n",
            "  are/VBP\n",
            "  you/PRP)\n"
          ]
        }
      ]
    },
    {
      "cell_type": "code",
      "source": [
        "# Extract all named entities\n",
        "named_entities = []\n",
        "for tagged_tree in entites:\n",
        "    if hasattr(tagged_tree, 'label'):  # Only keep trees with labels, which represent named entities\n",
        "        entity_name = ' '.join(c[0] for c in tagged_tree.leaves())  # Get the name of the entity\n",
        "        entity_type = tagged_tree.label()  # Get the type of entity\n",
        "        named_entities.append((entity_name, entity_type))\n",
        "\n",
        "print(named_entities)\n"
      ],
      "metadata": {
        "colab": {
          "base_uri": "https://localhost:8080/"
        },
        "id": "odT3y9GEi2dT",
        "outputId": "17c7d9f1-127d-4224-93c3-e885b8dae4e7"
      },
      "execution_count": 14,
      "outputs": [
        {
          "output_type": "stream",
          "name": "stdout",
          "text": [
            "[('NLP', 'ORGANIZATION')]\n"
          ]
        }
      ]
    },
    {
      "cell_type": "code",
      "source": [],
      "metadata": {
        "id": "peRSNua5_1t5"
      },
      "execution_count": null,
      "outputs": []
    }
  ]
}