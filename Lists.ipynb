{
 "cells": [
  {
   "cell_type": "markdown",
   "metadata": {},
   "source": [
    "**Properties of Lists**\n",
    "\n",
    "1. **Question:** What is a list in Python?\n",
    "   - **Answer:** A list is an ordered collection of elements that can hold various data types.\n",
    "\n",
    "2. **Question:** How do you create an empty list in Python?\n",
    "   - **Answer:** You can create an empty list by using square brackets: `my_list = []`.\n",
    "\n",
    "3. **Question:** Explain the difference between a list and a tuple.\n",
    "   - **Answer:** Lists are mutable, meaning you can change their contents, while tuples are immutable, meaning their elements cannot be modified once defined.\n",
    "\n",
    "4. **Question:** How can you access an element in a list by its index?\n",
    "   - **Answer:** Elements in a list are accessed by their index, like this: `my_list[index]`.\n",
    "\n",
    "5. **Question:** What is list slicing, and how is it done in Python?\n",
    "   - **Answer:** List slicing is the process of extracting a portion of a list. It's done using the format `my_list[start:stop:step]`.\n",
    "\n",
    "6. **Question:** Describe list comprehensions in Python.\n",
    "   - **Answer:** List comprehensions are a concise way to create lists using a single line of code. For example: `[x for x in range(1, 6)]` generates a list of numbers from 1 to 5.\n",
    "\n",
    "7. **Question:** How do you add an element to the end of a list?\n",
    "   - **Answer:** You can use the `append()` method to add an element to the end of a list: `my_list.append(element)`.\n",
    "\n",
    "8. **Question:** What is the difference between `extend()` and `append()` methods in Python?\n",
    "   - **Answer:** `append()` adds its argument as a single element to the end of the list, while `extend()` adds each element of its argument to the list.\n",
    "\n",
    "9. **Question:** How do you remove an element from a list by value?\n",
    "   - **Answer:** You can use the `remove()` method: `my_list.remove(value)`.\n",
    "\n",
    "10. **Question:** Explain the concept of list comprehension and provide an example.\n",
    "    - **Answer:** List comprehension is a concise way to create lists in Python. For example, `[x**2 for x in range(1, 6)]` generates a list of the squares of numbers from 1 to 5.\n"
   ]
  },
  {
   "cell_type": "code",
   "execution_count": 6,
   "metadata": {},
   "outputs": [
    {
     "name": "stdout",
     "output_type": "stream",
     "text": [
      "[1, 2, 4, 5]\n",
      "<class 'list'>\n"
     ]
    }
   ],
   "source": [
    "lst = [1,2,4,5]\n",
    "print(lst)\n",
    "print(type(lst))"
   ]
  },
  {
   "cell_type": "code",
   "execution_count": 26,
   "metadata": {},
   "outputs": [
    {
     "name": "stdout",
     "output_type": "stream",
     "text": [
      "[5, 4, 2, 1]\n"
     ]
    }
   ],
   "source": [
    "#Sorting a list \n",
    "\n",
    "lst.sort(reverse=True)\n",
    "print(lst)"
   ]
  },
  {
   "cell_type": "code",
   "execution_count": 13,
   "metadata": {},
   "outputs": [
    {
     "name": "stdout",
     "output_type": "stream",
     "text": [
      "[1, 2, 4, 5, 6]\n"
     ]
    }
   ],
   "source": [
    "#Adding elements into the List \n",
    "lst.append(6)\n",
    "print(lst)"
   ]
  },
  {
   "cell_type": "code",
   "execution_count": 2,
   "metadata": {},
   "outputs": [
    {
     "name": "stdout",
     "output_type": "stream",
     "text": [
      "[0, 1, 2, 4, 5]\n"
     ]
    }
   ],
   "source": [
    "#Adding elements in custom Index \n",
    "\n",
    "lst.insert(0,0)\n",
    "print(lst)"
   ]
  },
  {
   "cell_type": "code",
   "execution_count": 7,
   "metadata": {},
   "outputs": [
    {
     "name": "stdout",
     "output_type": "stream",
     "text": [
      "[1, 2, 4, \"I'm Here\", 'Bye Bye', 5]\n"
     ]
    }
   ],
   "source": [
    "lst.insert(3,\"I'm Here\")\n",
    "lst.insert(4,\"Bye Bye\")\n",
    "print(lst)"
   ]
  },
  {
   "cell_type": "code",
   "execution_count": 8,
   "metadata": {},
   "outputs": [
    {
     "name": "stdout",
     "output_type": "stream",
     "text": [
      "[1, 2, 4, \"I'm Here\", 5]\n"
     ]
    }
   ],
   "source": [
    "#Deleting Based on Value\n",
    "lst.remove(\"Bye Bye\")\n",
    "print(lst)"
   ]
  },
  {
   "cell_type": "code",
   "execution_count": 9,
   "metadata": {},
   "outputs": [
    {
     "name": "stdout",
     "output_type": "stream",
     "text": [
      "[1, 2, 4, 5]\n"
     ]
    }
   ],
   "source": [
    "#Deleting based on Index\n",
    "del lst[3]\n",
    "print(lst)"
   ]
  },
  {
   "cell_type": "code",
   "execution_count": 12,
   "metadata": {},
   "outputs": [
    {
     "name": "stdout",
     "output_type": "stream",
     "text": [
      "[1, 2, 4, 5]\n",
      "Temporary Sort: [5, 4, 2, 1]\n"
     ]
    }
   ],
   "source": [
    "#Temporary Sort\n",
    "temp = sorted(lst,reverse=True)\n",
    "#Permanant Sort \n",
    "lst.sort()\n",
    "print(lst)\n",
    "print(f\"Temporary Sort: {temp}\")"
   ]
  },
  {
   "cell_type": "code",
   "execution_count": 14,
   "metadata": {},
   "outputs": [
    {
     "name": "stdout",
     "output_type": "stream",
     "text": [
      "[1, 2, 4, 6]\n"
     ]
    }
   ],
   "source": [
    "lst.pop(3)\n",
    "print(lst)"
   ]
  },
  {
   "cell_type": "code",
   "execution_count": 15,
   "metadata": {},
   "outputs": [
    {
     "name": "stdout",
     "output_type": "stream",
     "text": [
      "[1, 2, 4, 6, ['hello', 'hi']]\n"
     ]
    }
   ],
   "source": [
    "#Adding another List to the Main List \n",
    "\n",
    "lst.append(['hello','hi'])\n",
    "print(lst)"
   ]
  },
  {
   "cell_type": "code",
   "execution_count": 16,
   "metadata": {},
   "outputs": [],
   "source": [
    "#If we want only the Content of the new list we use extend keyword\n",
    "\n",
    "lst.extend(['i','am','good'])"
   ]
  },
  {
   "cell_type": "code",
   "execution_count": 17,
   "metadata": {},
   "outputs": [
    {
     "name": "stdout",
     "output_type": "stream",
     "text": [
      "[1, 2, 4, 6, ['hello', 'hi'], 'i', 'am', 'good']\n"
     ]
    }
   ],
   "source": [
    "print(lst)"
   ]
  },
  {
   "cell_type": "markdown",
   "metadata": {},
   "source": [
    "Matrices "
   ]
  },
  {
   "cell_type": "code",
   "execution_count": 18,
   "metadata": {},
   "outputs": [
    {
     "name": "stdout",
     "output_type": "stream",
     "text": [
      "[[1, 2, 3], [4, 5, 6], [7, 8, 9]]\n"
     ]
    }
   ],
   "source": [
    "lst1 = [1,2,3]\n",
    "lst2 = [4,5,6]\n",
    "lst3 = [7,8,9]\n",
    "\n",
    "matrix = [lst1,lst2,lst3]\n",
    "print(matrix)"
   ]
  },
  {
   "cell_type": "code",
   "execution_count": 28,
   "metadata": {},
   "outputs": [
    {
     "name": "stdout",
     "output_type": "stream",
     "text": [
      "Number of Columns 3\n",
      "Total Number of Elements in the Matrix 9\n"
     ]
    }
   ],
   "source": [
    "print(f\"Number of Columns {len(matrix)}\")\n",
    "\n",
    "total_elements = 0\n",
    "\n",
    "for i in matrix:\n",
    "    total_elements = total_elements + len(i)\n",
    "\n",
    "print(\"Total Number of Elements in the Matrix\",total_elements)"
   ]
  },
  {
   "cell_type": "markdown",
   "metadata": {},
   "source": [
    "**List Comprehension**\n",
    "\n",
    "new_list = [**expression** for **item** in **iterable** if **condition**]"
   ]
  },
  {
   "cell_type": "code",
   "execution_count": 35,
   "metadata": {},
   "outputs": [
    {
     "name": "stdout",
     "output_type": "stream",
     "text": [
      "[0, 4, 8, 12, 16]\n"
     ]
    }
   ],
   "source": [
    "# List Comprehension \n",
    "even = [i*2 for i in range(10) if i%2==0]\n",
    "print(even)"
   ]
  },
  {
   "cell_type": "code",
   "execution_count": 45,
   "metadata": {},
   "outputs": [
    {
     "name": "stdout",
     "output_type": "stream",
     "text": [
      "[(1, 2), (2, 3), (3, 4), (4, 5), (5, 6), (6, 7), (7, 8), (8, 9), (9, 10)]\n"
     ]
    }
   ],
   "source": [
    "mt= [[1,2,3],[4,5,6],[7,8,9]]\n",
    "total = [(j,j+1) for i in mt for j in i]\n",
    "print(total)"
   ]
  },
  {
   "cell_type": "code",
   "execution_count": 37,
   "metadata": {},
   "outputs": [
    {
     "data": {
      "text/plain": [
       "[0, 1, 2, 3, 4, 5, 6, 7, 8, 9, 10, 11, 12, 13, 14]"
      ]
     },
     "execution_count": 37,
     "metadata": {},
     "output_type": "execute_result"
    }
   ],
   "source": [
    "rand = [i for i in range(15)]\n",
    "rand"
   ]
  },
  {
   "cell_type": "code",
   "execution_count": 38,
   "metadata": {},
   "outputs": [
    {
     "name": "stdout",
     "output_type": "stream",
     "text": [
      "56\n"
     ]
    }
   ],
   "source": [
    "even_sum = sum([i for i in rand if i%2==0])\n",
    "print(even_sum)"
   ]
  },
  {
   "cell_type": "code",
   "execution_count": 39,
   "metadata": {},
   "outputs": [
    {
     "name": "stdout",
     "output_type": "stream",
     "text": [
      "56\n"
     ]
    }
   ],
   "source": [
    "even_summ = 0\n",
    "for i in rand:\n",
    "    if i%2==0:\n",
    "        even_summ = i +even_summ\n",
    "print(even_summ)"
   ]
  },
  {
   "cell_type": "code",
   "execution_count": 16,
   "metadata": {},
   "outputs": [
    {
     "name": "stdout",
     "output_type": "stream",
     "text": [
      "[\"i'm not\", 'fine']   2514076498496\n",
      "[\"i'm not\", 'fine']   2514076498496\n",
      "['im', 'fine']   2514062950464\n"
     ]
    }
   ],
   "source": [
    "a = [\"im\",\"fine\"]\n",
    "b = a\n",
    "c = a[:]\n",
    "b[0]= \"i'm not\"\n",
    "print(b,\" \",id(b))\n",
    "print(a,\" \",id(a))\n",
    "print(c,\" \",id(c))"
   ]
  },
  {
   "cell_type": "code",
   "execution_count": 15,
   "metadata": {},
   "outputs": [
    {
     "name": "stdout",
     "output_type": "stream",
     "text": [
      "<built-in method copy of list object at 0x0000024959CDDD80>\n"
     ]
    }
   ],
   "source": [
    "print(c)"
   ]
  },
  {
   "cell_type": "code",
   "execution_count": null,
   "metadata": {},
   "outputs": [],
   "source": []
  }
 ],
 "metadata": {
  "kernelspec": {
   "display_name": "Python 3",
   "language": "python",
   "name": "python3"
  },
  "language_info": {
   "codemirror_mode": {
    "name": "ipython",
    "version": 3
   },
   "file_extension": ".py",
   "mimetype": "text/x-python",
   "name": "python",
   "nbconvert_exporter": "python",
   "pygments_lexer": "ipython3",
   "version": "3.9.13"
  }
 },
 "nbformat": 4,
 "nbformat_minor": 2
}
